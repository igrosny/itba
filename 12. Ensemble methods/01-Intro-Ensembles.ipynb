{
 "cells": [
  {
   "cell_type": "markdown",
   "metadata": {},
   "source": [
    "# Ensembles\n",
    "\n",
    "https://www.youtube.com/watch?v=Yvn3--rIdZg\n",
    "\n",
    "\n",
    "combinación de multiples predictores\n",
    "- Combinación ponderada de los mismos\n",
    "- Pueden ser del mismo tipo o diferentes\n",
    "- Arboles de decisión, SVM, Redes Neuronales, Bayes, Etc\n",
    "- Multiples instancias de entrenamiento del mismo\n",
    "\n",
    "Muchas veces una colección de una gran cantidad de predictores simples puede ser mejor que un predictor complejo"
   ]
  },
  {
   "cell_type": "markdown",
   "metadata": {},
   "source": [
    "### Estrategias:\n",
    "\n",
    "- Committes: Promedio o decisión por mayoria\n",
    "- Promedio ponderado\n",
    "- Tomar el estimaciones como features de otro predictor. Parecido a MLP, solo que en MLP el entrenamiento se hace simultaneamente. Aca no\n",
    "- Mixture of experts. La ponderación depende de la región o zona de los features. Se intenta suele aprender en simultaneo\n"
   ]
  },
  {
   "cell_type": "code",
   "execution_count": null,
   "metadata": {},
   "outputs": [],
   "source": []
  }
 ],
 "metadata": {
  "kernelspec": {
   "display_name": "Python 3",
   "language": "python",
   "name": "python3"
  },
  "language_info": {
   "codemirror_mode": {
    "name": "ipython",
    "version": 3
   },
   "file_extension": ".py",
   "mimetype": "text/x-python",
   "name": "python",
   "nbconvert_exporter": "python",
   "pygments_lexer": "ipython3",
   "version": "3.7.1"
  }
 },
 "nbformat": 4,
 "nbformat_minor": 2
}
