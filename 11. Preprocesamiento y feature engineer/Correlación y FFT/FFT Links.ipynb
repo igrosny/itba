{
 "cells": [
  {
   "cell_type": "markdown",
   "metadata": {},
   "source": [
    "## FFT\n",
    "\n",
    "Algunos links interesantes:\n",
    "\n",
    "http://jakevdp.github.io/blog/2013/08/28/understanding-the-fft/\n",
    "\n",
    "https://gist.github.com/tianqig/63e9a9663e7e46ffebe8e2af73ca1b73\n",
    "\n",
    "https://www.youtube.com/watch?v=spUNpyF58BY\n"
   ]
  }
 ],
 "metadata": {
  "kernelspec": {
   "display_name": "Python (OpLaDyn)",
   "language": "python",
   "name": "opladyn"
  },
  "language_info": {
   "codemirror_mode": {
    "name": "ipython",
    "version": 3
   },
   "file_extension": ".py",
   "mimetype": "text/x-python",
   "name": "python",
   "nbconvert_exporter": "python",
   "pygments_lexer": "ipython3",
   "version": "3.6.5"
  }
 },
 "nbformat": 4,
 "nbformat_minor": 2
}
