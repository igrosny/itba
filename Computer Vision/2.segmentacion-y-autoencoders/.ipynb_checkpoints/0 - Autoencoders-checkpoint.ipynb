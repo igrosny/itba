{
 "cells": [
  {
   "cell_type": "markdown",
   "metadata": {},
   "source": [
    "# Autoencoders\n",
    "<img src=Autoencoder_structure.png>\n",
    "- Sirven para aprender una codificación de los datos eficiente.   \n",
    "- Aprendizaje no supervisado.  \n",
    "\n",
    "Usos:  \n",
    "\n",
    "- Reducción de la dimensionalidad.  \n",
    "- Reconstrucción de datos.  \n",
    "- Detección de anomalías.  \n",
    "- Compresión.  \n",
    "\n"
   ]
  },
  {
   "cell_type": "code",
   "execution_count": 1,
   "metadata": {},
   "outputs": [
    {
     "name": "stderr",
     "output_type": "stream",
     "text": [
      "Using TensorFlow backend.\n"
     ]
    }
   ],
   "source": [
    "import numpy as np\n",
    "import keras\n",
    "import keras.backend as K\n",
    "from keras.datasets import mnist\n",
    "from keras.layers import Input, Dense\n",
    "from keras.models import Model"
   ]
  },
  {
   "cell_type": "code",
   "execution_count": 2,
   "metadata": {},
   "outputs": [],
   "source": [
    "crunch_dim=32\n",
    "\n",
    "layer0 = Input(shape=(784,))\n",
    "crunch = Dense(crunch_dim, activation='relu')(layer0)\n",
    "layer2 = Dense(784, activation='sigmoid')(crunch)\n",
    "\n",
    "autoencoder = Model(layer0, layer2)\n",
    "encoder = Model(layer0, crunch)\n",
    "\n",
    "decrunch = Input(shape=(crunch_dim,))\n",
    "decoded = autoencoder.layers[-1](decrunch)\n",
    "decoder = Model(decrunch, decoded)\n",
    "\n",
    "autoencoder.compile(optimizer='adadelta', loss='binary_crossentropy')"
   ]
  },
  {
   "cell_type": "code",
   "execution_count": 3,
   "metadata": {},
   "outputs": [
    {
     "name": "stdout",
     "output_type": "stream",
     "text": [
      "Epoch 1/50\n",
      "60000/60000 [==============================] - 2s 25us/step - loss: 0.3159\n",
      "Epoch 2/50\n",
      "60000/60000 [==============================] - 1s 25us/step - loss: 0.2310\n",
      "Epoch 3/50\n",
      "60000/60000 [==============================] - 1s 24us/step - loss: 0.2018\n",
      "Epoch 4/50\n",
      "60000/60000 [==============================] - 1s 25us/step - loss: 0.1851\n",
      "Epoch 5/50\n",
      "60000/60000 [==============================] - 1s 24us/step - loss: 0.1732\n",
      "Epoch 6/50\n",
      "60000/60000 [==============================] - 1s 24us/step - loss: 0.1639\n",
      "Epoch 7/50\n",
      "60000/60000 [==============================] - 1s 25us/step - loss: 0.1562\n",
      "Epoch 8/50\n",
      "60000/60000 [==============================] - 1s 24us/step - loss: 0.1496\n",
      "Epoch 9/50\n",
      "60000/60000 [==============================] - 1s 24us/step - loss: 0.1439\n",
      "Epoch 10/50\n",
      "60000/60000 [==============================] - 1s 24us/step - loss: 0.1387\n",
      "Epoch 11/50\n",
      "60000/60000 [==============================] - 1s 24us/step - loss: 0.1341\n",
      "Epoch 12/50\n",
      "60000/60000 [==============================] - 1s 24us/step - loss: 0.1299\n",
      "Epoch 13/50\n",
      "60000/60000 [==============================] - 1s 25us/step - loss: 0.1261\n",
      "Epoch 14/50\n",
      "60000/60000 [==============================] - 1s 24us/step - loss: 0.1226\n",
      "Epoch 15/50\n",
      "60000/60000 [==============================] - 1s 25us/step - loss: 0.1196\n",
      "Epoch 16/50\n",
      "60000/60000 [==============================] - 1s 24us/step - loss: 0.1170\n",
      "Epoch 17/50\n",
      "60000/60000 [==============================] - 1s 25us/step - loss: 0.1148\n",
      "Epoch 18/50\n",
      "60000/60000 [==============================] - 1s 24us/step - loss: 0.1129\n",
      "Epoch 19/50\n",
      "60000/60000 [==============================] - 1s 24us/step - loss: 0.1113\n",
      "Epoch 20/50\n",
      "60000/60000 [==============================] - 1s 24us/step - loss: 0.1099\n",
      "Epoch 21/50\n",
      "60000/60000 [==============================] - 1s 25us/step - loss: 0.1087\n",
      "Epoch 22/50\n",
      "60000/60000 [==============================] - 1s 24us/step - loss: 0.1076\n",
      "Epoch 23/50\n",
      "60000/60000 [==============================] - 1s 25us/step - loss: 0.1067\n",
      "Epoch 24/50\n",
      "60000/60000 [==============================] - 1s 24us/step - loss: 0.1059\n",
      "Epoch 25/50\n",
      "60000/60000 [==============================] - 1s 25us/step - loss: 0.1052\n",
      "Epoch 26/50\n",
      "60000/60000 [==============================] - 1s 24us/step - loss: 0.1045\n",
      "Epoch 27/50\n",
      "60000/60000 [==============================] - 1s 24us/step - loss: 0.1040\n",
      "Epoch 28/50\n",
      "60000/60000 [==============================] - 1s 24us/step - loss: 0.1035\n",
      "Epoch 29/50\n",
      "60000/60000 [==============================] - 1s 24us/step - loss: 0.1030\n",
      "Epoch 30/50\n",
      "60000/60000 [==============================] - 1s 24us/step - loss: 0.1027\n",
      "Epoch 31/50\n",
      "60000/60000 [==============================] - 1s 24us/step - loss: 0.1023\n",
      "Epoch 32/50\n",
      "60000/60000 [==============================] - 1s 24us/step - loss: 0.1020\n",
      "Epoch 33/50\n",
      "60000/60000 [==============================] - 1s 24us/step - loss: 0.1018\n",
      "Epoch 34/50\n",
      "60000/60000 [==============================] - 1s 24us/step - loss: 0.1015\n",
      "Epoch 35/50\n",
      "60000/60000 [==============================] - 1s 24us/step - loss: 0.1013\n",
      "Epoch 36/50\n",
      "60000/60000 [==============================] - 1s 24us/step - loss: 0.1011\n",
      "Epoch 37/50\n",
      "60000/60000 [==============================] - 1s 24us/step - loss: 0.1009\n",
      "Epoch 38/50\n",
      "60000/60000 [==============================] - 1s 24us/step - loss: 0.1007\n",
      "Epoch 39/50\n",
      "60000/60000 [==============================] - 1s 24us/step - loss: 0.1006\n",
      "Epoch 40/50\n",
      "60000/60000 [==============================] - 1s 24us/step - loss: 0.1004\n",
      "Epoch 41/50\n",
      "60000/60000 [==============================] - 1s 24us/step - loss: 0.1003\n",
      "Epoch 42/50\n",
      "60000/60000 [==============================] - 1s 25us/step - loss: 0.1001\n",
      "Epoch 43/50\n",
      "60000/60000 [==============================] - 1s 24us/step - loss: 0.1000\n",
      "Epoch 44/50\n",
      "60000/60000 [==============================] - 1s 25us/step - loss: 0.0998\n",
      "Epoch 45/50\n",
      "60000/60000 [==============================] - 1s 24us/step - loss: 0.0997\n",
      "Epoch 46/50\n",
      "60000/60000 [==============================] - 1s 24us/step - loss: 0.0995\n",
      "Epoch 47/50\n",
      "60000/60000 [==============================] - 1s 24us/step - loss: 0.0994\n",
      "Epoch 48/50\n",
      "60000/60000 [==============================] - 1s 24us/step - loss: 0.0992\n",
      "Epoch 49/50\n",
      "60000/60000 [==============================] - 1s 24us/step - loss: 0.0991\n",
      "Epoch 50/50\n",
      "60000/60000 [==============================] - 1s 24us/step - loss: 0.0989\n"
     ]
    },
    {
     "data": {
      "text/plain": [
       "<keras.callbacks.History at 0x7fdd5b191198>"
      ]
     },
     "execution_count": 3,
     "metadata": {},
     "output_type": "execute_result"
    }
   ],
   "source": [
    "#(train), (test)\n",
    "(Xa, ya), (Xt, yt) = mnist.load_data()\n",
    "#print(Xa.shape, Ya.shape)\n",
    "isize = 28 #image size (square)\n",
    "n_classes = 10\n",
    "epochs = 50\n",
    "Xa = (Xa.astype('float32')/255.0).reshape((Xa.shape[0], np.prod(Xa.shape[1:])))\n",
    "Xt = (Xt.astype('float32')/255.0).reshape((Xt.shape[0], np.prod(Xt.shape[1:])))\n",
    "\n",
    "autoencoder.fit(Xa, Xa, batch_size=128, epochs=epochs, verbose=1, shuffle=True)"
   ]
  },
  {
   "cell_type": "code",
   "execution_count": 5,
   "metadata": {},
   "outputs": [
    {
     "data": {
      "image/png": "[encoded data removed]",
      "text/plain": [
       "<Figure size 1440x288 with 20 Axes>"
      ]
     },
     "metadata": {},
     "output_type": "display_data"
    }
   ],
   "source": [
    "import matplotlib.pyplot as plot\n",
    "\n",
    "encoded_imgs = encoder.predict(Xt)\n",
    "decoded_imgs = decoder.predict(encoded_imgs)\n",
    "\n",
    "def bare(ax):\n",
    "    ax.get_xaxis().set_visible(False)\n",
    "    ax.get_yaxis().set_visible(False)\n",
    "    return ax\n",
    "\n",
    "n = 10\n",
    "plot.figure(figsize=(20,4))\n",
    "for i in range(n):\n",
    "    ax = plot.subplot(2, n, i+1)\n",
    "    plot.imshow(Xt[i].reshape(28,28))\n",
    "    plot.gray()\n",
    "    bare(ax)\n",
    "    ax = plot.subplot(2, n, i+1+n)\n",
    "    plot.imshow(decoded_imgs[i].reshape(28,28))\n",
    "    plot.hot()\n",
    "    bare(ax)\n",
    "plot.show()"
   ]
  },
  {
   "cell_type": "code",
   "execution_count": 12,
   "metadata": {},
   "outputs": [],
   "source": [
    "noise=np.random.normal(size=[10000,784])\n",
    "Xt_n=Xt+0.8*noise"
   ]
  },
  {
   "cell_type": "code",
   "execution_count": 13,
   "metadata": {},
   "outputs": [
    {
     "data": {
      "image/png": "[encoded data removed]",
      "text/plain": [
       "<Figure size 1440x288 with 20 Axes>"
      ]
     },
     "metadata": {},
     "output_type": "display_data"
    }
   ],
   "source": [
    "encoded_imgs = encoder.predict(Xt_n)\n",
    "decoded_imgs = decoder.predict(encoded_imgs)\n",
    "\n",
    "def bare(ax):\n",
    "    ax.get_xaxis().set_visible(False)\n",
    "    ax.get_yaxis().set_visible(False)\n",
    "    return ax\n",
    "\n",
    "n = 10\n",
    "plot.figure(figsize=(20,4))\n",
    "for i in range(n):\n",
    "    ax = plot.subplot(2, n, i+1)\n",
    "    plot.imshow(Xt_n[i].reshape(28,28))\n",
    "    plot.gray()\n",
    "    bare(ax)\n",
    "    ax = plot.subplot(2, n, i+1+n)\n",
    "    plot.imshow(decoded_imgs[i].reshape(28,28))\n",
    "    plot.hot()\n",
    "    bare(ax)\n",
    "plot.show()"
   ]
  },
  {
   "cell_type": "markdown",
   "metadata": {},
   "source": [
    "## Regresión logística con datos originales"
   ]
  },
  {
   "cell_type": "code",
   "execution_count": 14,
   "metadata": {},
   "outputs": [],
   "source": [
    "from sklearn import datasets, neighbors, linear_model\n",
    "logistic = linear_model.LogisticRegression(solver='lbfgs', max_iter=1000,\n",
    "                                           multi_class='multinomial',C=1e6)\n"
   ]
  },
  {
   "cell_type": "code",
   "execution_count": 15,
   "metadata": {},
   "outputs": [
    {
     "data": {
      "text/plain": [
       "LogisticRegression(C=1000000.0, class_weight=None, dual=False,\n",
       "          fit_intercept=True, intercept_scaling=1, max_iter=1000,\n",
       "          multi_class='multinomial', n_jobs=1, penalty='l2',\n",
       "          random_state=None, solver='lbfgs', tol=0.0001, verbose=0,\n",
       "          warm_start=False)"
      ]
     },
     "execution_count": 15,
     "metadata": {},
     "output_type": "execute_result"
    }
   ],
   "source": [
    "logistic.fit(Xa,ya)"
   ]
  },
  {
   "cell_type": "code",
   "execution_count": 16,
   "metadata": {},
   "outputs": [
    {
     "name": "stdout",
     "output_type": "stream",
     "text": [
      "LogisticRegression score: 0.922000\n"
     ]
    }
   ],
   "source": [
    "# Test score\n",
    "print('LogisticRegression score: %f'\n",
    "      % logistic.score(Xt, yt))"
   ]
  },
  {
   "cell_type": "code",
   "execution_count": 17,
   "metadata": {},
   "outputs": [
    {
     "name": "stdout",
     "output_type": "stream",
     "text": [
      "LogisticRegression score: 0.943183\n"
     ]
    }
   ],
   "source": [
    "# Train score\n",
    "print('LogisticRegression score: %f'\n",
    "      % logistic.score(Xa, ya))"
   ]
  },
  {
   "cell_type": "code",
   "execution_count": 20,
   "metadata": {},
   "outputs": [
    {
     "name": "stdout",
     "output_type": "stream",
     "text": [
      "LogisticRegression score: 0.182700\n"
     ]
    }
   ],
   "source": [
    "# Test con ruido\n",
    "print('LogisticRegression score: %f'\n",
    "      % logistic.score(Xt_n, yt))"
   ]
  },
  {
   "cell_type": "code",
   "execution_count": 21,
   "metadata": {},
   "outputs": [
    {
     "name": "stdout",
     "output_type": "stream",
     "text": [
      "LogisticRegression score: 0.678900\n"
     ]
    }
   ],
   "source": [
    "# Test con ruido recuperado\n",
    "print('LogisticRegression score: %f'\n",
    "      % logistic.score(decoded_imgs, yt))"
   ]
  },
  {
   "cell_type": "markdown",
   "metadata": {},
   "source": [
    "## Regresión logística con features"
   ]
  },
  {
   "cell_type": "code",
   "execution_count": 22,
   "metadata": {},
   "outputs": [],
   "source": [
    "Xa_comp=encoder.predict(Xa)"
   ]
  },
  {
   "cell_type": "code",
   "execution_count": 23,
   "metadata": {},
   "outputs": [],
   "source": [
    "Xt_comp=encoder.predict(Xt)"
   ]
  },
  {
   "cell_type": "code",
   "execution_count": 24,
   "metadata": {},
   "outputs": [],
   "source": [
    "Xt_comp_n=encoder.predict(Xt_n)"
   ]
  },
  {
   "cell_type": "code",
   "execution_count": 25,
   "metadata": {},
   "outputs": [],
   "source": [
    "logistic2 = linear_model.LogisticRegression(solver='lbfgs', max_iter=1000,\n",
    "                                           multi_class='multinomial',C=1e6)\n"
   ]
  },
  {
   "cell_type": "code",
   "execution_count": 26,
   "metadata": {},
   "outputs": [
    {
     "data": {
      "text/plain": [
       "LogisticRegression(C=1000000.0, class_weight=None, dual=False,\n",
       "          fit_intercept=True, intercept_scaling=1, max_iter=1000,\n",
       "          multi_class='multinomial', n_jobs=1, penalty='l2',\n",
       "          random_state=None, solver='lbfgs', tol=0.0001, verbose=0,\n",
       "          warm_start=False)"
      ]
     },
     "execution_count": 26,
     "metadata": {},
     "output_type": "execute_result"
    }
   ],
   "source": [
    "logistic2.fit(Xa_comp,ya)"
   ]
  },
  {
   "cell_type": "code",
   "execution_count": 27,
   "metadata": {},
   "outputs": [
    {
     "name": "stdout",
     "output_type": "stream",
     "text": [
      "LogisticRegression score: 0.894283\n"
     ]
    }
   ],
   "source": [
    "print('LogisticRegression score: %f'\n",
    "      % logistic2.score(Xa_comp, ya))"
   ]
  },
  {
   "cell_type": "code",
   "execution_count": 28,
   "metadata": {},
   "outputs": [
    {
     "name": "stdout",
     "output_type": "stream",
     "text": [
      "LogisticRegression score: 0.898100\n"
     ]
    }
   ],
   "source": [
    "print('LogisticRegression score: %f'\n",
    "      % logistic2.score(Xt_comp, yt))"
   ]
  },
  {
   "cell_type": "code",
   "execution_count": 29,
   "metadata": {},
   "outputs": [
    {
     "name": "stdout",
     "output_type": "stream",
     "text": [
      "LogisticRegression score: 0.613300\n"
     ]
    }
   ],
   "source": [
    "print('LogisticRegression score: %f'\n",
    "      % logistic2.score(Xt_comp_n, yt))"
   ]
  },
  {
   "cell_type": "markdown",
   "metadata": {},
   "source": [
    "# Denoising autoencoders"
   ]
  },
  {
   "cell_type": "markdown",
   "metadata": {},
   "source": [
    "Se entrena con la señal con ruido, pero se espera tener la señal correctamente reconstruida a la salida."
   ]
  },
  {
   "cell_type": "code",
   "execution_count": 50,
   "metadata": {},
   "outputs": [],
   "source": [
    "(Xa, ya), (Xt, yt) = mnist.load_data()\n",
    "#print(Xa.shape, Ya.shape)\n",
    "isize = 28 #image size (square)\n",
    "n_classes = 10\n",
    "epochs = 50\n",
    "Xa = (Xa.astype('float32')/255.0).reshape((Xa.shape[0], np.prod(Xa.shape[1:])))\n",
    "Xt = (Xt.astype('float32')/255.0).reshape((Xt.shape[0], np.prod(Xt.shape[1:])))\n",
    "crunch_dim=32\n",
    "\n",
    "layer0 = Input(shape=(784,))\n",
    "crunch = Dense(crunch_dim, activation='relu')(layer0)\n",
    "layer2 = Dense(784, activation='sigmoid')(crunch)\n",
    "\n",
    "autoencoder = Model(layer0, layer2)\n",
    "encoder = Model(layer0, crunch)\n",
    "\n",
    "decrunch = Input(shape=(crunch_dim,))\n",
    "decoded = autoencoder.layers[-1](decrunch)\n",
    "decoder = Model(decrunch, decoded)\n",
    "\n",
    "autoencoder.compile(optimizer='adadelta', loss='binary_crossentropy')"
   ]
  },
  {
   "cell_type": "code",
   "execution_count": 51,
   "metadata": {},
   "outputs": [
    {
     "name": "stdout",
     "output_type": "stream",
     "text": [
      "Epoch 1/50\n",
      "60000/60000 [==============================] - 2s 28us/step - loss: 0.3174\n",
      "Epoch 2/50\n",
      "60000/60000 [==============================] - 2s 26us/step - loss: 0.2402\n",
      "Epoch 3/50\n",
      "60000/60000 [==============================] - 2s 26us/step - loss: 0.2153\n",
      "Epoch 4/50\n",
      "60000/60000 [==============================] - 2s 26us/step - loss: 0.2018\n",
      "Epoch 5/50\n",
      "60000/60000 [==============================] - 2s 26us/step - loss: 0.1932\n",
      "Epoch 6/50\n",
      "60000/60000 [==============================] - 2s 26us/step - loss: 0.1866\n",
      "Epoch 7/50\n",
      "60000/60000 [==============================] - 2s 26us/step - loss: 0.1812\n",
      "Epoch 8/50\n",
      "60000/60000 [==============================] - 2s 26us/step - loss: 0.1767\n",
      "Epoch 9/50\n",
      "60000/60000 [==============================] - 2s 26us/step - loss: 0.1729\n",
      "Epoch 10/50\n",
      "60000/60000 [==============================] - 2s 26us/step - loss: 0.1697\n",
      "Epoch 11/50\n",
      "60000/60000 [==============================] - 2s 26us/step - loss: 0.1670\n",
      "Epoch 12/50\n",
      "60000/60000 [==============================] - 2s 26us/step - loss: 0.1648\n",
      "Epoch 13/50\n",
      "60000/60000 [==============================] - 2s 26us/step - loss: 0.1629\n",
      "Epoch 14/50\n",
      "60000/60000 [==============================] - 2s 26us/step - loss: 0.1612\n",
      "Epoch 15/50\n",
      "60000/60000 [==============================] - 2s 26us/step - loss: 0.1599\n",
      "Epoch 16/50\n",
      "60000/60000 [==============================] - 2s 26us/step - loss: 0.1586\n",
      "Epoch 17/50\n",
      "60000/60000 [==============================] - 2s 26us/step - loss: 0.1576\n",
      "Epoch 18/50\n",
      "60000/60000 [==============================] - 2s 26us/step - loss: 0.1567\n",
      "Epoch 19/50\n",
      "60000/60000 [==============================] - 2s 26us/step - loss: 0.1558\n",
      "Epoch 20/50\n",
      "60000/60000 [==============================] - 2s 26us/step - loss: 0.1551\n",
      "Epoch 21/50\n",
      "60000/60000 [==============================] - 2s 26us/step - loss: 0.1544\n",
      "Epoch 22/50\n",
      "60000/60000 [==============================] - 2s 26us/step - loss: 0.1538\n",
      "Epoch 23/50\n",
      "60000/60000 [==============================] - 2s 26us/step - loss: 0.1533\n",
      "Epoch 24/50\n",
      "60000/60000 [==============================] - 2s 26us/step - loss: 0.1528\n",
      "Epoch 25/50\n",
      "60000/60000 [==============================] - 2s 26us/step - loss: 0.1524\n",
      "Epoch 26/50\n",
      "60000/60000 [==============================] - 2s 26us/step - loss: 0.1520\n",
      "Epoch 27/50\n",
      "60000/60000 [==============================] - 2s 26us/step - loss: 0.1517\n",
      "Epoch 28/50\n",
      "60000/60000 [==============================] - 2s 26us/step - loss: 0.1514\n",
      "Epoch 29/50\n",
      "60000/60000 [==============================] - 2s 26us/step - loss: 0.1511\n",
      "Epoch 30/50\n",
      "60000/60000 [==============================] - 2s 26us/step - loss: 0.1508\n",
      "Epoch 31/50\n",
      "60000/60000 [==============================] - 2s 26us/step - loss: 0.1506\n",
      "Epoch 32/50\n",
      "60000/60000 [==============================] - 2s 26us/step - loss: 0.1504\n",
      "Epoch 33/50\n",
      "60000/60000 [==============================] - 2s 26us/step - loss: 0.1502\n",
      "Epoch 34/50\n",
      "60000/60000 [==============================] - 2s 26us/step - loss: 0.1500\n",
      "Epoch 35/50\n",
      "60000/60000 [==============================] - 2s 26us/step - loss: 0.1499\n",
      "Epoch 36/50\n",
      "60000/60000 [==============================] - 2s 26us/step - loss: 0.1497\n",
      "Epoch 37/50\n",
      "60000/60000 [==============================] - 2s 26us/step - loss: 0.1496\n",
      "Epoch 38/50\n",
      "60000/60000 [==============================] - 2s 26us/step - loss: 0.1494\n",
      "Epoch 39/50\n",
      "60000/60000 [==============================] - 2s 26us/step - loss: 0.1493\n",
      "Epoch 40/50\n",
      "60000/60000 [==============================] - 2s 26us/step - loss: 0.1492\n",
      "Epoch 41/50\n",
      "60000/60000 [==============================] - 2s 26us/step - loss: 0.1491\n",
      "Epoch 42/50\n",
      "60000/60000 [==============================] - 2s 26us/step - loss: 0.1491\n",
      "Epoch 43/50\n",
      "60000/60000 [==============================] - 2s 26us/step - loss: 0.1490\n",
      "Epoch 44/50\n",
      "60000/60000 [==============================] - 2s 26us/step - loss: 0.1489\n",
      "Epoch 45/50\n",
      "60000/60000 [==============================] - 2s 26us/step - loss: 0.1488\n",
      "Epoch 46/50\n",
      "60000/60000 [==============================] - 2s 26us/step - loss: 0.1488\n",
      "Epoch 47/50\n",
      "60000/60000 [==============================] - 2s 26us/step - loss: 0.1487\n",
      "Epoch 48/50\n",
      "60000/60000 [==============================] - 2s 26us/step - loss: 0.1486\n",
      "Epoch 49/50\n",
      "60000/60000 [==============================] - 2s 26us/step - loss: 0.1486\n",
      "Epoch 50/50\n",
      "60000/60000 [==============================] - 2s 26us/step - loss: 0.1485\n"
     ]
    },
    {
     "data": {
      "text/plain": [
       "<keras.callbacks.History at 0x7fdc93d96cc0>"
      ]
     },
     "execution_count": 51,
     "metadata": {},
     "output_type": "execute_result"
    }
   ],
   "source": [
    "noise=np.random.normal(size=[60000,784])\n",
    "Xa_n=Xa+0.8*noise\n",
    "n_classes = 10\n",
    "epochs = 50\n",
    "autoencoder.fit(Xa_n, Xa, batch_size=128, epochs=epochs, verbose=1, shuffle=True)"
   ]
  },
  {
   "cell_type": "code",
   "execution_count": 52,
   "metadata": {},
   "outputs": [
    {
     "data": {
      "image/png": "[encoded data removed]",
      "text/plain": [
       "<Figure size 1440x288 with 20 Axes>"
      ]
     },
     "metadata": {},
     "output_type": "display_data"
    }
   ],
   "source": [
    "encoded_imgs = encoder.predict(Xt_n)\n",
    "decoded_imgs = decoder.predict(encoded_imgs)\n",
    "\n",
    "def bare(ax):\n",
    "    ax.get_xaxis().set_visible(False)\n",
    "    ax.get_yaxis().set_visible(False)\n",
    "    return ax\n",
    "\n",
    "n = 10\n",
    "plot.figure(figsize=(20,4))\n",
    "for i in range(n):\n",
    "    ax = plot.subplot(2, n, i+1)\n",
    "    plot.imshow(Xt_n[i].reshape(28,28))\n",
    "    plot.gray()\n",
    "    bare(ax)\n",
    "    ax = plot.subplot(2, n, i+1+n)\n",
    "    plot.imshow(decoded_imgs[i].reshape(28,28))\n",
    "    plot.hot()\n",
    "    bare(ax)\n",
    "plot.show()"
   ]
  },
  {
   "cell_type": "code",
   "execution_count": 53,
   "metadata": {},
   "outputs": [],
   "source": [
    "logistic = linear_model.LogisticRegression(solver='lbfgs', max_iter=1000,\n",
    "                                           multi_class='multinomial',C=1e6)\n"
   ]
  },
  {
   "cell_type": "code",
   "execution_count": 59,
   "metadata": {},
   "outputs": [
    {
     "data": {
      "text/plain": [
       "LogisticRegression(C=1000000.0, class_weight=None, dual=False,\n",
       "          fit_intercept=True, intercept_scaling=1, max_iter=1000,\n",
       "          multi_class='multinomial', n_jobs=1, penalty='l2',\n",
       "          random_state=None, solver='lbfgs', tol=0.0001, verbose=0,\n",
       "          warm_start=False)"
      ]
     },
     "execution_count": 59,
     "metadata": {},
     "output_type": "execute_result"
    }
   ],
   "source": [
    "logistic.fit(Xa,ya)"
   ]
  },
  {
   "cell_type": "code",
   "execution_count": 60,
   "metadata": {},
   "outputs": [
    {
     "name": "stdout",
     "output_type": "stream",
     "text": [
      "LogisticRegression score: 0.922000\n"
     ]
    }
   ],
   "source": [
    "# Test score\n",
    "print('LogisticRegression score: %f'\n",
    "      % logistic.score(Xt, yt))"
   ]
  },
  {
   "cell_type": "code",
   "execution_count": 61,
   "metadata": {},
   "outputs": [
    {
     "name": "stdout",
     "output_type": "stream",
     "text": [
      "LogisticRegression score: 0.943183\n"
     ]
    }
   ],
   "source": [
    "# Train score\n",
    "print('LogisticRegression score: %f'\n",
    "      % logistic.score(Xa, ya))"
   ]
  },
  {
   "cell_type": "code",
   "execution_count": 62,
   "metadata": {},
   "outputs": [
    {
     "name": "stdout",
     "output_type": "stream",
     "text": [
      "LogisticRegression score: 0.182700\n"
     ]
    }
   ],
   "source": [
    "# Test con ruido\n",
    "print('LogisticRegression score: %f'\n",
    "      % logistic.score(Xt_n, yt))"
   ]
  },
  {
   "cell_type": "code",
   "execution_count": 63,
   "metadata": {},
   "outputs": [
    {
     "name": "stdout",
     "output_type": "stream",
     "text": [
      "LogisticRegression score: 0.770600\n"
     ]
    }
   ],
   "source": [
    "# Test con ruido recuperado\n",
    "print('LogisticRegression score: %f'\n",
    "      % logistic.score(decoded_imgs, yt))"
   ]
  },
  {
   "cell_type": "markdown",
   "metadata": {},
   "source": [
    "# MLP autoencoders"
   ]
  },
  {
   "cell_type": "code",
   "execution_count": 103,
   "metadata": {},
   "outputs": [],
   "source": [
    "crunch_dim=[256,32]\n",
    "\n",
    "layer0 = Input(shape=(784,))\n",
    "h1=Dense(crunch_dim[0], activation='relu')(layer0)\n",
    "crunch = Dense(crunch_dim[1], activation='relu')(h1)\n",
    "h2=Dense(crunch_dim[0], activation='relu')(crunch)\n",
    "layer2 = Dense(784, activation='sigmoid')(h2)\n",
    "\n",
    "autoencoder = Model(layer0, layer2)\n",
    "encoder = Model(layer0, crunch)\n",
    "\n",
    "decrunch = Input(shape=(crunch_dim[1],))\n",
    "h3 = autoencoder.layers[-2](decrunch)\n",
    "decoded=autoencoder.layers[-1](h3)\n",
    "decoder = Model(decrunch, decoded)\n",
    "\n",
    "autoencoder.compile(optimizer='adadelta', loss='binary_crossentropy')"
   ]
  },
  {
   "cell_type": "code",
   "execution_count": 104,
   "metadata": {},
   "outputs": [
    {
     "name": "stdout",
     "output_type": "stream",
     "text": [
      "_________________________________________________________________\n",
      "Layer (type)                 Output Shape              Param #   \n",
      "=================================================================\n",
      "input_33 (InputLayer)        (None, 784)               0         \n",
      "_________________________________________________________________\n",
      "dense_49 (Dense)             (None, 256)               200960    \n",
      "_________________________________________________________________\n",
      "dense_50 (Dense)             (None, 32)                8224      \n",
      "=================================================================\n",
      "Total params: 209,184\n",
      "Trainable params: 209,184\n",
      "Non-trainable params: 0\n",
      "_________________________________________________________________\n"
     ]
    }
   ],
   "source": [
    "encoder.summary()"
   ]
  },
  {
   "cell_type": "code",
   "execution_count": 105,
   "metadata": {},
   "outputs": [
    {
     "name": "stdout",
     "output_type": "stream",
     "text": [
      "_________________________________________________________________\n",
      "Layer (type)                 Output Shape              Param #   \n",
      "=================================================================\n",
      "input_34 (InputLayer)        (None, 32)                0         \n",
      "_________________________________________________________________\n",
      "dense_51 (Dense)             (None, 256)               8448      \n",
      "_________________________________________________________________\n",
      "dense_52 (Dense)             (None, 784)               201488    \n",
      "=================================================================\n",
      "Total params: 209,936\n",
      "Trainable params: 209,936\n",
      "Non-trainable params: 0\n",
      "_________________________________________________________________\n"
     ]
    }
   ],
   "source": [
    "decoder.summary()"
   ]
  },
  {
   "cell_type": "code",
   "execution_count": 106,
   "metadata": {},
   "outputs": [
    {
     "name": "stdout",
     "output_type": "stream",
     "text": [
      "_________________________________________________________________\n",
      "Layer (type)                 Output Shape              Param #   \n",
      "=================================================================\n",
      "input_33 (InputLayer)        (None, 784)               0         \n",
      "_________________________________________________________________\n",
      "dense_49 (Dense)             (None, 256)               200960    \n",
      "_________________________________________________________________\n",
      "dense_50 (Dense)             (None, 32)                8224      \n",
      "_________________________________________________________________\n",
      "dense_51 (Dense)             (None, 256)               8448      \n",
      "_________________________________________________________________\n",
      "dense_52 (Dense)             (None, 784)               201488    \n",
      "=================================================================\n",
      "Total params: 419,120\n",
      "Trainable params: 419,120\n",
      "Non-trainable params: 0\n",
      "_________________________________________________________________\n"
     ]
    }
   ],
   "source": [
    "autoencoder.summary()"
   ]
  },
  {
   "cell_type": "code",
   "execution_count": 107,
   "metadata": {},
   "outputs": [
    {
     "name": "stdout",
     "output_type": "stream",
     "text": [
      "Epoch 1/50\n",
      "60000/60000 [==============================] - 3s 52us/step - loss: 0.2777\n",
      "Epoch 2/50\n",
      "60000/60000 [==============================] - 3s 49us/step - loss: 0.2288\n",
      "Epoch 3/50\n",
      "60000/60000 [==============================] - 3s 49us/step - loss: 0.2044\n",
      "Epoch 4/50\n",
      "60000/60000 [==============================] - 3s 49us/step - loss: 0.1908\n",
      "Epoch 5/50\n",
      "60000/60000 [==============================] - 3s 49us/step - loss: 0.1816\n",
      "Epoch 6/50\n",
      "60000/60000 [==============================] - 3s 49us/step - loss: 0.1753\n",
      "Epoch 7/50\n",
      "60000/60000 [==============================] - 3s 49us/step - loss: 0.1705\n",
      "Epoch 8/50\n",
      "60000/60000 [==============================] - 3s 49us/step - loss: 0.1667\n",
      "Epoch 9/50\n",
      "60000/60000 [==============================] - 3s 49us/step - loss: 0.1636\n",
      "Epoch 10/50\n",
      "60000/60000 [==============================] - 3s 49us/step - loss: 0.1610\n",
      "Epoch 11/50\n",
      "60000/60000 [==============================] - 3s 49us/step - loss: 0.1588\n",
      "Epoch 12/50\n",
      "60000/60000 [==============================] - 3s 49us/step - loss: 0.1567\n",
      "Epoch 13/50\n",
      "60000/60000 [==============================] - 3s 49us/step - loss: 0.1548\n",
      "Epoch 14/50\n",
      "60000/60000 [==============================] - 3s 49us/step - loss: 0.1532\n",
      "Epoch 15/50\n",
      "60000/60000 [==============================] - 3s 49us/step - loss: 0.1517\n",
      "Epoch 16/50\n",
      "60000/60000 [==============================] - 3s 49us/step - loss: 0.1504\n",
      "Epoch 17/50\n",
      "60000/60000 [==============================] - 3s 49us/step - loss: 0.1493\n",
      "Epoch 18/50\n",
      "60000/60000 [==============================] - 3s 49us/step - loss: 0.1482\n",
      "Epoch 19/50\n",
      "60000/60000 [==============================] - 3s 49us/step - loss: 0.1472\n",
      "Epoch 20/50\n",
      "60000/60000 [==============================] - 3s 49us/step - loss: 0.1463\n",
      "Epoch 21/50\n",
      "60000/60000 [==============================] - 3s 49us/step - loss: 0.1454\n",
      "Epoch 22/50\n",
      "60000/60000 [==============================] - 3s 49us/step - loss: 0.1446\n",
      "Epoch 23/50\n",
      "60000/60000 [==============================] - 3s 49us/step - loss: 0.1439\n",
      "Epoch 24/50\n",
      "60000/60000 [==============================] - 3s 49us/step - loss: 0.1432\n",
      "Epoch 25/50\n",
      "60000/60000 [==============================] - 3s 49us/step - loss: 0.1425\n",
      "Epoch 26/50\n",
      "60000/60000 [==============================] - 3s 49us/step - loss: 0.1419\n",
      "Epoch 27/50\n",
      "60000/60000 [==============================] - 3s 49us/step - loss: 0.1413\n",
      "Epoch 28/50\n",
      "60000/60000 [==============================] - 3s 49us/step - loss: 0.1407\n",
      "Epoch 29/50\n",
      "60000/60000 [==============================] - 3s 49us/step - loss: 0.1402\n",
      "Epoch 30/50\n",
      "60000/60000 [==============================] - 3s 49us/step - loss: 0.1396\n",
      "Epoch 31/50\n",
      "60000/60000 [==============================] - 3s 49us/step - loss: 0.1392\n",
      "Epoch 32/50\n",
      "60000/60000 [==============================] - 3s 49us/step - loss: 0.1387\n",
      "Epoch 33/50\n",
      "60000/60000 [==============================] - 3s 49us/step - loss: 0.1383\n",
      "Epoch 34/50\n",
      "60000/60000 [==============================] - 3s 49us/step - loss: 0.1378\n",
      "Epoch 35/50\n",
      "60000/60000 [==============================] - 3s 49us/step - loss: 0.1374\n",
      "Epoch 36/50\n",
      "60000/60000 [==============================] - 3s 49us/step - loss: 0.1370\n",
      "Epoch 37/50\n",
      "60000/60000 [==============================] - 3s 49us/step - loss: 0.1366\n",
      "Epoch 38/50\n",
      "60000/60000 [==============================] - 3s 49us/step - loss: 0.1363\n",
      "Epoch 39/50\n",
      "60000/60000 [==============================] - 3s 49us/step - loss: 0.1359\n",
      "Epoch 40/50\n",
      "60000/60000 [==============================] - 3s 49us/step - loss: 0.1355\n",
      "Epoch 41/50\n",
      "60000/60000 [==============================] - 3s 49us/step - loss: 0.1352\n",
      "Epoch 42/50\n",
      "60000/60000 [==============================] - 3s 49us/step - loss: 0.1349\n",
      "Epoch 43/50\n",
      "60000/60000 [==============================] - 3s 49us/step - loss: 0.1346\n",
      "Epoch 44/50\n",
      "60000/60000 [==============================] - 3s 49us/step - loss: 0.1342\n",
      "Epoch 45/50\n",
      "60000/60000 [==============================] - 3s 49us/step - loss: 0.1340\n",
      "Epoch 46/50\n",
      "60000/60000 [==============================] - 3s 49us/step - loss: 0.1337\n",
      "Epoch 47/50\n",
      "60000/60000 [==============================] - 3s 49us/step - loss: 0.1334\n",
      "Epoch 48/50\n",
      "60000/60000 [==============================] - 3s 49us/step - loss: 0.1331\n",
      "Epoch 49/50\n",
      "60000/60000 [==============================] - 3s 49us/step - loss: 0.1328\n",
      "Epoch 50/50\n",
      "60000/60000 [==============================] - 3s 49us/step - loss: 0.1325\n"
     ]
    },
    {
     "data": {
      "text/plain": [
       "<keras.callbacks.History at 0x7fdd1cab0f28>"
      ]
     },
     "execution_count": 107,
     "metadata": {},
     "output_type": "execute_result"
    }
   ],
   "source": [
    "#(train), (test)\n",
    "(Xa, ya), (Xt, yt) = mnist.load_data()\n",
    "#print(Xa.shape, Ya.shape)\n",
    "isize = 28 #image size (square)\n",
    "n_classes = 10\n",
    "epochs = 50\n",
    "Xa = (Xa.astype('float32')/255.0).reshape((Xa.shape[0], np.prod(Xa.shape[1:])))\n",
    "Xt = (Xt.astype('float32')/255.0).reshape((Xt.shape[0], np.prod(Xt.shape[1:])))\n",
    "\n",
    "autoencoder.fit(Xa_n, Xa, batch_size=128, epochs=epochs, verbose=1, shuffle=True)"
   ]
  },
  {
   "cell_type": "code",
   "execution_count": 108,
   "metadata": {},
   "outputs": [
    {
     "data": {
      "image/png": "[encoded data removed]",
      "text/plain": [
       "<Figure size 1440x288 with 20 Axes>"
      ]
     },
     "metadata": {},
     "output_type": "display_data"
    }
   ],
   "source": [
    "import matplotlib.pyplot as plot\n",
    "\n",
    "decoded_imgs = autoencoder.predict(Xt)\n",
    "\n",
    "def bare(ax):\n",
    "    ax.get_xaxis().set_visible(False)\n",
    "    ax.get_yaxis().set_visible(False)\n",
    "    return ax\n",
    "\n",
    "n = 10\n",
    "plot.figure(figsize=(20,4))\n",
    "for i in range(n):\n",
    "    ax = plot.subplot(2, n, i+1)\n",
    "    plot.imshow(Xt[i].reshape(28,28))\n",
    "    plot.gray()\n",
    "    bare(ax)\n",
    "    ax = plot.subplot(2, n, i+1+n)\n",
    "    plot.imshow(decoded_imgs[i].reshape(28,28))\n",
    "    plot.hot()\n",
    "    bare(ax)\n",
    "plot.show()"
   ]
  },
  {
   "cell_type": "code",
   "execution_count": 109,
   "metadata": {},
   "outputs": [],
   "source": [
    "noise=np.random.normal(size=[10000,784])\n",
    "Xt_n=Xt+0.8*noise"
   ]
  },
  {
   "cell_type": "code",
   "execution_count": 110,
   "metadata": {},
   "outputs": [
    {
     "data": {
      "image/png": "[encoded data removed]",
      "text/plain": [
       "<Figure size 1440x288 with 20 Axes>"
      ]
     },
     "metadata": {},
     "output_type": "display_data"
    }
   ],
   "source": [
    "decoded_imgs = autoencoder.predict(Xt)\n",
    "\n",
    "def bare(ax):\n",
    "    ax.get_xaxis().set_visible(False)\n",
    "    ax.get_yaxis().set_visible(False)\n",
    "    return ax\n",
    "\n",
    "n = 10\n",
    "plot.figure(figsize=(20,4))\n",
    "for i in range(n):\n",
    "    ax = plot.subplot(2, n, i+1)\n",
    "    plot.imshow(Xt_n[i].reshape(28,28))\n",
    "    plot.gray()\n",
    "    bare(ax)\n",
    "    ax = plot.subplot(2, n, i+1+n)\n",
    "    plot.imshow(decoded_imgs[i].reshape(28,28))\n",
    "    plot.hot()\n",
    "    bare(ax)\n",
    "plot.show()"
   ]
  },
  {
   "cell_type": "markdown",
   "metadata": {},
   "source": [
    "## Regresión logística con datos originales"
   ]
  },
  {
   "cell_type": "code",
   "execution_count": 111,
   "metadata": {},
   "outputs": [],
   "source": [
    "from sklearn import datasets, neighbors, linear_model\n",
    "logistic = linear_model.LogisticRegression(solver='lbfgs', max_iter=1000,\n",
    "                                           multi_class='multinomial',C=1e6)\n"
   ]
  },
  {
   "cell_type": "code",
   "execution_count": 112,
   "metadata": {},
   "outputs": [
    {
     "data": {
      "text/plain": [
       "LogisticRegression(C=1000000.0, class_weight=None, dual=False,\n",
       "          fit_intercept=True, intercept_scaling=1, max_iter=1000,\n",
       "          multi_class='multinomial', n_jobs=1, penalty='l2',\n",
       "          random_state=None, solver='lbfgs', tol=0.0001, verbose=0,\n",
       "          warm_start=False)"
      ]
     },
     "execution_count": 112,
     "metadata": {},
     "output_type": "execute_result"
    }
   ],
   "source": [
    "logistic.fit(Xa,ya)"
   ]
  },
  {
   "cell_type": "code",
   "execution_count": 113,
   "metadata": {},
   "outputs": [
    {
     "name": "stdout",
     "output_type": "stream",
     "text": [
      "LogisticRegression score: 0.922000\n"
     ]
    }
   ],
   "source": [
    "# Test score\n",
    "print('LogisticRegression score: %f'\n",
    "      % logistic.score(Xt, yt))"
   ]
  },
  {
   "cell_type": "code",
   "execution_count": 114,
   "metadata": {},
   "outputs": [
    {
     "name": "stdout",
     "output_type": "stream",
     "text": [
      "LogisticRegression score: 0.943183\n"
     ]
    }
   ],
   "source": [
    "# Train score\n",
    "print('LogisticRegression score: %f'\n",
    "      % logistic.score(Xa, ya))"
   ]
  },
  {
   "cell_type": "code",
   "execution_count": 115,
   "metadata": {},
   "outputs": [
    {
     "name": "stdout",
     "output_type": "stream",
     "text": [
      "LogisticRegression score: 0.185600\n"
     ]
    }
   ],
   "source": [
    "# Test con ruido\n",
    "print('LogisticRegression score: %f'\n",
    "      % logistic.score(Xt_n, yt))"
   ]
  },
  {
   "cell_type": "code",
   "execution_count": 116,
   "metadata": {},
   "outputs": [
    {
     "name": "stdout",
     "output_type": "stream",
     "text": [
      "LogisticRegression score: 0.895300\n"
     ]
    }
   ],
   "source": [
    "# Test con ruido recuperado\n",
    "print('LogisticRegression score: %f'\n",
    "      % logistic.score(decoded_imgs, yt))"
   ]
  },
  {
   "cell_type": "markdown",
   "metadata": {},
   "source": [
    "## Regresión logística con features"
   ]
  },
  {
   "cell_type": "code",
   "execution_count": 117,
   "metadata": {},
   "outputs": [],
   "source": [
    "Xa_comp=encoder.predict(Xa)"
   ]
  },
  {
   "cell_type": "code",
   "execution_count": 118,
   "metadata": {},
   "outputs": [],
   "source": [
    "Xt_comp=encoder.predict(Xt)"
   ]
  },
  {
   "cell_type": "code",
   "execution_count": 119,
   "metadata": {},
   "outputs": [],
   "source": [
    "Xt_comp_n=encoder.predict(Xt_n)"
   ]
  },
  {
   "cell_type": "code",
   "execution_count": 120,
   "metadata": {},
   "outputs": [],
   "source": [
    "logistic2 = linear_model.LogisticRegression(solver='lbfgs', max_iter=1000,\n",
    "                                           multi_class='multinomial',C=1e6)\n"
   ]
  },
  {
   "cell_type": "code",
   "execution_count": 121,
   "metadata": {},
   "outputs": [
    {
     "data": {
      "text/plain": [
       "LogisticRegression(C=1000000.0, class_weight=None, dual=False,\n",
       "          fit_intercept=True, intercept_scaling=1, max_iter=1000,\n",
       "          multi_class='multinomial', n_jobs=1, penalty='l2',\n",
       "          random_state=None, solver='lbfgs', tol=0.0001, verbose=0,\n",
       "          warm_start=False)"
      ]
     },
     "execution_count": 121,
     "metadata": {},
     "output_type": "execute_result"
    }
   ],
   "source": [
    "logistic2.fit(Xa_comp,ya)"
   ]
  },
  {
   "cell_type": "code",
   "execution_count": 122,
   "metadata": {},
   "outputs": [
    {
     "name": "stdout",
     "output_type": "stream",
     "text": [
      "LogisticRegression score: 0.913133\n"
     ]
    }
   ],
   "source": [
    "print('LogisticRegression score: %f'\n",
    "      % logistic2.score(Xa_comp, ya))"
   ]
  },
  {
   "cell_type": "code",
   "execution_count": 123,
   "metadata": {},
   "outputs": [
    {
     "name": "stdout",
     "output_type": "stream",
     "text": [
      "LogisticRegression score: 0.917200\n"
     ]
    }
   ],
   "source": [
    "print('LogisticRegression score: %f'\n",
    "      % logistic2.score(Xt_comp, yt))"
   ]
  },
  {
   "cell_type": "code",
   "execution_count": 124,
   "metadata": {},
   "outputs": [
    {
     "name": "stdout",
     "output_type": "stream",
     "text": [
      "LogisticRegression score: 0.669800\n"
     ]
    }
   ],
   "source": [
    "print('LogisticRegression score: %f'\n",
    "      % logistic2.score(Xt_comp_n, yt))"
   ]
  },
  {
   "cell_type": "markdown",
   "metadata": {},
   "source": [
    "# Auntoencoders con CNN\n",
    "\n",
    "- En el decoder se debe implementar la operación inversa de la convolución. Es decir, en base a una imagen convolucionada y un kernel, cual es la imagen original.\n",
    "- Esta operación es muy pesada computacionalmente.\n",
    "- En general se utiliza la transponsed convolution.\n",
    "\n",
    "Para una explicación detallada de los distintos tipos de convolución, visitar:\n",
    "\n",
    "http://deeplearning.net/software/theano/tutorial/conv_arithmetic.html"
   ]
  },
  {
   "cell_type": "code",
   "execution_count": 203,
   "metadata": {},
   "outputs": [],
   "source": [
    "from keras.layers import Input, Dense, Conv2D, MaxPooling2D, UpSampling2D\n",
    "from keras.models import Model\n",
    "input_img = Input(shape=(28, 28, 1))  # adapt this if using `channels_first` image data format\n",
    "\n",
    "x = Conv2D(16, (3, 3), activation='relu', padding='same')(input_img)\n",
    "x = MaxPooling2D((2, 2), padding='same')(x)\n",
    "x = Conv2D(8, (4, 4), activation='relu', padding='same')(x)\n",
    "x = MaxPooling2D((2, 2), padding='same')(x)\n",
    "x = Conv2D(8, (5, 5), activation='relu', padding='same')(x)\n",
    "x = MaxPooling2D((2, 2), padding='same')(x)\n",
    "encoded = Conv2D(8, (5, 5), activation='relu', padding='same')(x)\n",
    "\n",
    "# at this point the representation is (4, 4, 8) i.e. 128-dimensional\n",
    "x = UpSampling2D((2, 2))(encoded)\n",
    "x = Conv2D(8, (5, 5), activation='relu', padding='same')(x)\n",
    "x = UpSampling2D((2, 2))(x)\n",
    "x = Conv2D(8, (4, 4), activation='relu', padding='same')(x)\n",
    "x = UpSampling2D((2, 2))(x)\n",
    "x = Conv2D(16, (3, 3), activation='relu')(x) #ojo con el padding! acá está la magia\n",
    "x = UpSampling2D((2, 2))(x)\n",
    "decoded = Conv2D(1, (3, 3), activation='sigmoid', padding='same')(x)\n",
    "\n",
    "autoencoder = Model(input_img, decoded)\n",
    "autoencoder.compile(optimizer='adadelta', loss='binary_crossentropy')"
   ]
  },
  {
   "cell_type": "code",
   "execution_count": 204,
   "metadata": {},
   "outputs": [],
   "source": [
    "from keras.datasets import mnist\n",
    "import numpy as np\n",
    "\n",
    "(x_train, y_train), (x_test, y_test) = mnist.load_data()\n",
    "\n",
    "x_train = x_train.astype('float32') / 255.\n",
    "x_test = x_test.astype('float32') / 255.\n",
    "x_train = np.reshape(x_train, (len(x_train), 28, 28, 1))  # adapt this if using `channels_first` image data format\n",
    "x_test = np.reshape(x_test, (len(x_test), 28, 28, 1))  # adapt this if using `channels_first` image data format\n",
    "x_test_n=x_test+0.8*np.random.normal(size=[10000,28,28,1])\n",
    "x_train_n=x_train+0.8*np.random.normal(size=[60000,28,28,1])"
   ]
  },
  {
   "cell_type": "code",
   "execution_count": 205,
   "metadata": {},
   "outputs": [
    {
     "name": "stdout",
     "output_type": "stream",
     "text": [
      "_________________________________________________________________\n",
      "Layer (type)                 Output Shape              Param #   \n",
      "=================================================================\n",
      "input_43 (InputLayer)        (None, 28, 28, 1)         0         \n",
      "_________________________________________________________________\n",
      "conv2d_58 (Conv2D)           (None, 28, 28, 16)        160       \n",
      "_________________________________________________________________\n",
      "max_pooling2d_26 (MaxPooling (None, 14, 14, 16)        0         \n",
      "_________________________________________________________________\n",
      "conv2d_59 (Conv2D)           (None, 14, 14, 8)         2056      \n",
      "_________________________________________________________________\n",
      "max_pooling2d_27 (MaxPooling (None, 7, 7, 8)           0         \n",
      "_________________________________________________________________\n",
      "conv2d_60 (Conv2D)           (None, 7, 7, 8)           1608      \n",
      "_________________________________________________________________\n",
      "max_pooling2d_28 (MaxPooling (None, 4, 4, 8)           0         \n",
      "_________________________________________________________________\n",
      "up_sampling2d_26 (UpSampling (None, 8, 8, 8)           0         \n",
      "_________________________________________________________________\n",
      "conv2d_62 (Conv2D)           (None, 8, 8, 8)           1608      \n",
      "_________________________________________________________________\n",
      "up_sampling2d_27 (UpSampling (None, 16, 16, 8)         0         \n",
      "_________________________________________________________________\n",
      "conv2d_63 (Conv2D)           (None, 16, 16, 8)         1032      \n",
      "_________________________________________________________________\n",
      "up_sampling2d_28 (UpSampling (None, 32, 32, 8)         0         \n",
      "_________________________________________________________________\n",
      "conv2d_64 (Conv2D)           (None, 30, 30, 16)        1168      \n",
      "_________________________________________________________________\n",
      "up_sampling2d_29 (UpSampling (None, 60, 60, 16)        0         \n",
      "_________________________________________________________________\n",
      "conv2d_65 (Conv2D)           (None, 60, 60, 1)         145       \n",
      "=================================================================\n",
      "Total params: 7,777\n",
      "Trainable params: 7,777\n",
      "Non-trainable params: 0\n",
      "_________________________________________________________________\n"
     ]
    }
   ],
   "source": [
    "autoencoder.summary()"
   ]
  },
  {
   "cell_type": "code",
   "execution_count": 202,
   "metadata": {},
   "outputs": [
    {
     "ename": "ValueError",
     "evalue": "Error when checking target: expected conv2d_57 to have shape (52, 52, 1) but got array with shape (28, 28, 1)",
     "output_type": "error",
     "traceback": [
      "\u001b[0;31m---------------------------------------------------------------------------\u001b[0m",
      "\u001b[0;31mValueError\u001b[0m                                Traceback (most recent call last)",
      "\u001b[0;32m<ipython-input-202-3634015c4f79>\u001b[0m in \u001b[0;36m<module>\u001b[0;34m()\u001b[0m\n\u001b[1;32m      3\u001b[0m                 \u001b[0mbatch_size\u001b[0m\u001b[0;34m=\u001b[0m\u001b[0;36m128\u001b[0m\u001b[0;34m,\u001b[0m\u001b[0;34m\u001b[0m\u001b[0m\n\u001b[1;32m      4\u001b[0m                 \u001b[0mshuffle\u001b[0m\u001b[0;34m=\u001b[0m\u001b[0;32mTrue\u001b[0m\u001b[0;34m,\u001b[0m\u001b[0;34m\u001b[0m\u001b[0m\n\u001b[0;32m----> 5\u001b[0;31m                 validation_data=(x_test_n, x_test))\n\u001b[0m",
      "\u001b[0;32m~/.conda/envs/doctorado-gpu/lib/python3.6/site-packages/keras/engine/training.py\u001b[0m in \u001b[0;36mfit\u001b[0;34m(self, x, y, batch_size, epochs, verbose, callbacks, validation_split, validation_data, shuffle, class_weight, sample_weight, initial_epoch, steps_per_epoch, validation_steps, **kwargs)\u001b[0m\n\u001b[1;32m    953\u001b[0m             \u001b[0msample_weight\u001b[0m\u001b[0;34m=\u001b[0m\u001b[0msample_weight\u001b[0m\u001b[0;34m,\u001b[0m\u001b[0;34m\u001b[0m\u001b[0m\n\u001b[1;32m    954\u001b[0m             \u001b[0mclass_weight\u001b[0m\u001b[0;34m=\u001b[0m\u001b[0mclass_weight\u001b[0m\u001b[0;34m,\u001b[0m\u001b[0;34m\u001b[0m\u001b[0m\n\u001b[0;32m--> 955\u001b[0;31m             batch_size=batch_size)\n\u001b[0m\u001b[1;32m    956\u001b[0m         \u001b[0;31m# Prepare validation data.\u001b[0m\u001b[0;34m\u001b[0m\u001b[0;34m\u001b[0m\u001b[0m\n\u001b[1;32m    957\u001b[0m         \u001b[0mdo_validation\u001b[0m \u001b[0;34m=\u001b[0m \u001b[0;32mFalse\u001b[0m\u001b[0;34m\u001b[0m\u001b[0m\n",
      "\u001b[0;32m~/.conda/envs/doctorado-gpu/lib/python3.6/site-packages/keras/engine/training.py\u001b[0m in \u001b[0;36m_standardize_user_data\u001b[0;34m(self, x, y, sample_weight, class_weight, check_array_lengths, batch_size)\u001b[0m\n\u001b[1;32m    790\u001b[0m                 \u001b[0mfeed_output_shapes\u001b[0m\u001b[0;34m,\u001b[0m\u001b[0;34m\u001b[0m\u001b[0m\n\u001b[1;32m    791\u001b[0m                 \u001b[0mcheck_batch_axis\u001b[0m\u001b[0;34m=\u001b[0m\u001b[0;32mFalse\u001b[0m\u001b[0;34m,\u001b[0m  \u001b[0;31m# Don't enforce the batch size.\u001b[0m\u001b[0;34m\u001b[0m\u001b[0m\n\u001b[0;32m--> 792\u001b[0;31m                 exception_prefix='target')\n\u001b[0m\u001b[1;32m    793\u001b[0m \u001b[0;34m\u001b[0m\u001b[0m\n\u001b[1;32m    794\u001b[0m             \u001b[0;31m# Generate sample-wise weight values given the `sample_weight` and\u001b[0m\u001b[0;34m\u001b[0m\u001b[0;34m\u001b[0m\u001b[0m\n",
      "\u001b[0;32m~/.conda/envs/doctorado-gpu/lib/python3.6/site-packages/keras/engine/training_utils.py\u001b[0m in \u001b[0;36mstandardize_input_data\u001b[0;34m(data, names, shapes, check_batch_axis, exception_prefix)\u001b[0m\n\u001b[1;32m    134\u001b[0m                             \u001b[0;34m': expected '\u001b[0m \u001b[0;34m+\u001b[0m \u001b[0mnames\u001b[0m\u001b[0;34m[\u001b[0m\u001b[0mi\u001b[0m\u001b[0;34m]\u001b[0m \u001b[0;34m+\u001b[0m \u001b[0;34m' to have shape '\u001b[0m \u001b[0;34m+\u001b[0m\u001b[0;34m\u001b[0m\u001b[0m\n\u001b[1;32m    135\u001b[0m                             \u001b[0mstr\u001b[0m\u001b[0;34m(\u001b[0m\u001b[0mshape\u001b[0m\u001b[0;34m)\u001b[0m \u001b[0;34m+\u001b[0m \u001b[0;34m' but got array with shape '\u001b[0m \u001b[0;34m+\u001b[0m\u001b[0;34m\u001b[0m\u001b[0m\n\u001b[0;32m--> 136\u001b[0;31m                             str(data_shape))\n\u001b[0m\u001b[1;32m    137\u001b[0m     \u001b[0;32mreturn\u001b[0m \u001b[0mdata\u001b[0m\u001b[0;34m\u001b[0m\u001b[0m\n\u001b[1;32m    138\u001b[0m \u001b[0;34m\u001b[0m\u001b[0m\n",
      "\u001b[0;31mValueError\u001b[0m: Error when checking target: expected conv2d_57 to have shape (52, 52, 1) but got array with shape (28, 28, 1)"
     ]
    }
   ],
   "source": [
    "autoencoder.fit(x_train_n, x_train,\n",
    "                epochs=10,\n",
    "                batch_size=128,\n",
    "                shuffle=True,\n",
    "                validation_data=(x_test_n, x_test))"
   ]
  },
  {
   "cell_type": "code",
   "execution_count": 188,
   "metadata": {},
   "outputs": [
    {
     "data": {
      "image/png": "[encoded data removed]",
      "text/plain": [
       "<Figure size 1440x288 with 20 Axes>"
      ]
     },
     "metadata": {},
     "output_type": "display_data"
    }
   ],
   "source": [
    "x_test_n=x_test+0.8*np.random.normal(size=[10000,28,28,1])\n",
    "decoded_imgs = autoencoder.predict(x_test_n)\n",
    "def bare(ax):\n",
    "    ax.get_xaxis().set_visible(False)\n",
    "    ax.get_yaxis().set_visible(False)\n",
    "    return ax\n",
    "\n",
    "n = 10\n",
    "plot.figure(figsize=(20,4))\n",
    "for i in range(n):\n",
    "    ax = plot.subplot(2, n, i+1)\n",
    "    plot.imshow(x_test_n[i].reshape(28,28))\n",
    "    plot.gray()\n",
    "    bare(ax)\n",
    "    ax = plot.subplot(2, n, i+1+n)\n",
    "    plot.imshow(decoded_imgs[i].reshape(28,28))\n",
    "    plot.hot()\n",
    "    bare(ax)\n",
    "plot.show()"
   ]
  },
  {
   "cell_type": "code",
   "execution_count": 189,
   "metadata": {},
   "outputs": [
    {
     "data": {
      "text/plain": [
       "(28, 28, 1)"
      ]
     },
     "execution_count": 189,
     "metadata": {},
     "output_type": "execute_result"
    }
   ],
   "source": [
    "x_test_n[0].shape"
   ]
  },
  {
   "cell_type": "code",
   "execution_count": 182,
   "metadata": {},
   "outputs": [],
   "source": [
    "from sklearn import datasets, neighbors, linear_model\n",
    "logistic = linear_model.LogisticRegression(solver='lbfgs', max_iter=1000,\n",
    "                                           multi_class='multinomial',C=1e6)\n"
   ]
  },
  {
   "cell_type": "code",
   "execution_count": 183,
   "metadata": {},
   "outputs": [
    {
     "data": {
      "text/plain": [
       "LogisticRegression(C=1000000.0, class_weight=None, dual=False,\n",
       "          fit_intercept=True, intercept_scaling=1, max_iter=1000,\n",
       "          multi_class='multinomial', n_jobs=1, penalty='l2',\n",
       "          random_state=None, solver='lbfgs', tol=0.0001, verbose=0,\n",
       "          warm_start=False)"
      ]
     },
     "execution_count": 183,
     "metadata": {},
     "output_type": "execute_result"
    }
   ],
   "source": [
    "logistic.fit(x_train.reshape(-1,784),y_train)"
   ]
  },
  {
   "cell_type": "code",
   "execution_count": 184,
   "metadata": {},
   "outputs": [
    {
     "name": "stdout",
     "output_type": "stream",
     "text": [
      "LogisticRegression score: 0.922000\n"
     ]
    }
   ],
   "source": [
    "# Test score\n",
    "print('LogisticRegression score: %f'\n",
    "      % logistic.score(x_test.reshape(-1,784), yt))"
   ]
  },
  {
   "cell_type": "code",
   "execution_count": 185,
   "metadata": {},
   "outputs": [
    {
     "name": "stdout",
     "output_type": "stream",
     "text": [
      "LogisticRegression score: 0.943183\n"
     ]
    }
   ],
   "source": [
    "# Train score\n",
    "print('LogisticRegression score: %f'\n",
    "      % logistic.score(x_train.reshape(-1,784), ya))"
   ]
  },
  {
   "cell_type": "code",
   "execution_count": 192,
   "metadata": {},
   "outputs": [
    {
     "name": "stdout",
     "output_type": "stream",
     "text": [
      "LogisticRegression score: 0.178600\n"
     ]
    }
   ],
   "source": [
    "# Test con ruido\n",
    "print('LogisticRegression score: %f'\n",
    "      % logistic.score(x_test_n.reshape(-1,784), yt))"
   ]
  },
  {
   "cell_type": "code",
   "execution_count": 193,
   "metadata": {},
   "outputs": [
    {
     "name": "stdout",
     "output_type": "stream",
     "text": [
      "LogisticRegression score: 0.683800\n"
     ]
    }
   ],
   "source": [
    "# Test con ruido recuperado \n",
    "print('LogisticRegression score: %f'\n",
    "      % logistic.score(decoded_imgs.reshape(-1,784), yt))"
   ]
  },
  {
   "cell_type": "code",
   "execution_count": null,
   "metadata": {},
   "outputs": [],
   "source": []
  }
 ],
 "metadata": {
  "kernelspec": {
   "display_name": "Python (tensorflow-gpu)",
   "language": "python",
   "name": "tensorflow-gpu"
  },
  "language_info": {
   "codemirror_mode": {
    "name": "ipython",
    "version": 3
   },
   "file_extension": ".py",
   "mimetype": "text/x-python",
   "name": "python",
   "nbconvert_exporter": "python",
   "pygments_lexer": "ipython3",
   "version": "3.6.5"
  }
 },
 "nbformat": 4,
 "nbformat_minor": 2
}
