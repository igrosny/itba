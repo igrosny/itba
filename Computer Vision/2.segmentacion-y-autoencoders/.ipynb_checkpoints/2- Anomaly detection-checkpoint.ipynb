{
 "cells": [
  {
   "cell_type": "markdown",
   "metadata": {},
   "source": [
    "# Detección de anomalías\n",
    "\n",
    "Video:\n",
    "\n",
    "https://www.youtube.com/watch?v=086OcT-5DYI\n",
    "\n",
    "- Aprendizaje no-supervisado\n",
    "- Detección de valores con alto desvío con respecto a la distribución de probabilidad nominal\n",
    "\n",
    "<img src=\"Anomaly_detection.png\">\n",
    "\n",
    "Una opción es utilizar cualquier modelo probabilístico generativo de los datos. Si la probabilidad de que la muestra haya sido generada por el modelo generativo es menor que un valor de umbral, entonces diremos que el dato es anómalo.\n",
    "\n",
    "Ejemplo: Datos generados con una mezcla de gausianas vibariable."
   ]
  },
  {
   "cell_type": "code",
   "execution_count": null,
   "metadata": {},
   "outputs": [],
   "source": [
    "import numpy as np\n",
    "import matplotlib.pyplot as plt\n",
    "from matplotlib.colors import LogNorm\n",
    "from sklearn import mixture\n",
    "\n",
    "n_samples = 300\n",
    "\n",
    "# generate random sample, two components\n",
    "np.random.seed(0)\n",
    "\n",
    "# generate spherical data centered on (20, 20)\n",
    "shifted_gaussian = np.random.randn(n_samples, 2) + np.array([20, 20])\n",
    "\n",
    "# generate zero centered stretched Gaussian data\n",
    "C = np.array([[0., -0.7], [3.5, .7]])\n",
    "stretched_gaussian = np.dot(np.random.randn(n_samples, 2), C)\n",
    "\n",
    "# concatenate the two datasets into the final training set\n",
    "X_train = np.vstack([shifted_gaussian, stretched_gaussian])\n",
    "\n",
    "# fit a Gaussian Mixture Model with two components\n",
    "clf = mixture.GaussianMixture(n_components=5, covariance_type='full')\n",
    "clf.fit(X_train)\n",
    "\n",
    "# display predicted scores by the model as a contour plot\n",
    "x = np.linspace(-20., 30.)\n",
    "y = np.linspace(-20., 40.)\n",
    "X, Y = np.meshgrid(x, y)\n",
    "XX = np.array([X.ravel(), Y.ravel()]).T\n",
    "Z = -clf.score_samples(XX)\n",
    "Z = Z.reshape(X.shape)\n",
    "CS = plt.contour(X, Y, Z, norm=LogNorm(vmin=1.0, vmax=1000.0),\n",
    "                 levels=np.logspace(0, 3, 10))\n",
    "CB = plt.colorbar(CS, shrink=0.8, extend='both')\n",
    "plt.scatter(X_train[:, 0], X_train[:, 1], .8)\n",
    "\n",
    "plt.title('Negative log-likelihood predicted by a GMM')\n",
    "plt.axis('tight')\n",
    "plt.show()"
   ]
  },
  {
   "cell_type": "markdown",
   "metadata": {},
   "source": [
    "Las curvas de nivel definen distintos valores de probabilidad para los cuales tomar el umbral de decisión.  \n",
    "¿Qué pasa si varío la cantidad de componentes de GMM?\n",
    "\n",
    "veamos el mismo problema para N=300."
   ]
  },
  {
   "cell_type": "code",
   "execution_count": 101,
   "metadata": {},
   "outputs": [
    {
     "data": {
      "text/plain": [
       "GaussianMixture(covariance_type='full', init_params='kmeans', max_iter=100,\n",
       "        means_init=None, n_components=5, n_init=1, precisions_init=None,\n",
       "        random_state=None, reg_covar=1e-06, tol=0.001, verbose=0,\n",
       "        verbose_interval=10, warm_start=False, weights_init=None)"
      ]
     },
     "execution_count": 101,
     "metadata": {},
     "output_type": "execute_result"
    }
   ],
   "source": [
    "n_samples = 5000\n",
    "\n",
    "# generate random sample, two components\n",
    "np.random.seed(0)\n",
    "\n",
    "# generate spherical data centered on (20, 20,20,...,20)\n",
    "shifted_gaussian = 20*np.random.randn(n_samples, 30) + np.array([20]*30)\n",
    "\n",
    "# generate zero centered stretched Gaussian data\n",
    "C = np.array([np.random.randn(30,30)])\n",
    "stretched_gaussian = 20*np.dot(np.random.randn(n_samples, 30), C).reshape(5000,30)\n",
    "\n",
    "# concatenate the two datasets into the final training set\n",
    "X_train = np.vstack([shifted_gaussian, stretched_gaussian])\n",
    "\n",
    "# fit a Gaussian Mixture Model with two components\n",
    "clf = mixture.GaussianMixture(n_components=5, covariance_type='full')\n",
    "clf.fit(X_train)"
   ]
  },
  {
   "cell_type": "code",
   "execution_count": 102,
   "metadata": {},
   "outputs": [],
   "source": [
    "a=-clf.score_samples(X_train)"
   ]
  },
  {
   "cell_type": "code",
   "execution_count": 103,
   "metadata": {},
   "outputs": [
    {
     "data": {
      "text/plain": [
       "(array([ 688., 3026., 1169.,  107.,    9.,   15., 1475., 2841.,  631.,\n",
       "          39.]), array([122.52720993, 128.88859996, 135.24999   , 141.61138003,\n",
       "        147.97277007, 154.3341601 , 160.69555014, 167.05694018,\n",
       "        173.41833021, 179.77972025, 186.14111028]), <a list of 10 Patch objects>)"
      ]
     },
     "execution_count": 103,
     "metadata": {},
     "output_type": "execute_result"
    },
    {
     "data": {
      "image/png": "[encoded data removed]",
      "text/plain": [
       "<Figure size 432x288 with 1 Axes>"
      ]
     },
     "metadata": {},
     "output_type": "display_data"
    }
   ],
   "source": [
    "plt.hist(a)"
   ]
  },
  {
   "cell_type": "code",
   "execution_count": 100,
   "metadata": {},
   "outputs": [
    {
     "data": {
      "text/plain": [
       "(10000,)"
      ]
     },
     "execution_count": 100,
     "metadata": {},
     "output_type": "execute_result"
    }
   ],
   "source": [
    "a.shape"
   ]
  },
  {
   "cell_type": "code",
   "execution_count": 66,
   "metadata": {},
   "outputs": [
    {
     "data": {
      "text/plain": [
       "array([[ 21.76405235,  20.40015721,  20.97873798, ...,  20.58295368,\n",
       "         19.60055097,  20.37005589],\n",
       "       [ 18.69347315,  21.65813068,  19.88183595, ...,  19.78326853,\n",
       "         19.0698435 ,  19.82141091],\n",
       "       [ 18.44957065,  20.41731882,  19.05563151, ...,  18.4584126 ,\n",
       "         22.59442459,  19.59596771],\n",
       "       ...,\n",
       "       [  5.65274769,   8.96959273, -35.86870107, ...,  48.46996094,\n",
       "          2.2198951 , -16.52006971],\n",
       "       [-15.12667051,  11.37807578,   8.26263638, ...,   1.19539895,\n",
       "        -15.251113  ,   4.95605932],\n",
       "       [ -3.3255099 ,  -9.74448279,  -1.36314746, ...,  17.28478679,\n",
       "        -14.02059223, -23.16757352]])"
      ]
     },
     "execution_count": 66,
     "metadata": {},
     "output_type": "execute_result"
    }
   ],
   "source": [
    "X_train"
   ]
  },
  {
   "cell_type": "markdown",
   "metadata": {},
   "source": [
    "# Detección de anomalías con autoencoders"
   ]
  },
  {
   "cell_type": "code",
   "execution_count": 273,
   "metadata": {},
   "outputs": [],
   "source": [
    "import numpy as np\n",
    "import keras\n",
    "import keras.backend as K\n",
    "from keras.optimizers import Adam\n",
    "from keras.callbacks import EarlyStopping, ModelCheckpoint, ReduceLROnPlateau\n",
    "\n",
    "early_stopping = EarlyStopping(patience=10, verbose=1)\n",
    "model_checkpoint = ModelCheckpoint(\"./keras.model\", save_best_only=True, verbose=1)\n",
    "reduce_lr = ReduceLROnPlateau(factor=0.1, patience=5, min_lr=0.00001, verbose=1)\n",
    "crunch_dim=10\n",
    "\n",
    "layer0 = Input(shape=(784,))\n",
    "crunch = Dense(crunch_dim, activation='relu')(layer0)\n",
    "layer2 = Dense(784, activation='sigmoid')(crunch)\n",
    "\n",
    "autoencoder = Model(layer0, layer2)\n",
    "encoder = Model(layer0, crunch)\n",
    "\n",
    "decrunch = Input(shape=(crunch_dim,))\n",
    "decoded = autoencoder.layers[-1](decrunch)\n",
    "decoder = Model(decrunch, decoded)\n",
    "\n",
    "autoencoder.compile(optimizer=Adam(lr=0.01), loss='binary_crossentropy')"
   ]
  },
  {
   "cell_type": "code",
   "execution_count": 274,
   "metadata": {},
   "outputs": [
    {
     "name": "stdout",
     "output_type": "stream",
     "text": [
      "Epoch 1/500\n",
      "5851/5851 [==============================] - 0s 73us/step - loss: 0.2572\n",
      "Epoch 2/500\n",
      "5851/5851 [==============================] - 0s 24us/step - loss: 0.2034\n",
      "Epoch 3/500\n",
      "5851/5851 [==============================] - 0s 24us/step - loss: 0.1991\n",
      "Epoch 4/500\n",
      "5851/5851 [==============================] - 0s 24us/step - loss: 0.1981\n",
      "Epoch 5/500\n",
      "5851/5851 [==============================] - 0s 24us/step - loss: 0.1978\n",
      "Epoch 6/500\n",
      "5851/5851 [==============================] - 0s 24us/step - loss: 0.1971\n",
      "Epoch 7/500\n",
      "5851/5851 [==============================] - 0s 24us/step - loss: 0.1977\n",
      "Epoch 8/500\n",
      "5851/5851 [==============================] - 0s 24us/step - loss: 0.1975\n",
      "Epoch 9/500\n",
      "5851/5851 [==============================] - 0s 24us/step - loss: 0.1979\n",
      "Epoch 10/500\n",
      "5851/5851 [==============================] - 0s 24us/step - loss: 0.1991\n",
      "Epoch 11/500\n",
      "5851/5851 [==============================] - 0s 24us/step - loss: 0.1979\n",
      "Epoch 12/500\n",
      "5851/5851 [==============================] - 0s 24us/step - loss: 0.1984\n",
      "Epoch 13/500\n",
      "5851/5851 [==============================] - 0s 24us/step - loss: 0.1974\n",
      "Epoch 14/500\n",
      "5851/5851 [==============================] - 0s 24us/step - loss: 0.1973\n",
      "Epoch 15/500\n",
      "5851/5851 [==============================] - 0s 24us/step - loss: 0.1970\n",
      "Epoch 16/500\n",
      "5851/5851 [==============================] - 0s 24us/step - loss: 0.1974\n",
      "Epoch 17/500\n",
      "5851/5851 [==============================] - 0s 24us/step - loss: 0.1973\n",
      "Epoch 18/500\n",
      "5851/5851 [==============================] - 0s 24us/step - loss: 0.1997\n",
      "Epoch 19/500\n",
      "5851/5851 [==============================] - 0s 24us/step - loss: 0.1972\n",
      "Epoch 20/500\n",
      "5851/5851 [==============================] - 0s 24us/step - loss: 0.1976\n",
      "Epoch 21/500\n",
      "5851/5851 [==============================] - 0s 24us/step - loss: 0.1977\n",
      "Epoch 22/500\n",
      "5851/5851 [==============================] - 0s 24us/step - loss: 0.1972\n",
      "Epoch 23/500\n",
      "5851/5851 [==============================] - 0s 24us/step - loss: 0.1971\n",
      "Epoch 24/500\n",
      "5851/5851 [==============================] - 0s 24us/step - loss: 0.1981\n",
      "Epoch 25/500\n",
      "5851/5851 [==============================] - 0s 24us/step - loss: 0.1978\n",
      "Epoch 26/500\n",
      "5851/5851 [==============================] - 0s 24us/step - loss: 0.1977\n",
      "Epoch 27/500\n",
      "5851/5851 [==============================] - 0s 24us/step - loss: 0.1970\n",
      "Epoch 28/500\n",
      "5851/5851 [==============================] - 0s 24us/step - loss: 0.1969\n",
      "Epoch 29/500\n",
      "5851/5851 [==============================] - 0s 24us/step - loss: 0.1975\n",
      "Epoch 30/500\n",
      "5851/5851 [==============================] - 0s 24us/step - loss: 0.1973\n",
      "Epoch 31/500\n",
      "5851/5851 [==============================] - 0s 24us/step - loss: 0.1975\n",
      "Epoch 32/500\n",
      "5851/5851 [==============================] - 0s 24us/step - loss: 0.1969\n",
      "Epoch 33/500\n",
      "5851/5851 [==============================] - 0s 25us/step - loss: 0.1969\n",
      "Epoch 34/500\n",
      "5851/5851 [==============================] - 0s 24us/step - loss: 0.1979\n",
      "Epoch 35/500\n",
      "5851/5851 [==============================] - 0s 24us/step - loss: 0.1975\n",
      "Epoch 36/500\n",
      "5851/5851 [==============================] - 0s 24us/step - loss: 0.1980\n",
      "Epoch 37/500\n",
      "5851/5851 [==============================] - 0s 24us/step - loss: 0.1968\n",
      "Epoch 38/500\n",
      "5851/5851 [==============================] - 0s 24us/step - loss: 0.1974\n",
      "Epoch 39/500\n",
      "5851/5851 [==============================] - 0s 24us/step - loss: 0.1966\n",
      "Epoch 40/500\n",
      "5851/5851 [==============================] - 0s 24us/step - loss: 0.1988\n",
      "Epoch 41/500\n",
      "5851/5851 [==============================] - 0s 24us/step - loss: 0.1979\n",
      "Epoch 42/500\n",
      "5851/5851 [==============================] - 0s 24us/step - loss: 0.1977\n",
      "Epoch 43/500\n",
      "5851/5851 [==============================] - 0s 24us/step - loss: 0.1970\n",
      "Epoch 44/500\n",
      "5851/5851 [==============================] - 0s 24us/step - loss: 0.1979\n",
      "Epoch 45/500\n",
      "5851/5851 [==============================] - 0s 24us/step - loss: 0.1970\n",
      "Epoch 46/500\n",
      "5851/5851 [==============================] - 0s 24us/step - loss: 0.1973\n",
      "Epoch 47/500\n",
      "5851/5851 [==============================] - 0s 24us/step - loss: 0.1974\n",
      "Epoch 48/500\n",
      "5851/5851 [==============================] - 0s 24us/step - loss: 0.1978\n",
      "Epoch 49/500\n",
      "5851/5851 [==============================] - 0s 24us/step - loss: 0.1973\n",
      "Epoch 50/500\n",
      "5851/5851 [==============================] - 0s 24us/step - loss: 0.1984\n",
      "Epoch 51/500\n",
      "5851/5851 [==============================] - 0s 24us/step - loss: 0.1979\n",
      "Epoch 52/500\n",
      "5851/5851 [==============================] - 0s 24us/step - loss: 0.1967\n",
      "Epoch 53/500\n",
      "5851/5851 [==============================] - 0s 24us/step - loss: 0.1984\n",
      "Epoch 54/500\n",
      "5851/5851 [==============================] - 0s 24us/step - loss: 0.1970\n",
      "Epoch 55/500\n",
      "5851/5851 [==============================] - 0s 24us/step - loss: 0.1977\n",
      "Epoch 56/500\n",
      "5851/5851 [==============================] - 0s 24us/step - loss: 0.1971\n",
      "Epoch 57/500\n",
      "5851/5851 [==============================] - 0s 24us/step - loss: 0.1979\n",
      "Epoch 58/500\n",
      "5851/5851 [==============================] - 0s 24us/step - loss: 0.1975\n",
      "Epoch 59/500\n",
      "5851/5851 [==============================] - 0s 24us/step - loss: 0.1977\n",
      "Epoch 60/500\n",
      "5851/5851 [==============================] - 0s 24us/step - loss: 0.1971\n",
      "Epoch 61/500\n",
      "5851/5851 [==============================] - 0s 24us/step - loss: 0.1976\n",
      "Epoch 62/500\n",
      "5851/5851 [==============================] - 0s 24us/step - loss: 0.1980\n",
      "Epoch 63/500\n",
      "5851/5851 [==============================] - 0s 24us/step - loss: 0.1979\n",
      "Epoch 64/500\n",
      "5851/5851 [==============================] - 0s 24us/step - loss: 0.1982\n",
      "Epoch 65/500\n",
      "5851/5851 [==============================] - 0s 24us/step - loss: 0.1979\n",
      "Epoch 66/500\n",
      "5851/5851 [==============================] - 0s 24us/step - loss: 0.1970\n",
      "Epoch 67/500\n",
      "5851/5851 [==============================] - 0s 24us/step - loss: 0.1991\n",
      "Epoch 68/500\n",
      "5851/5851 [==============================] - 0s 24us/step - loss: 0.1974\n",
      "Epoch 69/500\n",
      "5851/5851 [==============================] - 0s 24us/step - loss: 0.1975\n",
      "Epoch 70/500\n",
      "5851/5851 [==============================] - 0s 24us/step - loss: 0.1973\n",
      "Epoch 71/500\n",
      "5851/5851 [==============================] - 0s 24us/step - loss: 0.1974\n",
      "Epoch 72/500\n",
      " 128/5851 [..............................] - ETA: 0s - loss: 0.1892"
     ]
    },
    {
     "ename": "KeyboardInterrupt",
     "evalue": "",
     "output_type": "error",
     "traceback": [
      "\u001b[0;31m---------------------------------------------------------------------------\u001b[0m",
      "\u001b[0;31mKeyboardInterrupt\u001b[0m                         Traceback (most recent call last)",
      "\u001b[0;32m<ipython-input-274-23844c08ed27>\u001b[0m in \u001b[0;36m<module>\u001b[0;34m()\u001b[0m\n\u001b[1;32m     24\u001b[0m \u001b[0;34m\u001b[0m\u001b[0m\n\u001b[1;32m     25\u001b[0m \u001b[0;34m\u001b[0m\u001b[0m\n\u001b[0;32m---> 26\u001b[0;31m \u001b[0mautoencoder\u001b[0m\u001b[0;34m.\u001b[0m\u001b[0mfit\u001b[0m\u001b[0;34m(\u001b[0m\u001b[0mX2\u001b[0m\u001b[0;34m,\u001b[0m \u001b[0mX2\u001b[0m\u001b[0;34m,\u001b[0m \u001b[0mbatch_size\u001b[0m\u001b[0;34m=\u001b[0m\u001b[0;36m128\u001b[0m\u001b[0;34m,\u001b[0m \u001b[0mepochs\u001b[0m\u001b[0;34m=\u001b[0m\u001b[0mepochs\u001b[0m\u001b[0;34m,\u001b[0m \u001b[0mverbose\u001b[0m\u001b[0;34m=\u001b[0m\u001b[0;36m1\u001b[0m\u001b[0;34m,\u001b[0m \u001b[0mshuffle\u001b[0m\u001b[0;34m=\u001b[0m\u001b[0;32mTrue\u001b[0m\u001b[0;34m)\u001b[0m\u001b[0;34m\u001b[0m\u001b[0m\n\u001b[0m",
      "\u001b[0;32m~/.conda/envs/doctorado-gpu/lib/python3.6/site-packages/keras/engine/training.py\u001b[0m in \u001b[0;36mfit\u001b[0;34m(self, x, y, batch_size, epochs, verbose, callbacks, validation_split, validation_data, shuffle, class_weight, sample_weight, initial_epoch, steps_per_epoch, validation_steps, **kwargs)\u001b[0m\n\u001b[1;32m   1040\u001b[0m                                         \u001b[0minitial_epoch\u001b[0m\u001b[0;34m=\u001b[0m\u001b[0minitial_epoch\u001b[0m\u001b[0;34m,\u001b[0m\u001b[0;34m\u001b[0m\u001b[0m\n\u001b[1;32m   1041\u001b[0m                                         \u001b[0msteps_per_epoch\u001b[0m\u001b[0;34m=\u001b[0m\u001b[0msteps_per_epoch\u001b[0m\u001b[0;34m,\u001b[0m\u001b[0;34m\u001b[0m\u001b[0m\n\u001b[0;32m-> 1042\u001b[0;31m                                         validation_steps=validation_steps)\n\u001b[0m\u001b[1;32m   1043\u001b[0m \u001b[0;34m\u001b[0m\u001b[0m\n\u001b[1;32m   1044\u001b[0m     def evaluate(self, x=None, y=None,\n",
      "\u001b[0;32m~/.conda/envs/doctorado-gpu/lib/python3.6/site-packages/keras/engine/training_arrays.py\u001b[0m in \u001b[0;36mfit_loop\u001b[0;34m(model, f, ins, out_labels, batch_size, epochs, verbose, callbacks, val_f, val_ins, shuffle, callback_metrics, initial_epoch, steps_per_epoch, validation_steps)\u001b[0m\n\u001b[1;32m    197\u001b[0m                     \u001b[0mins_batch\u001b[0m\u001b[0;34m[\u001b[0m\u001b[0mi\u001b[0m\u001b[0;34m]\u001b[0m \u001b[0;34m=\u001b[0m \u001b[0mins_batch\u001b[0m\u001b[0;34m[\u001b[0m\u001b[0mi\u001b[0m\u001b[0;34m]\u001b[0m\u001b[0;34m.\u001b[0m\u001b[0mtoarray\u001b[0m\u001b[0;34m(\u001b[0m\u001b[0;34m)\u001b[0m\u001b[0;34m\u001b[0m\u001b[0m\n\u001b[1;32m    198\u001b[0m \u001b[0;34m\u001b[0m\u001b[0m\n\u001b[0;32m--> 199\u001b[0;31m                 \u001b[0mouts\u001b[0m \u001b[0;34m=\u001b[0m \u001b[0mf\u001b[0m\u001b[0;34m(\u001b[0m\u001b[0mins_batch\u001b[0m\u001b[0;34m)\u001b[0m\u001b[0;34m\u001b[0m\u001b[0m\n\u001b[0m\u001b[1;32m    200\u001b[0m                 \u001b[0;32mif\u001b[0m \u001b[0;32mnot\u001b[0m \u001b[0misinstance\u001b[0m\u001b[0;34m(\u001b[0m\u001b[0mouts\u001b[0m\u001b[0;34m,\u001b[0m \u001b[0mlist\u001b[0m\u001b[0;34m)\u001b[0m\u001b[0;34m:\u001b[0m\u001b[0;34m\u001b[0m\u001b[0m\n\u001b[1;32m    201\u001b[0m                     \u001b[0mouts\u001b[0m \u001b[0;34m=\u001b[0m \u001b[0;34m[\u001b[0m\u001b[0mouts\u001b[0m\u001b[0;34m]\u001b[0m\u001b[0;34m\u001b[0m\u001b[0m\n",
      "\u001b[0;32m~/.conda/envs/doctorado-gpu/lib/python3.6/site-packages/keras/backend/tensorflow_backend.py\u001b[0m in \u001b[0;36m__call__\u001b[0;34m(self, inputs)\u001b[0m\n\u001b[1;32m   2665\u001b[0m                     \u001b[0;34m'In order to feed symbolic tensors to a Keras model '\u001b[0m\u001b[0;34m\u001b[0m\u001b[0m\n\u001b[1;32m   2666\u001b[0m                     'in TensorFlow, you need tensorflow 1.8 or higher.')\n\u001b[0;32m-> 2667\u001b[0;31m             \u001b[0;32mreturn\u001b[0m \u001b[0mself\u001b[0m\u001b[0;34m.\u001b[0m\u001b[0m_legacy_call\u001b[0m\u001b[0;34m(\u001b[0m\u001b[0minputs\u001b[0m\u001b[0;34m)\u001b[0m\u001b[0;34m\u001b[0m\u001b[0m\n\u001b[0m\u001b[1;32m   2668\u001b[0m \u001b[0;34m\u001b[0m\u001b[0m\n\u001b[1;32m   2669\u001b[0m \u001b[0;34m\u001b[0m\u001b[0m\n",
      "\u001b[0;32m~/.conda/envs/doctorado-gpu/lib/python3.6/site-packages/keras/backend/tensorflow_backend.py\u001b[0m in \u001b[0;36m_legacy_call\u001b[0;34m(self, inputs)\u001b[0m\n\u001b[1;32m   2647\u001b[0m         \u001b[0msession\u001b[0m \u001b[0;34m=\u001b[0m \u001b[0mget_session\u001b[0m\u001b[0;34m(\u001b[0m\u001b[0;34m)\u001b[0m\u001b[0;34m\u001b[0m\u001b[0m\n\u001b[1;32m   2648\u001b[0m         updated = session.run(fetches=fetches, feed_dict=feed_dict,\n\u001b[0;32m-> 2649\u001b[0;31m                               **self.session_kwargs)\n\u001b[0m\u001b[1;32m   2650\u001b[0m         \u001b[0;32mreturn\u001b[0m \u001b[0mupdated\u001b[0m\u001b[0;34m[\u001b[0m\u001b[0;34m:\u001b[0m\u001b[0mlen\u001b[0m\u001b[0;34m(\u001b[0m\u001b[0mself\u001b[0m\u001b[0;34m.\u001b[0m\u001b[0moutputs\u001b[0m\u001b[0;34m)\u001b[0m\u001b[0;34m]\u001b[0m\u001b[0;34m\u001b[0m\u001b[0m\n\u001b[1;32m   2651\u001b[0m \u001b[0;34m\u001b[0m\u001b[0m\n",
      "\u001b[0;32m~/.conda/envs/doctorado-gpu/lib/python3.6/site-packages/tensorflow/python/client/session.py\u001b[0m in \u001b[0;36mrun\u001b[0;34m(self, fetches, feed_dict, options, run_metadata)\u001b[0m\n\u001b[1;32m    787\u001b[0m     \u001b[0;32mtry\u001b[0m\u001b[0;34m:\u001b[0m\u001b[0;34m\u001b[0m\u001b[0m\n\u001b[1;32m    788\u001b[0m       result = self._run(None, fetches, feed_dict, options_ptr,\n\u001b[0;32m--> 789\u001b[0;31m                          run_metadata_ptr)\n\u001b[0m\u001b[1;32m    790\u001b[0m       \u001b[0;32mif\u001b[0m \u001b[0mrun_metadata\u001b[0m\u001b[0;34m:\u001b[0m\u001b[0;34m\u001b[0m\u001b[0m\n\u001b[1;32m    791\u001b[0m         \u001b[0mproto_data\u001b[0m \u001b[0;34m=\u001b[0m \u001b[0mtf_session\u001b[0m\u001b[0;34m.\u001b[0m\u001b[0mTF_GetBuffer\u001b[0m\u001b[0;34m(\u001b[0m\u001b[0mrun_metadata_ptr\u001b[0m\u001b[0;34m)\u001b[0m\u001b[0;34m\u001b[0m\u001b[0m\n",
      "\u001b[0;32m~/.conda/envs/doctorado-gpu/lib/python3.6/site-packages/tensorflow/python/client/session.py\u001b[0m in \u001b[0;36m_run\u001b[0;34m(self, handle, fetches, feed_dict, options, run_metadata)\u001b[0m\n\u001b[1;32m    995\u001b[0m     \u001b[0;32mif\u001b[0m \u001b[0mfinal_fetches\u001b[0m \u001b[0;32mor\u001b[0m \u001b[0mfinal_targets\u001b[0m\u001b[0;34m:\u001b[0m\u001b[0;34m\u001b[0m\u001b[0m\n\u001b[1;32m    996\u001b[0m       results = self._do_run(handle, final_targets, final_fetches,\n\u001b[0;32m--> 997\u001b[0;31m                              feed_dict_string, options, run_metadata)\n\u001b[0m\u001b[1;32m    998\u001b[0m     \u001b[0;32melse\u001b[0m\u001b[0;34m:\u001b[0m\u001b[0;34m\u001b[0m\u001b[0m\n\u001b[1;32m    999\u001b[0m       \u001b[0mresults\u001b[0m \u001b[0;34m=\u001b[0m \u001b[0;34m[\u001b[0m\u001b[0;34m]\u001b[0m\u001b[0;34m\u001b[0m\u001b[0m\n",
      "\u001b[0;32m~/.conda/envs/doctorado-gpu/lib/python3.6/site-packages/tensorflow/python/client/session.py\u001b[0m in \u001b[0;36m_do_run\u001b[0;34m(self, handle, target_list, fetch_list, feed_dict, options, run_metadata)\u001b[0m\n\u001b[1;32m   1130\u001b[0m     \u001b[0;32mif\u001b[0m \u001b[0mhandle\u001b[0m \u001b[0;32mis\u001b[0m \u001b[0;32mNone\u001b[0m\u001b[0;34m:\u001b[0m\u001b[0;34m\u001b[0m\u001b[0m\n\u001b[1;32m   1131\u001b[0m       return self._do_call(_run_fn, self._session, feed_dict, fetch_list,\n\u001b[0;32m-> 1132\u001b[0;31m                            target_list, options, run_metadata)\n\u001b[0m\u001b[1;32m   1133\u001b[0m     \u001b[0;32melse\u001b[0m\u001b[0;34m:\u001b[0m\u001b[0;34m\u001b[0m\u001b[0m\n\u001b[1;32m   1134\u001b[0m       return self._do_call(_prun_fn, self._session, handle, feed_dict,\n",
      "\u001b[0;32m~/.conda/envs/doctorado-gpu/lib/python3.6/site-packages/tensorflow/python/client/session.py\u001b[0m in \u001b[0;36m_do_call\u001b[0;34m(self, fn, *args)\u001b[0m\n\u001b[1;32m   1137\u001b[0m   \u001b[0;32mdef\u001b[0m \u001b[0m_do_call\u001b[0m\u001b[0;34m(\u001b[0m\u001b[0mself\u001b[0m\u001b[0;34m,\u001b[0m \u001b[0mfn\u001b[0m\u001b[0;34m,\u001b[0m \u001b[0;34m*\u001b[0m\u001b[0margs\u001b[0m\u001b[0;34m)\u001b[0m\u001b[0;34m:\u001b[0m\u001b[0;34m\u001b[0m\u001b[0m\n\u001b[1;32m   1138\u001b[0m     \u001b[0;32mtry\u001b[0m\u001b[0;34m:\u001b[0m\u001b[0;34m\u001b[0m\u001b[0m\n\u001b[0;32m-> 1139\u001b[0;31m       \u001b[0;32mreturn\u001b[0m \u001b[0mfn\u001b[0m\u001b[0;34m(\u001b[0m\u001b[0;34m*\u001b[0m\u001b[0margs\u001b[0m\u001b[0;34m)\u001b[0m\u001b[0;34m\u001b[0m\u001b[0m\n\u001b[0m\u001b[1;32m   1140\u001b[0m     \u001b[0;32mexcept\u001b[0m \u001b[0merrors\u001b[0m\u001b[0;34m.\u001b[0m\u001b[0mOpError\u001b[0m \u001b[0;32mas\u001b[0m \u001b[0me\u001b[0m\u001b[0;34m:\u001b[0m\u001b[0;34m\u001b[0m\u001b[0m\n\u001b[1;32m   1141\u001b[0m       \u001b[0mmessage\u001b[0m \u001b[0;34m=\u001b[0m \u001b[0mcompat\u001b[0m\u001b[0;34m.\u001b[0m\u001b[0mas_text\u001b[0m\u001b[0;34m(\u001b[0m\u001b[0me\u001b[0m\u001b[0;34m.\u001b[0m\u001b[0mmessage\u001b[0m\u001b[0;34m)\u001b[0m\u001b[0;34m\u001b[0m\u001b[0m\n",
      "\u001b[0;32m~/.conda/envs/doctorado-gpu/lib/python3.6/site-packages/tensorflow/python/client/session.py\u001b[0m in \u001b[0;36m_run_fn\u001b[0;34m(session, feed_dict, fetch_list, target_list, options, run_metadata)\u001b[0m\n\u001b[1;32m   1119\u001b[0m         return tf_session.TF_Run(session, options,\n\u001b[1;32m   1120\u001b[0m                                  \u001b[0mfeed_dict\u001b[0m\u001b[0;34m,\u001b[0m \u001b[0mfetch_list\u001b[0m\u001b[0;34m,\u001b[0m \u001b[0mtarget_list\u001b[0m\u001b[0;34m,\u001b[0m\u001b[0;34m\u001b[0m\u001b[0m\n\u001b[0;32m-> 1121\u001b[0;31m                                  status, run_metadata)\n\u001b[0m\u001b[1;32m   1122\u001b[0m \u001b[0;34m\u001b[0m\u001b[0m\n\u001b[1;32m   1123\u001b[0m     \u001b[0;32mdef\u001b[0m \u001b[0m_prun_fn\u001b[0m\u001b[0;34m(\u001b[0m\u001b[0msession\u001b[0m\u001b[0;34m,\u001b[0m \u001b[0mhandle\u001b[0m\u001b[0;34m,\u001b[0m \u001b[0mfeed_dict\u001b[0m\u001b[0;34m,\u001b[0m \u001b[0mfetch_list\u001b[0m\u001b[0;34m)\u001b[0m\u001b[0;34m:\u001b[0m\u001b[0;34m\u001b[0m\u001b[0m\n",
      "\u001b[0;31mKeyboardInterrupt\u001b[0m: "
     ]
    }
   ],
   "source": [
    "#(train), (test)\n",
    "(Xa, ya), (Xt, yt) = mnist.load_data()\n",
    "mask=(ya==8)\n",
    "y2=ya[mask]\n",
    "X2=Xa[mask,:,:]\n",
    "mask=(ya==5)\n",
    "y1=ya[mask]\n",
    "X1=Xa[mask,:,:]\n",
    "mask=(yt==8)\n",
    "y2_t=yt[mask]\n",
    "X2_t=Xt[mask,:,:]\n",
    "mask=(yt==5)\n",
    "y1_t=yt[mask]\n",
    "X1_t=Xt[mask,:,:]\n",
    "\n",
    "#print(Xa.shape, Ya.shape)\n",
    "isize = 28 #image size (square)\n",
    "n_classes = 10\n",
    "epochs = 500\n",
    "X1 = (X1.astype('float32')/255.0).reshape((X1.shape[0], np.prod(X1.shape[1:])))\n",
    "X2 = (X2.astype('float32')/255.0).reshape((X2.shape[0], np.prod(X2.shape[1:])))\n",
    "X1_t = (X1_t.astype('float32')/255.0).reshape((X1_t.shape[0], np.prod(X1_t.shape[1:])))\n",
    "X2_t = (X2_t.astype('float32')/255.0).reshape((X2_t.shape[0], np.prod(X2_t.shape[1:])))\n",
    "\n",
    "\n",
    "autoencoder.fit(X2, X2, batch_size=128, epochs=epochs, verbose=1, shuffle=True)"
   ]
  },
  {
   "cell_type": "code",
   "execution_count": 263,
   "metadata": {},
   "outputs": [],
   "source": [
    "out1=[autoencoder.evaluate(X1[idx:idx+1,:],X1[idx:idx+1,:],verbose=0) for idx in range(int(X1.shape[0]))]\n",
    "out2=[autoencoder.evaluate(X2[idx:idx+1,:],X2[idx:idx+1,:],verbose=0) for idx in range(int(X2.shape[0]))]\n"
   ]
  },
  {
   "cell_type": "code",
   "execution_count": 264,
   "metadata": {},
   "outputs": [
    {
     "data": {
      "text/plain": [
       "(array([ 152., 1384., 1861., 1223.,  659.,  346.,  170.,   41.,   12.,\n",
       "           3.]),\n",
       " array([0.08711433, 0.1161659 , 0.14521747, 0.17426904, 0.20332061,\n",
       "        0.23237218, 0.26142375, 0.29047532, 0.31952689, 0.34857846,\n",
       "        0.37763003]),\n",
       " <a list of 10 Patch objects>)"
      ]
     },
     "execution_count": 264,
     "metadata": {},
     "output_type": "execute_result"
    },
    {
     "data": {
      "image/png": "[encoded data removed]",
      "text/plain": [
       "<Figure size 432x288 with 1 Axes>"
      ]
     },
     "metadata": {},
     "output_type": "display_data"
    }
   ],
   "source": [
    "plt.hist(out1)\n",
    "plt.hist(out2)"
   ]
  },
  {
   "cell_type": "code",
   "execution_count": 265,
   "metadata": {},
   "outputs": [],
   "source": [
    "out1_t=[autoencoder.evaluate(X1_t[idx:idx+1,:],X1_t[idx:idx+1,:],verbose=0) for idx in range(int(X1_t.shape[0]))]\n",
    "out2_t=[autoencoder.evaluate(X2_t[idx:idx+1,:],X2_t[idx:idx+1,:],verbose=0) for idx in range(int(X2_t.shape[0]))]"
   ]
  },
  {
   "cell_type": "code",
   "execution_count": 266,
   "metadata": {},
   "outputs": [
    {
     "data": {
      "text/plain": [
       "(array([ 65., 258., 268., 210.,  97.,  41.,  20.,   9.,   4.,   2.]),\n",
       " array([0.1026384 , 0.12902823, 0.15541807, 0.1818079 , 0.20819774,\n",
       "        0.23458757, 0.2609774 , 0.28736724, 0.31375707, 0.3401469 ,\n",
       "        0.36653674]),\n",
       " <a list of 10 Patch objects>)"
      ]
     },
     "execution_count": 266,
     "metadata": {},
     "output_type": "execute_result"
    },
    {
     "data": {
      "image/png": "[encoded data removed]",
      "text/plain": [
       "<Figure size 432x288 with 1 Axes>"
      ]
     },
     "metadata": {},
     "output_type": "display_data"
    }
   ],
   "source": [
    "plt.hist(out1_t)\n",
    "plt.hist(out2_t)"
   ]
  },
  {
   "cell_type": "code",
   "execution_count": 268,
   "metadata": {},
   "outputs": [
    {
     "data": {
      "image/png": "[encoded data removed]",
      "text/plain": [
       "<Figure size 1440x288 with 20 Axes>"
      ]
     },
     "metadata": {},
     "output_type": "display_data"
    }
   ],
   "source": [
    "decoded_imgs = autoencoder.predict(X2)\n",
    "\n",
    "def bare(ax):\n",
    "    ax.get_xaxis().set_visible(False)\n",
    "    ax.get_yaxis().set_visible(False)\n",
    "    return ax\n",
    "\n",
    "n = 10\n",
    "plt.figure(figsize=(20,4))\n",
    "for i in range(n):\n",
    "    ax = plt.subplot(2, n, i+1)\n",
    "    plt.imshow(X2[i].reshape(28,28))\n",
    "    plt.gray()\n",
    "    bare(ax)\n",
    "    ax = plt.subplot(2, n, i+1+n)\n",
    "    plt.imshow(decoded_imgs[i].reshape(28,28))\n",
    "    plt.hot()\n",
    "    bare(ax)\n",
    "plt.show()"
   ]
  },
  {
   "cell_type": "code",
   "execution_count": 269,
   "metadata": {},
   "outputs": [
    {
     "data": {
      "image/png": "[encoded data removed]",
      "text/plain": [
       "<Figure size 1440x288 with 20 Axes>"
      ]
     },
     "metadata": {},
     "output_type": "display_data"
    }
   ],
   "source": [
    "decoded_imgs = autoencoder.predict(X1)\n",
    "\n",
    "def bare(ax):\n",
    "    ax.get_xaxis().set_visible(False)\n",
    "    ax.get_yaxis().set_visible(False)\n",
    "    return ax\n",
    "\n",
    "n = 10\n",
    "plt.figure(figsize=(20,4))\n",
    "for i in range(n):\n",
    "    ax = plt.subplot(2, n, i+1)\n",
    "    plt.imshow(X1[i].reshape(28,28))\n",
    "    plt.gray()\n",
    "    bare(ax)\n",
    "    ax = plt.subplot(2, n, i+1+n)\n",
    "    plt.imshow(decoded_imgs[i].reshape(28,28))\n",
    "    plt.hot()\n",
    "    bare(ax)\n",
    "plt.show()"
   ]
  },
  {
   "cell_type": "code",
   "execution_count": 248,
   "metadata": {},
   "outputs": [],
   "source": [
    "from keras.layers import Input, Dense, Conv2D, MaxPooling2D, UpSampling2D\n",
    "from keras.models import Model\n",
    "input_img = Input(shape=(28, 28, 1))  # adapt this if using `channels_first` image data format\n",
    "\n",
    "x = Conv2D(16, (3, 3), activation='relu', padding='same')(input_img)\n",
    "x = MaxPooling2D((2, 2), padding='same')(x)\n",
    "x = Conv2D(8, (4, 4), activation='relu', padding='same')(x)\n",
    "x = MaxPooling2D((2, 2), padding='same')(x)\n",
    "x = Conv2D(8, (5, 5), activation='relu', padding='same')(x)\n",
    "x = MaxPooling2D((2, 2), padding='same')(x)\n",
    "encoded = Conv2D(8, (5, 5), activation='relu', padding='same')(x)\n",
    "\n",
    "# at this point the representation is (4, 4, 8) i.e. 128-dimensional\n",
    "x = UpSampling2D((2, 2))(encoded)\n",
    "x = Conv2D(8, (5, 5), activation='relu',padding='same')(x)\n",
    "x = UpSampling2D((2, 2))(x)\n",
    "x = Conv2D(8, (4, 4), activation='relu',padding='same')(x)\n",
    "x = UpSampling2D((2, 2))(x)\n",
    "x = Conv2D(16, (3, 3), activation='relu')(x) #ojo con el padding! acá está la magia\n",
    "decoded = Conv2D(1, (3, 3), activation='sigmoid')(x)\n",
    "\n",
    "autoencoder2 = Model(input_img, decoded)\n",
    "autoencoder2.compile(optimizer='adadelta', loss='binary_crossentropy')"
   ]
  },
  {
   "cell_type": "code",
   "execution_count": 249,
   "metadata": {},
   "outputs": [
    {
     "name": "stdout",
     "output_type": "stream",
     "text": [
      "Train on 5851 samples, validate on 974 samples\n",
      "Epoch 1/500\n",
      "5851/5851 [==============================] - 4s 709us/step - loss: -513.0431 - val_loss: -609.6776\n",
      "Epoch 2/500\n",
      "5851/5851 [==============================] - 4s 658us/step - loss: -599.2120 - val_loss: -612.8584\n",
      "Epoch 3/500\n",
      "5851/5851 [==============================] - 4s 659us/step - loss: -601.0238 - val_loss: -613.6716\n",
      "Epoch 4/500\n",
      "5851/5851 [==============================] - 4s 658us/step - loss: -601.6251 - val_loss: -613.7031\n",
      "Epoch 5/500\n",
      "5851/5851 [==============================] - 4s 659us/step - loss: -602.5174 - val_loss: -614.2047\n",
      "Epoch 6/500\n",
      "5851/5851 [==============================] - 4s 658us/step - loss: -602.6967 - val_loss: -615.1842\n",
      "Epoch 7/500\n",
      "5851/5851 [==============================] - 4s 655us/step - loss: -602.9344 - val_loss: -614.4413\n",
      "Epoch 8/500\n",
      "5851/5851 [==============================] - 4s 655us/step - loss: -603.2910 - val_loss: -615.2064\n",
      "Epoch 9/500\n",
      "5851/5851 [==============================] - 4s 654us/step - loss: -603.4587 - val_loss: -615.8136\n",
      "Epoch 10/500\n",
      "5851/5851 [==============================] - 4s 655us/step - loss: -603.5647 - val_loss: -615.7896\n",
      "Epoch 11/500\n",
      " 256/5851 [>.............................] - ETA: 3s - loss: -600.8351"
     ]
    },
    {
     "ename": "KeyboardInterrupt",
     "evalue": "",
     "output_type": "error",
     "traceback": [
      "\u001b[0;31m---------------------------------------------------------------------------\u001b[0m",
      "\u001b[0;31mKeyboardInterrupt\u001b[0m                         Traceback (most recent call last)",
      "\u001b[0;32m<ipython-input-249-7d0de1910cac>\u001b[0m in \u001b[0;36m<module>\u001b[0;34m()\u001b[0m\n\u001b[1;32m     18\u001b[0m                 \u001b[0mbatch_size\u001b[0m\u001b[0;34m=\u001b[0m\u001b[0;36m128\u001b[0m\u001b[0;34m,\u001b[0m\u001b[0;34m\u001b[0m\u001b[0m\n\u001b[1;32m     19\u001b[0m                 \u001b[0mshuffle\u001b[0m\u001b[0;34m=\u001b[0m\u001b[0;32mTrue\u001b[0m\u001b[0;34m,\u001b[0m\u001b[0;34m\u001b[0m\u001b[0m\n\u001b[0;32m---> 20\u001b[0;31m                 validation_data=(X2_t, X2_t))\n\u001b[0m",
      "\u001b[0;32m~/.conda/envs/doctorado-gpu/lib/python3.6/site-packages/keras/engine/training.py\u001b[0m in \u001b[0;36mfit\u001b[0;34m(self, x, y, batch_size, epochs, verbose, callbacks, validation_split, validation_data, shuffle, class_weight, sample_weight, initial_epoch, steps_per_epoch, validation_steps, **kwargs)\u001b[0m\n\u001b[1;32m   1040\u001b[0m                                         \u001b[0minitial_epoch\u001b[0m\u001b[0;34m=\u001b[0m\u001b[0minitial_epoch\u001b[0m\u001b[0;34m,\u001b[0m\u001b[0;34m\u001b[0m\u001b[0m\n\u001b[1;32m   1041\u001b[0m                                         \u001b[0msteps_per_epoch\u001b[0m\u001b[0;34m=\u001b[0m\u001b[0msteps_per_epoch\u001b[0m\u001b[0;34m,\u001b[0m\u001b[0;34m\u001b[0m\u001b[0m\n\u001b[0;32m-> 1042\u001b[0;31m                                         validation_steps=validation_steps)\n\u001b[0m\u001b[1;32m   1043\u001b[0m \u001b[0;34m\u001b[0m\u001b[0m\n\u001b[1;32m   1044\u001b[0m     def evaluate(self, x=None, y=None,\n",
      "\u001b[0;32m~/.conda/envs/doctorado-gpu/lib/python3.6/site-packages/keras/engine/training_arrays.py\u001b[0m in \u001b[0;36mfit_loop\u001b[0;34m(model, f, ins, out_labels, batch_size, epochs, verbose, callbacks, val_f, val_ins, shuffle, callback_metrics, initial_epoch, steps_per_epoch, validation_steps)\u001b[0m\n\u001b[1;32m    197\u001b[0m                     \u001b[0mins_batch\u001b[0m\u001b[0;34m[\u001b[0m\u001b[0mi\u001b[0m\u001b[0;34m]\u001b[0m \u001b[0;34m=\u001b[0m \u001b[0mins_batch\u001b[0m\u001b[0;34m[\u001b[0m\u001b[0mi\u001b[0m\u001b[0;34m]\u001b[0m\u001b[0;34m.\u001b[0m\u001b[0mtoarray\u001b[0m\u001b[0;34m(\u001b[0m\u001b[0;34m)\u001b[0m\u001b[0;34m\u001b[0m\u001b[0m\n\u001b[1;32m    198\u001b[0m \u001b[0;34m\u001b[0m\u001b[0m\n\u001b[0;32m--> 199\u001b[0;31m                 \u001b[0mouts\u001b[0m \u001b[0;34m=\u001b[0m \u001b[0mf\u001b[0m\u001b[0;34m(\u001b[0m\u001b[0mins_batch\u001b[0m\u001b[0;34m)\u001b[0m\u001b[0;34m\u001b[0m\u001b[0m\n\u001b[0m\u001b[1;32m    200\u001b[0m                 \u001b[0;32mif\u001b[0m \u001b[0;32mnot\u001b[0m \u001b[0misinstance\u001b[0m\u001b[0;34m(\u001b[0m\u001b[0mouts\u001b[0m\u001b[0;34m,\u001b[0m \u001b[0mlist\u001b[0m\u001b[0;34m)\u001b[0m\u001b[0;34m:\u001b[0m\u001b[0;34m\u001b[0m\u001b[0m\n\u001b[1;32m    201\u001b[0m                     \u001b[0mouts\u001b[0m \u001b[0;34m=\u001b[0m \u001b[0;34m[\u001b[0m\u001b[0mouts\u001b[0m\u001b[0;34m]\u001b[0m\u001b[0;34m\u001b[0m\u001b[0m\n",
      "\u001b[0;32m~/.conda/envs/doctorado-gpu/lib/python3.6/site-packages/keras/backend/tensorflow_backend.py\u001b[0m in \u001b[0;36m__call__\u001b[0;34m(self, inputs)\u001b[0m\n\u001b[1;32m   2665\u001b[0m                     \u001b[0;34m'In order to feed symbolic tensors to a Keras model '\u001b[0m\u001b[0;34m\u001b[0m\u001b[0m\n\u001b[1;32m   2666\u001b[0m                     'in TensorFlow, you need tensorflow 1.8 or higher.')\n\u001b[0;32m-> 2667\u001b[0;31m             \u001b[0;32mreturn\u001b[0m \u001b[0mself\u001b[0m\u001b[0;34m.\u001b[0m\u001b[0m_legacy_call\u001b[0m\u001b[0;34m(\u001b[0m\u001b[0minputs\u001b[0m\u001b[0;34m)\u001b[0m\u001b[0;34m\u001b[0m\u001b[0m\n\u001b[0m\u001b[1;32m   2668\u001b[0m \u001b[0;34m\u001b[0m\u001b[0m\n\u001b[1;32m   2669\u001b[0m \u001b[0;34m\u001b[0m\u001b[0m\n",
      "\u001b[0;32m~/.conda/envs/doctorado-gpu/lib/python3.6/site-packages/keras/backend/tensorflow_backend.py\u001b[0m in \u001b[0;36m_legacy_call\u001b[0;34m(self, inputs)\u001b[0m\n\u001b[1;32m   2647\u001b[0m         \u001b[0msession\u001b[0m \u001b[0;34m=\u001b[0m \u001b[0mget_session\u001b[0m\u001b[0;34m(\u001b[0m\u001b[0;34m)\u001b[0m\u001b[0;34m\u001b[0m\u001b[0m\n\u001b[1;32m   2648\u001b[0m         updated = session.run(fetches=fetches, feed_dict=feed_dict,\n\u001b[0;32m-> 2649\u001b[0;31m                               **self.session_kwargs)\n\u001b[0m\u001b[1;32m   2650\u001b[0m         \u001b[0;32mreturn\u001b[0m \u001b[0mupdated\u001b[0m\u001b[0;34m[\u001b[0m\u001b[0;34m:\u001b[0m\u001b[0mlen\u001b[0m\u001b[0;34m(\u001b[0m\u001b[0mself\u001b[0m\u001b[0;34m.\u001b[0m\u001b[0moutputs\u001b[0m\u001b[0;34m)\u001b[0m\u001b[0;34m]\u001b[0m\u001b[0;34m\u001b[0m\u001b[0m\n\u001b[1;32m   2651\u001b[0m \u001b[0;34m\u001b[0m\u001b[0m\n",
      "\u001b[0;32m~/.conda/envs/doctorado-gpu/lib/python3.6/site-packages/tensorflow/python/client/session.py\u001b[0m in \u001b[0;36mrun\u001b[0;34m(self, fetches, feed_dict, options, run_metadata)\u001b[0m\n\u001b[1;32m    787\u001b[0m     \u001b[0;32mtry\u001b[0m\u001b[0;34m:\u001b[0m\u001b[0;34m\u001b[0m\u001b[0m\n\u001b[1;32m    788\u001b[0m       result = self._run(None, fetches, feed_dict, options_ptr,\n\u001b[0;32m--> 789\u001b[0;31m                          run_metadata_ptr)\n\u001b[0m\u001b[1;32m    790\u001b[0m       \u001b[0;32mif\u001b[0m \u001b[0mrun_metadata\u001b[0m\u001b[0;34m:\u001b[0m\u001b[0;34m\u001b[0m\u001b[0m\n\u001b[1;32m    791\u001b[0m         \u001b[0mproto_data\u001b[0m \u001b[0;34m=\u001b[0m \u001b[0mtf_session\u001b[0m\u001b[0;34m.\u001b[0m\u001b[0mTF_GetBuffer\u001b[0m\u001b[0;34m(\u001b[0m\u001b[0mrun_metadata_ptr\u001b[0m\u001b[0;34m)\u001b[0m\u001b[0;34m\u001b[0m\u001b[0m\n",
      "\u001b[0;32m~/.conda/envs/doctorado-gpu/lib/python3.6/site-packages/tensorflow/python/client/session.py\u001b[0m in \u001b[0;36m_run\u001b[0;34m(self, handle, fetches, feed_dict, options, run_metadata)\u001b[0m\n\u001b[1;32m    995\u001b[0m     \u001b[0;32mif\u001b[0m \u001b[0mfinal_fetches\u001b[0m \u001b[0;32mor\u001b[0m \u001b[0mfinal_targets\u001b[0m\u001b[0;34m:\u001b[0m\u001b[0;34m\u001b[0m\u001b[0m\n\u001b[1;32m    996\u001b[0m       results = self._do_run(handle, final_targets, final_fetches,\n\u001b[0;32m--> 997\u001b[0;31m                              feed_dict_string, options, run_metadata)\n\u001b[0m\u001b[1;32m    998\u001b[0m     \u001b[0;32melse\u001b[0m\u001b[0;34m:\u001b[0m\u001b[0;34m\u001b[0m\u001b[0m\n\u001b[1;32m    999\u001b[0m       \u001b[0mresults\u001b[0m \u001b[0;34m=\u001b[0m \u001b[0;34m[\u001b[0m\u001b[0;34m]\u001b[0m\u001b[0;34m\u001b[0m\u001b[0m\n",
      "\u001b[0;32m~/.conda/envs/doctorado-gpu/lib/python3.6/site-packages/tensorflow/python/client/session.py\u001b[0m in \u001b[0;36m_do_run\u001b[0;34m(self, handle, target_list, fetch_list, feed_dict, options, run_metadata)\u001b[0m\n\u001b[1;32m   1130\u001b[0m     \u001b[0;32mif\u001b[0m \u001b[0mhandle\u001b[0m \u001b[0;32mis\u001b[0m \u001b[0;32mNone\u001b[0m\u001b[0;34m:\u001b[0m\u001b[0;34m\u001b[0m\u001b[0m\n\u001b[1;32m   1131\u001b[0m       return self._do_call(_run_fn, self._session, feed_dict, fetch_list,\n\u001b[0;32m-> 1132\u001b[0;31m                            target_list, options, run_metadata)\n\u001b[0m\u001b[1;32m   1133\u001b[0m     \u001b[0;32melse\u001b[0m\u001b[0;34m:\u001b[0m\u001b[0;34m\u001b[0m\u001b[0m\n\u001b[1;32m   1134\u001b[0m       return self._do_call(_prun_fn, self._session, handle, feed_dict,\n",
      "\u001b[0;32m~/.conda/envs/doctorado-gpu/lib/python3.6/site-packages/tensorflow/python/client/session.py\u001b[0m in \u001b[0;36m_do_call\u001b[0;34m(self, fn, *args)\u001b[0m\n\u001b[1;32m   1137\u001b[0m   \u001b[0;32mdef\u001b[0m \u001b[0m_do_call\u001b[0m\u001b[0;34m(\u001b[0m\u001b[0mself\u001b[0m\u001b[0;34m,\u001b[0m \u001b[0mfn\u001b[0m\u001b[0;34m,\u001b[0m \u001b[0;34m*\u001b[0m\u001b[0margs\u001b[0m\u001b[0;34m)\u001b[0m\u001b[0;34m:\u001b[0m\u001b[0;34m\u001b[0m\u001b[0m\n\u001b[1;32m   1138\u001b[0m     \u001b[0;32mtry\u001b[0m\u001b[0;34m:\u001b[0m\u001b[0;34m\u001b[0m\u001b[0m\n\u001b[0;32m-> 1139\u001b[0;31m       \u001b[0;32mreturn\u001b[0m \u001b[0mfn\u001b[0m\u001b[0;34m(\u001b[0m\u001b[0;34m*\u001b[0m\u001b[0margs\u001b[0m\u001b[0;34m)\u001b[0m\u001b[0;34m\u001b[0m\u001b[0m\n\u001b[0m\u001b[1;32m   1140\u001b[0m     \u001b[0;32mexcept\u001b[0m \u001b[0merrors\u001b[0m\u001b[0;34m.\u001b[0m\u001b[0mOpError\u001b[0m \u001b[0;32mas\u001b[0m \u001b[0me\u001b[0m\u001b[0;34m:\u001b[0m\u001b[0;34m\u001b[0m\u001b[0m\n\u001b[1;32m   1141\u001b[0m       \u001b[0mmessage\u001b[0m \u001b[0;34m=\u001b[0m \u001b[0mcompat\u001b[0m\u001b[0;34m.\u001b[0m\u001b[0mas_text\u001b[0m\u001b[0;34m(\u001b[0m\u001b[0me\u001b[0m\u001b[0;34m.\u001b[0m\u001b[0mmessage\u001b[0m\u001b[0;34m)\u001b[0m\u001b[0;34m\u001b[0m\u001b[0m\n",
      "\u001b[0;32m~/.conda/envs/doctorado-gpu/lib/python3.6/site-packages/tensorflow/python/client/session.py\u001b[0m in \u001b[0;36m_run_fn\u001b[0;34m(session, feed_dict, fetch_list, target_list, options, run_metadata)\u001b[0m\n\u001b[1;32m   1119\u001b[0m         return tf_session.TF_Run(session, options,\n\u001b[1;32m   1120\u001b[0m                                  \u001b[0mfeed_dict\u001b[0m\u001b[0;34m,\u001b[0m \u001b[0mfetch_list\u001b[0m\u001b[0;34m,\u001b[0m \u001b[0mtarget_list\u001b[0m\u001b[0;34m,\u001b[0m\u001b[0;34m\u001b[0m\u001b[0m\n\u001b[0;32m-> 1121\u001b[0;31m                                  status, run_metadata)\n\u001b[0m\u001b[1;32m   1122\u001b[0m \u001b[0;34m\u001b[0m\u001b[0m\n\u001b[1;32m   1123\u001b[0m     \u001b[0;32mdef\u001b[0m \u001b[0m_prun_fn\u001b[0m\u001b[0;34m(\u001b[0m\u001b[0msession\u001b[0m\u001b[0;34m,\u001b[0m \u001b[0mhandle\u001b[0m\u001b[0;34m,\u001b[0m \u001b[0mfeed_dict\u001b[0m\u001b[0;34m,\u001b[0m \u001b[0mfetch_list\u001b[0m\u001b[0;34m)\u001b[0m\u001b[0;34m:\u001b[0m\u001b[0;34m\u001b[0m\u001b[0m\n",
      "\u001b[0;31mKeyboardInterrupt\u001b[0m: "
     ]
    }
   ],
   "source": [
    "(Xa, ya), (Xt, yt) = mnist.load_data()\n",
    "Xa = np.reshape(Xa, (len(Xa), 28, 28, 1))  # adapt this if using `channels_first` image data format\n",
    "Xt = np.reshape(Xt, (len(Xt), 28, 28, 1))  # adapt this if using `channels_first` image data format\n",
    "mask=(ya==8)\n",
    "y2=ya[mask]\n",
    "X2=Xa[mask,:,:,:]\n",
    "mask=(ya==5)\n",
    "y1=ya[mask]\n",
    "X1=Xa[mask,:,:,:]\n",
    "mask=(yt==8)\n",
    "y2_t=yt[mask]\n",
    "X2_t=Xt[mask,:,:,:]\n",
    "mask=(yt==5)\n",
    "y1_t=yt[mask]\n",
    "X1_t=Xt[mask,:,:,:]\n",
    "autoencoder2.fit(X2, X2,\n",
    "                epochs=500,\n",
    "                batch_size=128,\n",
    "                shuffle=True,\n",
    "                validation_data=(X2_t, X2_t))"
   ]
  },
  {
   "cell_type": "code",
   "execution_count": 250,
   "metadata": {},
   "outputs": [],
   "source": [
    "out1=[autoencoder2.evaluate(X1[idx:idx+1,:],X1[idx:idx+1,:],verbose=0) for idx in range(int(X1.shape[0]/10))]\n",
    "out2=[autoencoder2.evaluate(X2[idx:idx+1,:],X2[idx:idx+1,:],verbose=0) for idx in range(int(X2.shape[0]/10))]\n"
   ]
  },
  {
   "cell_type": "code",
   "execution_count": 251,
   "metadata": {},
   "outputs": [
    {
     "data": {
      "text/plain": [
       "(array([  1.,   2.,   6.,  15.,  46., 132., 171., 141.,  65.,   6.]),\n",
       " array([-1375.4395752 , -1257.84902954, -1140.25848389, -1022.66793823,\n",
       "         -905.07739258,  -787.48684692,  -669.89630127,  -552.30575562,\n",
       "         -434.71520996,  -317.12466431,  -199.53411865]),\n",
       " <a list of 10 Patch objects>)"
      ]
     },
     "execution_count": 251,
     "metadata": {},
     "output_type": "execute_result"
    },
    {
     "data": {
      "image/png": "[encoded data removed]",
      "text/plain": [
       "<Figure size 432x288 with 1 Axes>"
      ]
     },
     "metadata": {},
     "output_type": "display_data"
    }
   ],
   "source": [
    "plt.hist(out1)\n",
    "plt.hist(out2)"
   ]
  },
  {
   "cell_type": "code",
   "execution_count": 252,
   "metadata": {},
   "outputs": [
    {
     "data": {
      "text/plain": [
       "(array([  8.,  13.,  24.,  36.,  98., 166., 269., 246.,  95.,  19.]),\n",
       " array([-1246.13269043, -1146.07579041, -1046.01889038,  -945.96199036,\n",
       "         -845.90509033,  -745.84819031,  -645.79129028,  -545.73439026,\n",
       "         -445.67749023,  -345.62059021,  -245.56369019]),\n",
       " <a list of 10 Patch objects>)"
      ]
     },
     "execution_count": 252,
     "metadata": {},
     "output_type": "execute_result"
    },
    {
     "data": {
      "image/png": "[encoded data removed]",
      "text/plain": [
       "<Figure size 432x288 with 1 Axes>"
      ]
     },
     "metadata": {},
     "output_type": "display_data"
    }
   ],
   "source": [
    "out1_t=[autoencoder2.evaluate(X1_t[idx:idx+1,:],X1_t[idx:idx+1,:],verbose=0) for idx in range(int(X1_t.shape[0]))]\n",
    "out2_t=[autoencoder2.evaluate(X2_t[idx:idx+1,:],X2_t[idx:idx+1,:],verbose=0) for idx in range(int(X2_t.shape[0]))]\n",
    "plt.hist(out1_t)\n",
    "plt.hist(out2_t)"
   ]
  },
  {
   "cell_type": "code",
   "execution_count": 253,
   "metadata": {},
   "outputs": [
    {
     "data": {
      "image/png": "[encoded data removed]",
      "text/plain": [
       "<Figure size 1440x288 with 20 Axes>"
      ]
     },
     "metadata": {},
     "output_type": "display_data"
    }
   ],
   "source": [
    "decoded_imgs = autoencoder2.predict(X2)\n",
    "def bare(ax):\n",
    "    ax.get_xaxis().set_visible(False)\n",
    "    ax.get_yaxis().set_visible(False)\n",
    "    return ax\n",
    "\n",
    "n = 10\n",
    "plt.figure(figsize=(20,4))\n",
    "for i in range(n):\n",
    "    ax = plt.subplot(2, n, i+1)\n",
    "    plt.imshow(X2[i].reshape(28,28))\n",
    "    plt.gray()\n",
    "    bare(ax)\n",
    "    ax = plt.subplot(2, n, i+1+n)\n",
    "    plt.imshow(decoded_imgs[i].reshape(28,28))\n",
    "    plt.hot()\n",
    "    bare(ax)\n",
    "plt.show()"
   ]
  },
  {
   "cell_type": "code",
   "execution_count": 245,
   "metadata": {},
   "outputs": [
    {
     "data": {
      "image/png": "[encoded data removed]",
      "text/plain": [
       "<Figure size 1440x288 with 20 Axes>"
      ]
     },
     "metadata": {},
     "output_type": "display_data"
    }
   ],
   "source": [
    "decoded_imgs = autoencoder2.predict(X1)\n",
    "def bare(ax):\n",
    "    ax.get_xaxis().set_visible(False)\n",
    "    ax.get_yaxis().set_visible(False)\n",
    "    return ax\n",
    "\n",
    "n = 10\n",
    "plt.figure(figsize=(20,4))\n",
    "for i in range(n):\n",
    "    ax = plt.subplot(2, n, i+1)\n",
    "    plt.imshow(X1[i].reshape(28,28))\n",
    "    plt.gray()\n",
    "    bare(ax)\n",
    "    ax = plt.subplot(2, n, i+1+n)\n",
    "    plt.imshow(decoded_imgs[i].reshape(28,28))\n",
    "    plt.hot()\n",
    "    bare(ax)\n",
    "plt.show()"
   ]
  },
  {
   "cell_type": "code",
   "execution_count": null,
   "metadata": {},
   "outputs": [],
   "source": []
  }
 ],
 "metadata": {
  "kernelspec": {
   "display_name": "Python (tensorflow-gpu)",
   "language": "python",
   "name": "tensorflow-gpu"
  },
  "language_info": {
   "codemirror_mode": {
    "name": "ipython",
    "version": 3
   },
   "file_extension": ".py",
   "mimetype": "text/x-python",
   "name": "python",
   "nbconvert_exporter": "python",
   "pygments_lexer": "ipython3",
   "version": "3.6.5"
  }
 },
 "nbformat": 4,
 "nbformat_minor": 2
}
