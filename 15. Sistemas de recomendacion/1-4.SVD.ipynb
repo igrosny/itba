{
 "cells": [
  {
   "cell_type": "markdown",
   "metadata": {},
   "source": [
    "# SVD (Singular Value Decomposition)\n",
    "\n",
    "$\\huge R = P_{mk}S_{kk}Q^T_{kn}$\n",
    "\n",
    "- La matriz S es diagonal. Sus valores estan ordenados de mayor a menor. \n",
    "- Cada valor de la diagonal de S indica que tan importante es ese feature\n",
    "- Puedo quedarme con los primeros y aproximar la matriz R\n",
    "- Tengo que definir las peliculas no calificadas con algun valor \n",
    "- Tanto P como Q son ortogonales\n",
    "- Si R es una matriz real, la decomposición existe\n",
    "- Elegimos el K y nos garantiza que el la mejor aproximación de rango K (Rank K best aproximation) Trunkated SVD"
   ]
  },
  {
   "cell_type": "code",
   "execution_count": 1,
   "metadata": {},
   "outputs": [],
   "source": [
    "from scipy.sparse.linalg import svds\n",
    "import pandas as pd\n",
    "import numpy as np"
   ]
  },
  {
   "cell_type": "code",
   "execution_count": 2,
   "metadata": {},
   "outputs": [],
   "source": [
    "def SVD(users_items_train_matrix, k = 20):\n",
    "    #get SVD components from train matrix. Choose k.\n",
    "    u, s, vt = svds(users_items_train_matrix, k)\n",
    "    s_diag_matrix=np.diag(s)\n",
    "    X_pred = np.dot(np.dot(u, s_diag_matrix), vt)\n",
    "    return X_pred"
   ]
  },
  {
   "cell_type": "code",
   "execution_count": 3,
   "metadata": {},
   "outputs": [],
   "source": [
    "def rmse(R, R_estimated):\n",
    "    # No es conmutativa! Primero va ground truth, normalmente R_test\n",
    "    # Segundo van las predicciones\n",
    "    # Es necesario el orden para que el nonzero sea del ground truth\n",
    "    nonzeros = R.nonzero()\n",
    "    prediction = R_estimated[nonzeros].flatten()\n",
    "    ground_truth = R[nonzeros].flatten()\n",
    "    return np.sqrt(((prediction - ground_truth)**2).sum()/ground_truth.shape[0])"
   ]
  },
  {
   "cell_type": "code",
   "execution_count": 4,
   "metadata": {},
   "outputs": [],
   "source": [
    "header = ['userId', 'movieId', 'rating', 'timestamp']\n",
    "df = pd.read_csv('./ml-100k/u.data', sep='\\t', names=header)\n",
    "n_users = df.userId.unique().shape[0]\n",
    "n_items = df.movieId.unique().shape[0]"
   ]
  },
  {
   "cell_type": "code",
   "execution_count": 5,
   "metadata": {},
   "outputs": [],
   "source": [
    "from sklearn.model_selection import train_test_split\n",
    "train_data, test_data = train_test_split(df, test_size=0.2)"
   ]
  },
  {
   "cell_type": "code",
   "execution_count": 6,
   "metadata": {},
   "outputs": [
    {
     "data": {
      "text/plain": [
       "(80000, 20000)"
      ]
     },
     "execution_count": 6,
     "metadata": {},
     "output_type": "execute_result"
    }
   ],
   "source": [
    "n_split = 20000\n",
    "train_data = df[n_split:]\n",
    "test_data = df[:n_split]\n",
    "len(train_data), len(test_data)"
   ]
  },
  {
   "cell_type": "code",
   "execution_count": 28,
   "metadata": {},
   "outputs": [
    {
     "data": {
      "text/html": [
       "<div>\n",
       "<style scoped>\n",
       "    .dataframe tbody tr th:only-of-type {\n",
       "        vertical-align: middle;\n",
       "    }\n",
       "\n",
       "    .dataframe tbody tr th {\n",
       "        vertical-align: top;\n",
       "    }\n",
       "\n",
       "    .dataframe thead th {\n",
       "        text-align: right;\n",
       "    }\n",
       "</style>\n",
       "<table border=\"1\" class=\"dataframe\">\n",
       "  <thead>\n",
       "    <tr style=\"text-align: right;\">\n",
       "      <th></th>\n",
       "      <th>userId</th>\n",
       "      <th>movieId</th>\n",
       "      <th>rating</th>\n",
       "      <th>timestamp</th>\n",
       "    </tr>\n",
       "  </thead>\n",
       "  <tbody>\n",
       "    <tr>\n",
       "      <th>0</th>\n",
       "      <td>196</td>\n",
       "      <td>242</td>\n",
       "      <td>3</td>\n",
       "      <td>881250949</td>\n",
       "    </tr>\n",
       "    <tr>\n",
       "      <th>1</th>\n",
       "      <td>186</td>\n",
       "      <td>302</td>\n",
       "      <td>3</td>\n",
       "      <td>891717742</td>\n",
       "    </tr>\n",
       "    <tr>\n",
       "      <th>2</th>\n",
       "      <td>22</td>\n",
       "      <td>377</td>\n",
       "      <td>1</td>\n",
       "      <td>878887116</td>\n",
       "    </tr>\n",
       "    <tr>\n",
       "      <th>3</th>\n",
       "      <td>244</td>\n",
       "      <td>51</td>\n",
       "      <td>2</td>\n",
       "      <td>880606923</td>\n",
       "    </tr>\n",
       "    <tr>\n",
       "      <th>4</th>\n",
       "      <td>166</td>\n",
       "      <td>346</td>\n",
       "      <td>1</td>\n",
       "      <td>886397596</td>\n",
       "    </tr>\n",
       "  </tbody>\n",
       "</table>\n",
       "</div>"
      ],
      "text/plain": [
       "   userId  movieId  rating  timestamp\n",
       "0     196      242       3  881250949\n",
       "1     186      302       3  891717742\n",
       "2      22      377       1  878887116\n",
       "3     244       51       2  880606923\n",
       "4     166      346       1  886397596"
      ]
     },
     "execution_count": 28,
     "metadata": {},
     "output_type": "execute_result"
    }
   ],
   "source": [
    "test_data.head()"
   ]
  },
  {
   "cell_type": "code",
   "execution_count": 8,
   "metadata": {},
   "outputs": [],
   "source": [
    "#Create two user-item matrices, one for training and another for testing\n",
    "train_data_matrix = np.zeros((n_users, n_items))\n",
    "for line in train_data.itertuples():\n",
    "    train_data_matrix[line[1]-1, line[2]-1] = line[3]\n",
    "\n",
    "test_data_matrix = np.zeros((n_users, n_items))\n",
    "for line in test_data.itertuples():\n",
    "    test_data_matrix[line[1]-1, line[2]-1] = line[3]"
   ]
  },
  {
   "cell_type": "markdown",
   "metadata": {},
   "source": [
    "# Aplico SVD directamente"
   ]
  },
  {
   "cell_type": "code",
   "execution_count": 25,
   "metadata": {},
   "outputs": [
    {
     "data": {
      "text/plain": [
       "array([[5., 3., 4., ..., 0., 0., 0.],\n",
       "       [4., 0., 0., ..., 0., 0., 0.],\n",
       "       [0., 0., 0., ..., 0., 0., 0.],\n",
       "       ...,\n",
       "       [5., 0., 0., ..., 0., 0., 0.],\n",
       "       [0., 0., 0., ..., 0., 0., 0.],\n",
       "       [0., 5., 0., ..., 0., 0., 0.]])"
      ]
     },
     "execution_count": 25,
     "metadata": {},
     "output_type": "execute_result"
    }
   ],
   "source": [
    "train_data_matrix"
   ]
  },
  {
   "cell_type": "code",
   "execution_count": 10,
   "metadata": {},
   "outputs": [
    {
     "data": {
      "text/plain": [
       "array([[0., 0., 0., ..., 0., 0., 0.],\n",
       "       [0., 0., 0., ..., 0., 0., 0.],\n",
       "       [0., 0., 0., ..., 0., 0., 0.],\n",
       "       ...,\n",
       "       [0., 0., 0., ..., 0., 0., 0.],\n",
       "       [0., 0., 0., ..., 0., 0., 0.],\n",
       "       [0., 0., 0., ..., 0., 0., 0.]])"
      ]
     },
     "execution_count": 10,
     "metadata": {},
     "output_type": "execute_result"
    }
   ],
   "source": [
    "test_data_matrix"
   ]
  },
  {
   "cell_type": "code",
   "execution_count": 31,
   "metadata": {},
   "outputs": [],
   "source": [
    "SVD_Predictions = SVD(train_data_matrix, k=200)"
   ]
  },
  {
   "cell_type": "code",
   "execution_count": 32,
   "metadata": {},
   "outputs": [
    {
     "name": "stdout",
     "output_type": "stream",
     "text": [
      "Training: 1.0590301482181055\n",
      "Testing: 3.541300715956298\n"
     ]
    }
   ],
   "source": [
    "print('Training:',rmse(train_data_matrix, SVD_Predictions))\n",
    "print('Testing:',rmse(test_data_matrix, SVD_Predictions))"
   ]
  },
  {
   "cell_type": "code",
   "execution_count": 46,
   "metadata": {},
   "outputs": [],
   "source": [
    "mse_train = []\n",
    "mse_test = []\n",
    "ks = [2, 4, 5, 7, 10, 12, 15, 20, 50]\n",
    "for k in ks:\n",
    "    SVD_Predictions = SVD(train_data_matrix, k=k)\n",
    "    mse_train.append(rmse(train_data_matrix, SVD_Predictions))\n",
    "    mse_test.append(rmse(test_data_matrix, SVD_Predictions))"
   ]
  },
  {
   "cell_type": "code",
   "execution_count": 47,
   "metadata": {},
   "outputs": [],
   "source": [
    "from matplotlib import pyplot as plt"
   ]
  },
  {
   "cell_type": "code",
   "execution_count": 49,
   "metadata": {},
   "outputs": [
    {
     "data": {
      "text/plain": [
       "<matplotlib.legend.Legend at 0x7f82b2476828>"
      ]
     },
     "execution_count": 49,
     "metadata": {},
     "output_type": "execute_result"
    },
    {
     "data": {
      "image/png": "[encoded data removed]",
      "text/plain": [
       "<Figure size 432x288 with 1 Axes>"
      ]
     },
     "metadata": {
      "needs_background": "light"
     },
     "output_type": "display_data"
    }
   ],
   "source": [
    "plt.plot(ks, mse_train, label='train')\n",
    "plt.plot(ks, mse_test, label='test')\n",
    "plt.xlabel('rank (k)')\n",
    "plt.ylabel('RMSE')\n",
    "plt.legend()"
   ]
  },
  {
   "cell_type": "code",
   "execution_count": 57,
   "metadata": {},
   "outputs": [
    {
     "name": "stdout",
     "output_type": "stream",
     "text": [
      "2.4126220915790637\n",
      "2.8694009323922436\n"
     ]
    }
   ],
   "source": [
    "SVD_Predictions = SVD(train_data_matrix, k=12)\n",
    "print(rmse(train_data_matrix, SVD_Predictions))\n",
    "print(rmse(test_data_matrix, SVD_Predictions))"
   ]
  },
  {
   "cell_type": "markdown",
   "metadata": {},
   "source": [
    "# Que pasa si predigo con la media:"
   ]
  },
  {
   "cell_type": "code",
   "execution_count": 13,
   "metadata": {},
   "outputs": [
    {
     "name": "stdout",
     "output_type": "stream",
     "text": [
      "3.52835\n"
     ]
    }
   ],
   "source": [
    "mu = train_data_matrix[train_data_matrix.nonzero()].mean()\n",
    "print(mu)"
   ]
  },
  {
   "cell_type": "code",
   "execution_count": 14,
   "metadata": {},
   "outputs": [
    {
     "name": "stdout",
     "output_type": "stream",
     "text": [
      "Training: 1.1185576773237935\n",
      "Testing: 1.1536759477860323\n"
     ]
    }
   ],
   "source": [
    "print('Training:',rmse(train_data_matrix, mu*np.ones(train_data_matrix.shape)))\n",
    "print('Testing:',rmse(test_data_matrix, mu*np.ones(test_data_matrix.shape)))"
   ]
  },
  {
   "cell_type": "markdown",
   "metadata": {},
   "source": [
    "# Agrego la media al SVD"
   ]
  },
  {
   "cell_type": "code",
   "execution_count": 58,
   "metadata": {},
   "outputs": [
    {
     "data": {
      "text/plain": [
       "array([[5., 3., 4., ..., 0., 0., 0.],\n",
       "       [4., 0., 0., ..., 0., 0., 0.],\n",
       "       [0., 0., 0., ..., 0., 0., 0.],\n",
       "       ...,\n",
       "       [5., 0., 0., ..., 0., 0., 0.],\n",
       "       [0., 0., 0., ..., 0., 0., 0.],\n",
       "       [0., 5., 0., ..., 0., 0., 0.]])"
      ]
     },
     "execution_count": 58,
     "metadata": {},
     "output_type": "execute_result"
    }
   ],
   "source": [
    "train_data_matrix"
   ]
  },
  {
   "cell_type": "code",
   "execution_count": 61,
   "metadata": {},
   "outputs": [],
   "source": [
    "# Resto la media solo a los distinto de cero\n",
    "R_train_norm = (train_data_matrix - mu)*(train_data_matrix>0) "
   ]
  },
  {
   "cell_type": "code",
   "execution_count": 62,
   "metadata": {},
   "outputs": [
    {
     "data": {
      "text/plain": [
       "array([[ 1.47165, -0.52835,  0.47165, ..., -0.     , -0.     , -0.     ],\n",
       "       [ 0.47165, -0.     , -0.     , ..., -0.     , -0.     , -0.     ],\n",
       "       [-0.     , -0.     , -0.     , ..., -0.     , -0.     , -0.     ],\n",
       "       ...,\n",
       "       [ 1.47165, -0.     , -0.     , ..., -0.     , -0.     , -0.     ],\n",
       "       [-0.     , -0.     , -0.     , ..., -0.     , -0.     , -0.     ],\n",
       "       [-0.     ,  1.47165, -0.     , ..., -0.     , -0.     , -0.     ]])"
      ]
     },
     "execution_count": 62,
     "metadata": {},
     "output_type": "execute_result"
    }
   ],
   "source": [
    "R_train_norm"
   ]
  },
  {
   "cell_type": "code",
   "execution_count": 80,
   "metadata": {},
   "outputs": [],
   "source": [
    "SVD_Predictions_norm = SVD(R_train_norm, k=11) + mu"
   ]
  },
  {
   "cell_type": "code",
   "execution_count": 81,
   "metadata": {},
   "outputs": [
    {
     "name": "stdout",
     "output_type": "stream",
     "text": [
      "Training: 0.9547504434350362\n",
      "Testing: 1.0815885335721025\n"
     ]
    }
   ],
   "source": [
    "print('Training:',rmse(train_data_matrix, SVD_Predictions_norm))\n",
    "print('Testing:',rmse(test_data_matrix, SVD_Predictions_norm))"
   ]
  },
  {
   "cell_type": "markdown",
   "metadata": {},
   "source": [
    "# Agrego baselines"
   ]
  },
  {
   "cell_type": "code",
   "execution_count": 84,
   "metadata": {},
   "outputs": [],
   "source": [
    "from cf_helper_2 import getBaselineEstimates"
   ]
  },
  {
   "cell_type": "code",
   "execution_count": 85,
   "metadata": {},
   "outputs": [],
   "source": [
    "# Estamos haciendo broadcasting\n",
    "bii, bui = getBaselineEstimates(train_data_matrix, mu, \n",
    "                                lambda1 = 0, \n",
    "                                lambda2 = 0, items_first = True, \n",
    "                                not_rated = 0)\n",
    "baseline = mu + bui + bii.T"
   ]
  },
  {
   "cell_type": "code",
   "execution_count": 90,
   "metadata": {},
   "outputs": [
    {
     "name": "stdout",
     "output_type": "stream",
     "text": [
      "[[4.00190249 4.04024311 3.59686054 ... 4.25119098 4.39683364 3.87608257]\n",
      " [3.28990448 3.3282451  2.88486253 ... 3.53919297 3.68483563 3.16408456]\n",
      " [3.1089521  3.14729272 2.70391014 ... 3.35824059 3.50388325 2.98313218]\n",
      " ...\n",
      " [2.1089521  2.14729272 1.70391014 ... 2.35824059 2.50388325 1.98313218]\n",
      " [3.1089521  3.14729272 2.70391014 ... 3.35824059 3.50388325 2.98313218]\n",
      " [3.1089521  3.14729272 2.70391014 ... 3.35824059 3.50388325 2.98313218]]\n"
     ]
    }
   ],
   "source": [
    "print(baseline)"
   ]
  },
  {
   "cell_type": "code",
   "execution_count": 21,
   "metadata": {},
   "outputs": [
    {
     "data": {
      "text/plain": [
       "((1682, 1), (943, 1), (1682, 943))"
      ]
     },
     "execution_count": 21,
     "metadata": {},
     "output_type": "execute_result"
    }
   ],
   "source": [
    "bui.shape, bii.shape, baseline.shape"
   ]
  },
  {
   "cell_type": "code",
   "execution_count": 96,
   "metadata": {},
   "outputs": [
    {
     "name": "stdout",
     "output_type": "stream",
     "text": [
      "Training: 0.8284597005179977\n",
      "Testing: 0.9437513157986919\n"
     ]
    }
   ],
   "source": [
    "R_train_baseline = (train_data_matrix - baseline.T)*(train_data_matrix>0)\n",
    "SVD_Predictions_baseline = SVD(R_train_baseline, k=11) + baseline.T\n",
    "print('Training:',rmse(train_data_matrix, SVD_Predictions_baseline))\n",
    "print('Testing:',rmse(test_data_matrix, SVD_Predictions_baseline))"
   ]
  },
  {
   "cell_type": "code",
   "execution_count": 23,
   "metadata": {},
   "outputs": [],
   "source": []
  },
  {
   "cell_type": "code",
   "execution_count": 24,
   "metadata": {},
   "outputs": [
    {
     "name": "stdout",
     "output_type": "stream",
     "text": [
      "Training: 0.7830014251153156\n",
      "Testing: 0.943982479106113\n"
     ]
    }
   ],
   "source": []
  },
  {
   "cell_type": "code",
   "execution_count": null,
   "metadata": {},
   "outputs": [],
   "source": []
  }
 ],
 "metadata": {
  "kernelspec": {
   "display_name": "Python 3",
   "language": "python",
   "name": "python3"
  },
  "language_info": {
   "codemirror_mode": {
    "name": "ipython",
    "version": 3
   },
   "file_extension": ".py",
   "mimetype": "text/x-python",
   "name": "python",
   "nbconvert_exporter": "python",
   "pygments_lexer": "ipython3",
   "version": "3.6.8"
  }
 },
 "nbformat": 4,
 "nbformat_minor": 2
}
