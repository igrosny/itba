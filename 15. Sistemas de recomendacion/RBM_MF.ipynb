{
 "cells": [
  {
   "cell_type": "code",
   "execution_count": 17,
   "metadata": {
    "collapsed": true
   },
   "outputs": [],
   "source": [
    "import pandas as pd\n",
    "import numpy as np\n",
    "from sklearn.model_selection import train_test_split"
   ]
  },
  {
   "cell_type": "code",
   "execution_count": 8,
   "metadata": {
    "collapsed": true
   },
   "outputs": [],
   "source": [
    "#df = pd.read_csv('movielens/ml-latest-small/ratings.csv')[['userId','movieId','rating']]\n",
    "header = ['userId', 'movieId', 'rating', 'timestamp']\n",
    "df_train = pd.read_csv('./ml-100k/u1.base', sep='\\t', names=header)\n",
    "df_test = pd.read_csv('./ml-100k/u1.test', sep='\\t', names=header)"
   ]
  },
  {
   "cell_type": "code",
   "execution_count": 85,
   "metadata": {},
   "outputs": [
    {
     "data": {
      "text/html": [
       "<div>\n",
       "<style scoped>\n",
       "    .dataframe tbody tr th:only-of-type {\n",
       "        vertical-align: middle;\n",
       "    }\n",
       "\n",
       "    .dataframe tbody tr th {\n",
       "        vertical-align: top;\n",
       "    }\n",
       "\n",
       "    .dataframe thead th {\n",
       "        text-align: right;\n",
       "    }\n",
       "</style>\n",
       "<table border=\"1\" class=\"dataframe\">\n",
       "  <thead>\n",
       "    <tr style=\"text-align: right;\">\n",
       "      <th></th>\n",
       "      <th>userId</th>\n",
       "      <th>movieId</th>\n",
       "      <th>rating</th>\n",
       "      <th>timestamp</th>\n",
       "    </tr>\n",
       "  </thead>\n",
       "  <tbody>\n",
       "    <tr>\n",
       "      <th>0</th>\n",
       "      <td>1</td>\n",
       "      <td>6</td>\n",
       "      <td>5</td>\n",
       "      <td>887431973</td>\n",
       "    </tr>\n",
       "    <tr>\n",
       "      <th>1</th>\n",
       "      <td>1</td>\n",
       "      <td>10</td>\n",
       "      <td>3</td>\n",
       "      <td>875693118</td>\n",
       "    </tr>\n",
       "    <tr>\n",
       "      <th>2</th>\n",
       "      <td>1</td>\n",
       "      <td>12</td>\n",
       "      <td>5</td>\n",
       "      <td>878542960</td>\n",
       "    </tr>\n",
       "    <tr>\n",
       "      <th>3</th>\n",
       "      <td>1</td>\n",
       "      <td>14</td>\n",
       "      <td>5</td>\n",
       "      <td>874965706</td>\n",
       "    </tr>\n",
       "    <tr>\n",
       "      <th>4</th>\n",
       "      <td>1</td>\n",
       "      <td>17</td>\n",
       "      <td>3</td>\n",
       "      <td>875073198</td>\n",
       "    </tr>\n",
       "    <tr>\n",
       "      <th>5</th>\n",
       "      <td>1</td>\n",
       "      <td>20</td>\n",
       "      <td>4</td>\n",
       "      <td>887431883</td>\n",
       "    </tr>\n",
       "    <tr>\n",
       "      <th>6</th>\n",
       "      <td>1</td>\n",
       "      <td>23</td>\n",
       "      <td>4</td>\n",
       "      <td>875072895</td>\n",
       "    </tr>\n",
       "    <tr>\n",
       "      <th>7</th>\n",
       "      <td>1</td>\n",
       "      <td>24</td>\n",
       "      <td>3</td>\n",
       "      <td>875071713</td>\n",
       "    </tr>\n",
       "    <tr>\n",
       "      <th>8</th>\n",
       "      <td>1</td>\n",
       "      <td>27</td>\n",
       "      <td>2</td>\n",
       "      <td>876892946</td>\n",
       "    </tr>\n",
       "    <tr>\n",
       "      <th>9</th>\n",
       "      <td>1</td>\n",
       "      <td>31</td>\n",
       "      <td>3</td>\n",
       "      <td>875072144</td>\n",
       "    </tr>\n",
       "    <tr>\n",
       "      <th>10</th>\n",
       "      <td>1</td>\n",
       "      <td>33</td>\n",
       "      <td>4</td>\n",
       "      <td>878542699</td>\n",
       "    </tr>\n",
       "    <tr>\n",
       "      <th>11</th>\n",
       "      <td>1</td>\n",
       "      <td>36</td>\n",
       "      <td>2</td>\n",
       "      <td>875073180</td>\n",
       "    </tr>\n",
       "    <tr>\n",
       "      <th>12</th>\n",
       "      <td>1</td>\n",
       "      <td>39</td>\n",
       "      <td>4</td>\n",
       "      <td>875072173</td>\n",
       "    </tr>\n",
       "    <tr>\n",
       "      <th>13</th>\n",
       "      <td>1</td>\n",
       "      <td>44</td>\n",
       "      <td>5</td>\n",
       "      <td>878543541</td>\n",
       "    </tr>\n",
       "    <tr>\n",
       "      <th>14</th>\n",
       "      <td>1</td>\n",
       "      <td>47</td>\n",
       "      <td>4</td>\n",
       "      <td>875072125</td>\n",
       "    </tr>\n",
       "    <tr>\n",
       "      <th>15</th>\n",
       "      <td>1</td>\n",
       "      <td>49</td>\n",
       "      <td>3</td>\n",
       "      <td>878542478</td>\n",
       "    </tr>\n",
       "    <tr>\n",
       "      <th>16</th>\n",
       "      <td>1</td>\n",
       "      <td>51</td>\n",
       "      <td>4</td>\n",
       "      <td>878543275</td>\n",
       "    </tr>\n",
       "    <tr>\n",
       "      <th>17</th>\n",
       "      <td>1</td>\n",
       "      <td>53</td>\n",
       "      <td>3</td>\n",
       "      <td>876893206</td>\n",
       "    </tr>\n",
       "    <tr>\n",
       "      <th>18</th>\n",
       "      <td>1</td>\n",
       "      <td>54</td>\n",
       "      <td>3</td>\n",
       "      <td>878543308</td>\n",
       "    </tr>\n",
       "    <tr>\n",
       "      <th>19</th>\n",
       "      <td>1</td>\n",
       "      <td>56</td>\n",
       "      <td>4</td>\n",
       "      <td>875072716</td>\n",
       "    </tr>\n",
       "    <tr>\n",
       "      <th>20</th>\n",
       "      <td>1</td>\n",
       "      <td>60</td>\n",
       "      <td>5</td>\n",
       "      <td>875072370</td>\n",
       "    </tr>\n",
       "    <tr>\n",
       "      <th>21</th>\n",
       "      <td>1</td>\n",
       "      <td>61</td>\n",
       "      <td>4</td>\n",
       "      <td>878542420</td>\n",
       "    </tr>\n",
       "    <tr>\n",
       "      <th>22</th>\n",
       "      <td>1</td>\n",
       "      <td>62</td>\n",
       "      <td>3</td>\n",
       "      <td>878542282</td>\n",
       "    </tr>\n",
       "    <tr>\n",
       "      <th>23</th>\n",
       "      <td>1</td>\n",
       "      <td>64</td>\n",
       "      <td>5</td>\n",
       "      <td>875072404</td>\n",
       "    </tr>\n",
       "    <tr>\n",
       "      <th>24</th>\n",
       "      <td>1</td>\n",
       "      <td>65</td>\n",
       "      <td>4</td>\n",
       "      <td>875072125</td>\n",
       "    </tr>\n",
       "    <tr>\n",
       "      <th>25</th>\n",
       "      <td>1</td>\n",
       "      <td>67</td>\n",
       "      <td>3</td>\n",
       "      <td>876893054</td>\n",
       "    </tr>\n",
       "    <tr>\n",
       "      <th>26</th>\n",
       "      <td>1</td>\n",
       "      <td>69</td>\n",
       "      <td>3</td>\n",
       "      <td>875072262</td>\n",
       "    </tr>\n",
       "    <tr>\n",
       "      <th>27</th>\n",
       "      <td>1</td>\n",
       "      <td>70</td>\n",
       "      <td>3</td>\n",
       "      <td>875072895</td>\n",
       "    </tr>\n",
       "    <tr>\n",
       "      <th>28</th>\n",
       "      <td>1</td>\n",
       "      <td>72</td>\n",
       "      <td>4</td>\n",
       "      <td>878542678</td>\n",
       "    </tr>\n",
       "    <tr>\n",
       "      <th>29</th>\n",
       "      <td>1</td>\n",
       "      <td>73</td>\n",
       "      <td>3</td>\n",
       "      <td>876892774</td>\n",
       "    </tr>\n",
       "    <tr>\n",
       "      <th>...</th>\n",
       "      <td>...</td>\n",
       "      <td>...</td>\n",
       "      <td>...</td>\n",
       "      <td>...</td>\n",
       "    </tr>\n",
       "    <tr>\n",
       "      <th>19970</th>\n",
       "      <td>454</td>\n",
       "      <td>418</td>\n",
       "      <td>3</td>\n",
       "      <td>888267128</td>\n",
       "    </tr>\n",
       "    <tr>\n",
       "      <th>19971</th>\n",
       "      <td>454</td>\n",
       "      <td>484</td>\n",
       "      <td>3</td>\n",
       "      <td>881960445</td>\n",
       "    </tr>\n",
       "    <tr>\n",
       "      <th>19972</th>\n",
       "      <td>454</td>\n",
       "      <td>487</td>\n",
       "      <td>4</td>\n",
       "      <td>888266565</td>\n",
       "    </tr>\n",
       "    <tr>\n",
       "      <th>19973</th>\n",
       "      <td>454</td>\n",
       "      <td>493</td>\n",
       "      <td>2</td>\n",
       "      <td>888267617</td>\n",
       "    </tr>\n",
       "    <tr>\n",
       "      <th>19974</th>\n",
       "      <td>454</td>\n",
       "      <td>633</td>\n",
       "      <td>2</td>\n",
       "      <td>881959745</td>\n",
       "    </tr>\n",
       "    <tr>\n",
       "      <th>19975</th>\n",
       "      <td>454</td>\n",
       "      <td>1063</td>\n",
       "      <td>4</td>\n",
       "      <td>881960029</td>\n",
       "    </tr>\n",
       "    <tr>\n",
       "      <th>19976</th>\n",
       "      <td>454</td>\n",
       "      <td>1299</td>\n",
       "      <td>2</td>\n",
       "      <td>888266991</td>\n",
       "    </tr>\n",
       "    <tr>\n",
       "      <th>19977</th>\n",
       "      <td>455</td>\n",
       "      <td>135</td>\n",
       "      <td>5</td>\n",
       "      <td>879111248</td>\n",
       "    </tr>\n",
       "    <tr>\n",
       "      <th>19978</th>\n",
       "      <td>455</td>\n",
       "      <td>282</td>\n",
       "      <td>3</td>\n",
       "      <td>879109664</td>\n",
       "    </tr>\n",
       "    <tr>\n",
       "      <th>19979</th>\n",
       "      <td>455</td>\n",
       "      <td>293</td>\n",
       "      <td>4</td>\n",
       "      <td>879109110</td>\n",
       "    </tr>\n",
       "    <tr>\n",
       "      <th>19980</th>\n",
       "      <td>455</td>\n",
       "      <td>629</td>\n",
       "      <td>3</td>\n",
       "      <td>879111371</td>\n",
       "    </tr>\n",
       "    <tr>\n",
       "      <th>19981</th>\n",
       "      <td>455</td>\n",
       "      <td>755</td>\n",
       "      <td>3</td>\n",
       "      <td>879112189</td>\n",
       "    </tr>\n",
       "    <tr>\n",
       "      <th>19982</th>\n",
       "      <td>456</td>\n",
       "      <td>175</td>\n",
       "      <td>3</td>\n",
       "      <td>881372946</td>\n",
       "    </tr>\n",
       "    <tr>\n",
       "      <th>19983</th>\n",
       "      <td>456</td>\n",
       "      <td>294</td>\n",
       "      <td>1</td>\n",
       "      <td>881375667</td>\n",
       "    </tr>\n",
       "    <tr>\n",
       "      <th>19984</th>\n",
       "      <td>456</td>\n",
       "      <td>715</td>\n",
       "      <td>3</td>\n",
       "      <td>881373697</td>\n",
       "    </tr>\n",
       "    <tr>\n",
       "      <th>19985</th>\n",
       "      <td>456</td>\n",
       "      <td>943</td>\n",
       "      <td>4</td>\n",
       "      <td>881372946</td>\n",
       "    </tr>\n",
       "    <tr>\n",
       "      <th>19986</th>\n",
       "      <td>457</td>\n",
       "      <td>182</td>\n",
       "      <td>4</td>\n",
       "      <td>882396659</td>\n",
       "    </tr>\n",
       "    <tr>\n",
       "      <th>19987</th>\n",
       "      <td>457</td>\n",
       "      <td>192</td>\n",
       "      <td>5</td>\n",
       "      <td>882395018</td>\n",
       "    </tr>\n",
       "    <tr>\n",
       "      <th>19988</th>\n",
       "      <td>457</td>\n",
       "      <td>366</td>\n",
       "      <td>4</td>\n",
       "      <td>882549287</td>\n",
       "    </tr>\n",
       "    <tr>\n",
       "      <th>19989</th>\n",
       "      <td>457</td>\n",
       "      <td>443</td>\n",
       "      <td>4</td>\n",
       "      <td>882396989</td>\n",
       "    </tr>\n",
       "    <tr>\n",
       "      <th>19990</th>\n",
       "      <td>457</td>\n",
       "      <td>636</td>\n",
       "      <td>4</td>\n",
       "      <td>882548466</td>\n",
       "    </tr>\n",
       "    <tr>\n",
       "      <th>19991</th>\n",
       "      <td>457</td>\n",
       "      <td>704</td>\n",
       "      <td>4</td>\n",
       "      <td>882397240</td>\n",
       "    </tr>\n",
       "    <tr>\n",
       "      <th>19992</th>\n",
       "      <td>457</td>\n",
       "      <td>708</td>\n",
       "      <td>4</td>\n",
       "      <td>882398002</td>\n",
       "    </tr>\n",
       "    <tr>\n",
       "      <th>19993</th>\n",
       "      <td>457</td>\n",
       "      <td>775</td>\n",
       "      <td>3</td>\n",
       "      <td>882551021</td>\n",
       "    </tr>\n",
       "    <tr>\n",
       "      <th>19994</th>\n",
       "      <td>458</td>\n",
       "      <td>144</td>\n",
       "      <td>4</td>\n",
       "      <td>886396390</td>\n",
       "    </tr>\n",
       "    <tr>\n",
       "      <th>19995</th>\n",
       "      <td>458</td>\n",
       "      <td>648</td>\n",
       "      <td>4</td>\n",
       "      <td>886395899</td>\n",
       "    </tr>\n",
       "    <tr>\n",
       "      <th>19996</th>\n",
       "      <td>458</td>\n",
       "      <td>1101</td>\n",
       "      <td>4</td>\n",
       "      <td>886397931</td>\n",
       "    </tr>\n",
       "    <tr>\n",
       "      <th>19997</th>\n",
       "      <td>459</td>\n",
       "      <td>934</td>\n",
       "      <td>3</td>\n",
       "      <td>879563639</td>\n",
       "    </tr>\n",
       "    <tr>\n",
       "      <th>19998</th>\n",
       "      <td>460</td>\n",
       "      <td>10</td>\n",
       "      <td>3</td>\n",
       "      <td>882912371</td>\n",
       "    </tr>\n",
       "    <tr>\n",
       "      <th>19999</th>\n",
       "      <td>462</td>\n",
       "      <td>682</td>\n",
       "      <td>5</td>\n",
       "      <td>886365231</td>\n",
       "    </tr>\n",
       "  </tbody>\n",
       "</table>\n",
       "<p>20000 rows × 4 columns</p>\n",
       "</div>"
      ],
      "text/plain": [
       "       userId  movieId  rating  timestamp\n",
       "0           1        6       5  887431973\n",
       "1           1       10       3  875693118\n",
       "2           1       12       5  878542960\n",
       "3           1       14       5  874965706\n",
       "4           1       17       3  875073198\n",
       "5           1       20       4  887431883\n",
       "6           1       23       4  875072895\n",
       "7           1       24       3  875071713\n",
       "8           1       27       2  876892946\n",
       "9           1       31       3  875072144\n",
       "10          1       33       4  878542699\n",
       "11          1       36       2  875073180\n",
       "12          1       39       4  875072173\n",
       "13          1       44       5  878543541\n",
       "14          1       47       4  875072125\n",
       "15          1       49       3  878542478\n",
       "16          1       51       4  878543275\n",
       "17          1       53       3  876893206\n",
       "18          1       54       3  878543308\n",
       "19          1       56       4  875072716\n",
       "20          1       60       5  875072370\n",
       "21          1       61       4  878542420\n",
       "22          1       62       3  878542282\n",
       "23          1       64       5  875072404\n",
       "24          1       65       4  875072125\n",
       "25          1       67       3  876893054\n",
       "26          1       69       3  875072262\n",
       "27          1       70       3  875072895\n",
       "28          1       72       4  878542678\n",
       "29          1       73       3  876892774\n",
       "...       ...      ...     ...        ...\n",
       "19970     454      418       3  888267128\n",
       "19971     454      484       3  881960445\n",
       "19972     454      487       4  888266565\n",
       "19973     454      493       2  888267617\n",
       "19974     454      633       2  881959745\n",
       "19975     454     1063       4  881960029\n",
       "19976     454     1299       2  888266991\n",
       "19977     455      135       5  879111248\n",
       "19978     455      282       3  879109664\n",
       "19979     455      293       4  879109110\n",
       "19980     455      629       3  879111371\n",
       "19981     455      755       3  879112189\n",
       "19982     456      175       3  881372946\n",
       "19983     456      294       1  881375667\n",
       "19984     456      715       3  881373697\n",
       "19985     456      943       4  881372946\n",
       "19986     457      182       4  882396659\n",
       "19987     457      192       5  882395018\n",
       "19988     457      366       4  882549287\n",
       "19989     457      443       4  882396989\n",
       "19990     457      636       4  882548466\n",
       "19991     457      704       4  882397240\n",
       "19992     457      708       4  882398002\n",
       "19993     457      775       3  882551021\n",
       "19994     458      144       4  886396390\n",
       "19995     458      648       4  886395899\n",
       "19996     458     1101       4  886397931\n",
       "19997     459      934       3  879563639\n",
       "19998     460       10       3  882912371\n",
       "19999     462      682       5  886365231\n",
       "\n",
       "[20000 rows x 4 columns]"
      ]
     },
     "execution_count": 85,
     "metadata": {},
     "output_type": "execute_result"
    }
   ],
   "source": [
    "len(df_train), len(df_test)\n",
    "df_test"
   ]
  },
  {
   "cell_type": "code",
   "execution_count": 96,
   "metadata": {
    "collapsed": true
   },
   "outputs": [],
   "source": [
    "def get_user_item_matrix(dataframe, userIndexTag, itemIndexTag,ratingTag, base_1 = False):\n",
    "    first = 0\n",
    "    if base_1:\n",
    "        first = 1\n",
    "    n_users = dataframe[userIndexTag].unique().shape[0]\n",
    "    n_items = dataframe[itemIndexTag].unique().shape[0]\n",
    "    n_users = max(dataframe[userIndexTag]) \n",
    "    n_items = max(dataframe[itemIndexTag]) \n",
    "    R = np.zeros((n_users, n_items))\n",
    "    for index, line in dataframe.iterrows():\n",
    "        #print(line)\n",
    "        R[line[userIndexTag] - first, line[itemIndexTag] - first] = line[ratingTag]\n",
    "    return R"
   ]
  },
  {
   "cell_type": "code",
   "execution_count": 97,
   "metadata": {
    "collapsed": true
   },
   "outputs": [],
   "source": [
    "R_train = get_user_item_matrix(df_train, 'userId','movieId','rating', base_1 = True)"
   ]
  },
  {
   "cell_type": "code",
   "execution_count": 99,
   "metadata": {
    "collapsed": true
   },
   "outputs": [],
   "source": [
    "R_test = get_user_item_matrix(df_test, 'userId','movieId','rating', base_1 = True)"
   ]
  },
  {
   "cell_type": "code",
   "execution_count": 98,
   "metadata": {},
   "outputs": [
    {
     "data": {
      "text/plain": [
       "(943, 1682)"
      ]
     },
     "execution_count": 98,
     "metadata": {},
     "output_type": "execute_result"
    }
   ],
   "source": [
    "R_train.shape"
   ]
  },
  {
   "cell_type": "code",
   "execution_count": 101,
   "metadata": {},
   "outputs": [
    {
     "data": {
      "text/plain": [
       "(462, 1591)"
      ]
     },
     "execution_count": 101,
     "metadata": {},
     "output_type": "execute_result"
    }
   ],
   "source": [
    "R_test.shape"
   ]
  },
  {
   "cell_type": "code",
   "execution_count": 102,
   "metadata": {},
   "outputs": [
    {
     "data": {
      "text/plain": [
       "3.0"
      ]
     },
     "execution_count": 102,
     "metadata": {},
     "output_type": "execute_result"
    }
   ],
   "source": [
    "R_train[:,-2].sum()"
   ]
  },
  {
   "cell_type": "code",
   "execution_count": 103,
   "metadata": {
    "collapsed": true
   },
   "outputs": [],
   "source": [
    "from cf_helper_2 import Matrix_Factorization_baselines_SGD"
   ]
  },
  {
   "cell_type": "code",
   "execution_count": 104,
   "metadata": {
    "collapsed": true
   },
   "outputs": [],
   "source": [
    "mu = R_train[R_train.nonzero() ].mean()\n",
    "R_rated_indexes_train = R_train.nonzero()\n",
    "R_rated_indexes_test = R_test.nonzero()"
   ]
  },
  {
   "cell_type": "code",
   "execution_count": 105,
   "metadata": {},
   "outputs": [
    {
     "data": {
      "text/plain": [
       "(943, 1682)"
      ]
     },
     "execution_count": 105,
     "metadata": {},
     "output_type": "execute_result"
    }
   ],
   "source": [
    "R_train.shape"
   ]
  },
  {
   "cell_type": "code",
   "execution_count": 118,
   "metadata": {},
   "outputs": [
    {
     "name": "stdout",
     "output_type": "stream",
     "text": [
      "epoch = -1 accuracy (train, test): (5.8987, 6.9550), rmse (train, test): (1.118553, 1.153675)\n",
      "epoch = 0 accuracy (train, test): (5.8987, 6.9550), rmse (train, test): (0.968313, 1.003784)\n",
      "epoch = 1 accuracy (train, test): (5.8987, 6.9550), rmse (train, test): (0.944543, 0.982860)\n",
      "epoch = 2 accuracy (train, test): (5.8987, 6.9550), rmse (train, test): (0.934259, 0.973902)\n",
      "epoch = 3 accuracy (train, test): (5.8987, 6.9550), rmse (train, test): (0.928506, 0.968879)\n",
      "epoch = 4 accuracy (train, test): (5.8987, 6.9550), rmse (train, test): (0.924891, 0.965713)\n",
      "epoch = 5 accuracy (train, test): (5.8987, 6.9550), rmse (train, test): (0.922444, 0.963571)\n",
      "epoch = 6 accuracy (train, test): (5.8987, 6.9550), rmse (train, test): (0.920699, 0.962052)\n",
      "epoch = 7 accuracy (train, test): (5.8987, 6.9550), rmse (train, test): (0.919400, 0.960940)\n",
      "epoch = 8 accuracy (train, test): (5.8987, 6.9550), rmse (train, test): (0.918402, 0.960105)\n",
      "epoch = 9 accuracy (train, test): (5.8987, 6.9550), rmse (train, test): (0.917611, 0.959466)\n",
      "epoch = 10 accuracy (train, test): (5.8987, 6.9550), rmse (train, test): (0.916969, 0.958969)\n",
      "epoch = 11 accuracy (train, test): (5.8987, 6.9550), rmse (train, test): (0.916434, 0.958577)\n",
      "epoch = 12 accuracy (train, test): (5.8987, 6.9500), rmse (train, test): (0.915976, 0.958262)\n",
      "epoch = 13 accuracy (train, test): (5.8987, 6.9500), rmse (train, test): (0.915568, 0.958002)\n",
      "epoch = 14 accuracy (train, test): (5.8987, 6.9500), rmse (train, test): (0.915188, 0.957778)\n",
      "epoch = 15 accuracy (train, test): (5.8987, 6.9500), rmse (train, test): (0.914809, 0.957571)\n",
      "epoch = 16 accuracy (train, test): (5.8987, 6.9500), rmse (train, test): (0.914396, 0.957358)\n",
      "epoch = 17 accuracy (train, test): (5.8987, 6.9500), rmse (train, test): (0.913898, 0.957110)\n",
      "epoch = 18 accuracy (train, test): (5.8987, 6.9500), rmse (train, test): (0.913241, 0.956782)\n",
      "epoch = 19 accuracy (train, test): (5.8987, 6.9500), rmse (train, test): (0.912315, 0.956311)\n",
      "epoch = 20 accuracy (train, test): (5.8987, 6.9500), rmse (train, test): (0.910968, 0.955608)\n",
      "epoch = 21 accuracy (train, test): (5.8987, 6.9500), rmse (train, test): (0.909022, 0.954559)\n",
      "epoch = 22 accuracy (train, test): (5.8987, 6.9500), rmse (train, test): (0.906325, 0.953057)\n",
      "epoch = 23 accuracy (train, test): (5.8987, 6.9500), rmse (train, test): (0.902854, 0.951055)\n",
      "epoch = 24 accuracy (train, test): (5.8987, 6.9500), rmse (train, test): (0.898795, 0.948637)\n",
      "epoch = 25 accuracy (train, test): (5.8987, 6.9500), rmse (train, test): (0.894500, 0.946024)\n",
      "epoch = 26 accuracy (train, test): (5.8987, 6.9500), rmse (train, test): (0.890301, 0.943477)\n",
      "epoch = 27 accuracy (train, test): (5.8987, 6.9500), rmse (train, test): (0.886361, 0.941173)\n",
      "epoch = 28 accuracy (train, test): (5.8987, 6.9500), rmse (train, test): (0.882664, 0.939162)\n",
      "epoch = 29 accuracy (train, test): (5.8987, 6.9500), rmse (train, test): (0.879091, 0.937399)\n",
      "epoch = 30 accuracy (train, test): (5.8987, 6.9500), rmse (train, test): (0.875492, 0.935811)\n",
      "epoch = 31 accuracy (train, test): (5.8987, 6.9500), rmse (train, test): (0.871723, 0.934322)\n",
      "epoch = 32 accuracy (train, test): (5.8987, 6.9500), rmse (train, test): (0.867664, 0.932876)\n",
      "epoch = 33 accuracy (train, test): (5.8987, 6.9500), rmse (train, test): (0.863233, 0.931438)\n",
      "epoch = 34 accuracy (train, test): (5.8987, 6.9500), rmse (train, test): (0.858381, 0.929994)\n",
      "epoch = 35 accuracy (train, test): (5.8987, 6.9500), rmse (train, test): (0.853090, 0.928550)\n",
      "epoch = 36 accuracy (train, test): (5.8987, 6.9500), rmse (train, test): (0.847364, 0.927121)\n",
      "epoch = 37 accuracy (train, test): (5.8987, 6.9500), rmse (train, test): (0.841221, 0.925730)\n",
      "epoch = 38 accuracy (train, test): (5.8987, 6.9500), rmse (train, test): (0.834697, 0.924402)\n",
      "epoch = 39 accuracy (train, test): (5.8987, 6.9500), rmse (train, test): (0.827840, 0.923162)\n",
      "epoch = 40 accuracy (train, test): (5.8987, 6.9500), rmse (train, test): (0.820709, 0.922034)\n",
      "epoch = 41 accuracy (train, test): (5.8987, 6.9500), rmse (train, test): (0.813360, 0.921037)\n",
      "epoch = 42 accuracy (train, test): (5.8987, 6.9500), rmse (train, test): (0.805844, 0.920184)\n",
      "epoch = 43 accuracy (train, test): (5.8987, 6.9500), rmse (train, test): (0.798202, 0.919483)\n",
      "epoch = 44 accuracy (train, test): (5.8987, 6.9500), rmse (train, test): (0.790468, 0.918937)\n",
      "epoch = 45 accuracy (train, test): (5.8987, 6.9500), rmse (train, test): (0.782676, 0.918550)\n",
      "epoch = 46 accuracy (train, test): (5.8987, 6.9500), rmse (train, test): (0.774862, 0.918321)\n",
      "epoch = 47 accuracy (train, test): (5.8987, 6.9500), rmse (train, test): (0.767066, 0.918250)\n",
      "epoch = 48 accuracy (train, test): (5.8987, 6.9500), rmse (train, test): (0.759329, 0.918334)\n",
      "epoch = 49 accuracy (train, test): (5.8987, 6.9500), rmse (train, test): (0.751691, 0.918567)\n",
      "epoch = 50 accuracy (train, test): (5.8987, 6.9500), rmse (train, test): (0.744190, 0.918940)\n",
      "epoch = 51 accuracy (train, test): (5.8987, 6.9500), rmse (train, test): (0.736860, 0.919442)\n",
      "epoch = 52 accuracy (train, test): (5.8987, 6.9500), rmse (train, test): (0.729728, 0.920062)\n",
      "epoch = 53 accuracy (train, test): (5.8987, 6.9500), rmse (train, test): (0.722816, 0.920787)\n",
      "epoch = 54 accuracy (train, test): (5.8987, 6.9500), rmse (train, test): (0.716144, 0.921604)\n",
      "epoch = 55 accuracy (train, test): (5.8987, 6.9500), rmse (train, test): (0.709725, 0.922502)\n",
      "epoch = 56 accuracy (train, test): (5.8987, 6.9450), rmse (train, test): (0.703568, 0.923468)\n",
      "epoch = 57 accuracy (train, test): (5.8987, 6.9450), rmse (train, test): (0.697681, 0.924493)\n",
      "epoch = 58 accuracy (train, test): (5.8987, 6.9450), rmse (train, test): (0.692068, 0.925567)\n",
      "epoch = 59 accuracy (train, test): (5.8987, 6.9400), rmse (train, test): (0.686729, 0.926681)\n",
      "epoch = 60 accuracy (train, test): (5.8987, 6.9400), rmse (train, test): (0.681662, 0.927825)\n",
      "epoch = 61 accuracy (train, test): (5.8987, 6.9400), rmse (train, test): (0.676862, 0.928991)\n",
      "epoch = 62 accuracy (train, test): (5.8987, 6.9400), rmse (train, test): (0.672322, 0.930172)\n",
      "epoch = 63 accuracy (train, test): (5.8987, 6.9400), rmse (train, test): (0.668034, 0.931360)\n",
      "epoch = 64 accuracy (train, test): (5.8987, 6.9400), rmse (train, test): (0.663989, 0.932549)\n",
      "epoch = 65 accuracy (train, test): (5.8987, 6.9400), rmse (train, test): (0.660174, 0.933734)\n",
      "epoch = 66 accuracy (train, test): (5.8987, 6.9400), rmse (train, test): (0.656579, 0.934909)\n",
      "epoch = 67 accuracy (train, test): (5.8987, 6.9400), rmse (train, test): (0.653192, 0.936071)\n",
      "epoch = 68 accuracy (train, test): (5.8987, 6.9400), rmse (train, test): (0.650001, 0.937216)\n",
      "epoch = 69 accuracy (train, test): (5.8987, 6.9400), rmse (train, test): (0.646994, 0.938341)\n",
      "epoch = 70 accuracy (train, test): (5.8987, 6.9400), rmse (train, test): (0.644159, 0.939444)\n"
     ]
    }
   ],
   "source": [
    "# gamma: Learning rate\n",
    "P, Q, bu, bi, train_rmse_vector, test_rmse_vector, train_accuracy_vector, train_accuracy_vector, gamma, lmbda \\\n",
    "= Matrix_Factorization_baselines_SGD(R_train , R_test, R_rated_indexes_train, R_rated_indexes_test, mu, k=18 \n",
    "                                     ,sigma = 0.002,\n",
    "                           gamma= 0.01, lmbda = 0.05, alpha = 0., \n",
    "                           n_epochs = 70, error_calc_frec = 1,\n",
    "                           accuracy_thres = 0, like = 1, dislike = -1)"
   ]
  },
  {
   "cell_type": "code",
   "execution_count": 119,
   "metadata": {},
   "outputs": [
    {
     "data": {
      "image/png": "[encoded data removed]",
      "text/plain": [
       "<matplotlib.figure.Figure at 0x12ae8d470>"
      ]
     },
     "metadata": {},
     "output_type": "display_data"
    }
   ],
   "source": [
    "from matplotlib import pyplot as plt\n",
    "plt.plot(train_rmse_vector)\n",
    "plt.plot(test_rmse_vector)\n",
    "plt.show()"
   ]
  },
  {
   "cell_type": "code",
   "execution_count": 120,
   "metadata": {},
   "outputs": [
    {
     "data": {
      "image/png": "[encoded data removed]",
      "text/plain": [
       "<matplotlib.figure.Figure at 0x12ae8d5f8>"
      ]
     },
     "metadata": {},
     "output_type": "display_data"
    }
   ],
   "source": [
    "# gamma= 0.01, lmbda = 0.1\n",
    "from matplotlib import pyplot as plt\n",
    "plt.plot(train_rmse_vector)\n",
    "plt.plot(test_rmse_vector)\n",
    "plt.show()"
   ]
  },
  {
   "cell_type": "code",
   "execution_count": 125,
   "metadata": {
    "collapsed": true
   },
   "outputs": [],
   "source": [
    "RBM_Estimations_train = np.load('train_RBM.npy').T\n",
    "RBM_Estimations_test = np.load('test_RBM.npy').T"
   ]
  },
  {
   "cell_type": "code",
   "execution_count": 126,
   "metadata": {},
   "outputs": [
    {
     "data": {
      "text/plain": [
       "(943, 1682)"
      ]
     },
     "execution_count": 126,
     "metadata": {},
     "output_type": "execute_result"
    }
   ],
   "source": [
    "RBM_Estimations_train.shape"
   ]
  },
  {
   "cell_type": "code",
   "execution_count": 135,
   "metadata": {},
   "outputs": [
    {
     "data": {
      "text/plain": [
       "1513582"
      ]
     },
     "execution_count": 135,
     "metadata": {},
     "output_type": "execute_result"
    }
   ],
   "source": [
    "(RBM_Estimations_train==0).sum()"
   ]
  },
  {
   "cell_type": "code",
   "execution_count": 136,
   "metadata": {},
   "outputs": [
    {
     "data": {
      "text/plain": [
       "1506126"
      ]
     },
     "execution_count": 136,
     "metadata": {},
     "output_type": "execute_result"
    }
   ],
   "source": [
    "(R_train==0).sum()"
   ]
  },
  {
   "cell_type": "code",
   "execution_count": 137,
   "metadata": {
    "collapsed": true
   },
   "outputs": [],
   "source": [
    "from cf_helper_2 import rmse"
   ]
  },
  {
   "cell_type": "code",
   "execution_count": 155,
   "metadata": {},
   "outputs": [
    {
     "data": {
      "text/plain": [
       "3.4982272276419182"
      ]
     },
     "execution_count": 155,
     "metadata": {},
     "output_type": "execute_result"
    }
   ],
   "source": [
    "rmse(RBM_Estimations_train, R_train)"
   ]
  },
  {
   "cell_type": "code",
   "execution_count": 145,
   "metadata": {},
   "outputs": [
    {
     "data": {
      "text/plain": [
       "3.6395810198428058"
      ]
     },
     "execution_count": 145,
     "metadata": {},
     "output_type": "execute_result"
    }
   ],
   "source": [
    "rmse(R_test, RBM_Estimations_test)"
   ]
  },
  {
   "cell_type": "code",
   "execution_count": 156,
   "metadata": {},
   "outputs": [
    {
     "data": {
      "text/plain": [
       "18007"
      ]
     },
     "execution_count": 156,
     "metadata": {},
     "output_type": "execute_result"
    }
   ],
   "source": [
    "len(RBM_Estimations_test.nonzero()[1])"
   ]
  },
  {
   "cell_type": "code",
   "execution_count": 152,
   "metadata": {},
   "outputs": [
    {
     "data": {
      "text/plain": [
       "80000"
      ]
     },
     "execution_count": 152,
     "metadata": {},
     "output_type": "execute_result"
    }
   ],
   "source": [
    "len(R_train.nonzero()[0])"
   ]
  },
  {
   "cell_type": "code",
   "execution_count": null,
   "metadata": {
    "collapsed": true
   },
   "outputs": [],
   "source": []
  },
  {
   "cell_type": "code",
   "execution_count": 113,
   "metadata": {
    "collapsed": true
   },
   "outputs": [],
   "source": [
    "def estimate_rates_RMB(RBM_Estimations, mu, bu, bi, P = np.array([0]), Q = np.array([0])):\n",
    "    return mu + P.T.dot(Q) + bu + bi.T\n",
    "\n",
    "def Matrix_Factorization_baselines_SGD_RBM(R_train , R_test, RBM_Estimations, R_rated_indexes_train, R_rated_indexes_test, mu, k=20 ,sigma = 0.002,\n",
    "                           gamma= 0.01, lmbda = 0, alpha = 0, \n",
    "                           n_epochs = 100, error_calc_frec = 10,\n",
    "                           accuracy_thres = 0, like = 1, dislike = -1):\n",
    "    # n_epochs: Number of epochs\n",
    "    # R_train: likes and dislikes user-item training matrix\n",
    "    # k: Dimensionality of the latent feature space\n",
    "    # lmbda: L2 regularization\n",
    "    # gamma: Learning rate\n",
    "    # alpha: momentum\n",
    "    # sigma: P and Q standard deviation\n",
    "    # error_calc_frec: calculate errors every error_calc_frec cicles\n",
    "    \n",
    "    m, n = R_train.shape  # Number of users and items\n",
    "    \n",
    "    P = np.random.normal(0,sigma,(k,m)) # Latent user feature matrix\n",
    "    Q = np.random.normal(0,sigma,(k,n)) # Latent likes/dislikes feature matrix\n",
    "    \n",
    "    bu = np.random.normal(0,0.0002,(m,1))\n",
    "    bi = np.random.normal(0,0.0002,(n,1))\n",
    "    \n",
    "    train_rmse_vector = []\n",
    "    test_rmse_vector = []\n",
    "    train_accuracy_vector = [] \n",
    "    test_accuracy_vector = []\n",
    "    \n",
    "    sys.stdout.write(\"epoch = %s \" %-1)\n",
    "    acurracy_tr, acurracy_te, rmse_tr, rmse_te = getStats(R_train, R_rated_indexes_train, R_test, R_rated_indexes_test, estimate_rates_RMB(RBM_Estimations, mu, bu, bi, P=P, Q=Q), accuracy_thres = accuracy_thres, like = like, dislike = dislike)\n",
    "    \n",
    "    all_users_items_cominations = list(zip(R_rated_indexes_train[0],R_rated_indexes_train[1]))\n",
    "    \n",
    "    deltaP = 0\n",
    "    deltaQ = 0\n",
    "    deltaBu = 0\n",
    "    deltaBi = 0\n",
    "    for epoch in range(n_epochs+1):\n",
    "        for u, i in all_users_items_cominations:\n",
    "            prediction = estimate_rates_RMB(RBM_Estimations[u,i], mu, bu[u], bi[i], P=P[:,u], Q=Q[:,i])\n",
    "            error = R_train[u, i] - prediction   # Calculate error for gradient            \n",
    "            deltaP = gamma * ( error * Q[:,i] - lmbda * P[:,u]) + alpha*deltaP\n",
    "            deltaQ = gamma * ( error * P[:,u] - lmbda * Q[:,i]) + alpha*deltaQ\n",
    "            \n",
    "            deltaBu = gamma * ( error - lmbda * bu[u]) + alpha*deltaBu\n",
    "            deltaBi = gamma * ( error - lmbda * bi[i]) + alpha*deltaBi\n",
    "            bu[u] += deltaBu\n",
    "            bi[i] += deltaBi\n",
    "            \n",
    "            P[:,u] += deltaP  # Update latent user feature matrix\n",
    "            Q[:,i] += deltaQ  # Update latent movie feature matrix\n",
    "        \n",
    "        if (epoch%error_calc_frec==0):\n",
    "            sys.stdout.write(\"epoch = %s \" %epoch)\n",
    "            acurracy_tr, acurracy_te, rmse_tr, rmse_te = getStats(R_train, R_rated_indexes_train, R_test, R_rated_indexes_test, estimate_rates_RMB(RBM_Estimations, mu, bu, bi, P=P, Q=Q), accuracy_thres = accuracy_thres, like = like, dislike = dislike)\n",
    "            train_rmse_vector.append(rmse_tr)\n",
    "            test_rmse_vector.append(rmse_te)\n",
    "            train_accuracy_vector.append(acurracy_tr)\n",
    "            test_accuracy_vector.append(acurracy_te)\n",
    "    return P, Q, bu, bi, train_rmse_vector, test_rmse_vector, train_accuracy_vector, test_accuracy_vector, gamma, lmbda "
   ]
  },
  {
   "cell_type": "code",
   "execution_count": 128,
   "metadata": {},
   "outputs": [
    {
     "name": "stdout",
     "output_type": "stream",
     "text": [
      "epoch = -1 accuracy (train, test): (5.8987, 6.9550), rmse (train, test): (1.118557, 1.153671)\n",
      "epoch = 0 accuracy (train, test): (5.8987, 6.9550), rmse (train, test): (0.968313, 1.003781)\n",
      "epoch = 1 accuracy (train, test): (5.8987, 6.9550), rmse (train, test): (0.944544, 0.982858)\n",
      "epoch = 2 accuracy (train, test): (5.8987, 6.9550), rmse (train, test): (0.934259, 0.973902)\n",
      "epoch = 3 accuracy (train, test): (5.8987, 6.9550), rmse (train, test): (0.928507, 0.968879)\n",
      "epoch = 4 accuracy (train, test): (5.8987, 6.9550), rmse (train, test): (0.924891, 0.965712)\n",
      "epoch = 5 accuracy (train, test): (5.8987, 6.9550), rmse (train, test): (0.922445, 0.963570)\n",
      "epoch = 6 accuracy (train, test): (5.8987, 6.9550), rmse (train, test): (0.920700, 0.962052)\n",
      "epoch = 7 accuracy (train, test): (5.8987, 6.9550), rmse (train, test): (0.919403, 0.960940)\n",
      "epoch = 8 accuracy (train, test): (5.8987, 6.9550), rmse (train, test): (0.918406, 0.960106)\n",
      "epoch = 9 accuracy (train, test): (5.8987, 6.9550), rmse (train, test): (0.917618, 0.959469)\n",
      "epoch = 10 accuracy (train, test): (5.8987, 6.9550), rmse (train, test): (0.916981, 0.958974)\n",
      "epoch = 11 accuracy (train, test): (5.8987, 6.9550), rmse (train, test): (0.916454, 0.958587)\n",
      "epoch = 12 accuracy (train, test): (5.8987, 6.9500), rmse (train, test): (0.916009, 0.958279)\n",
      "epoch = 13 accuracy (train, test): (5.8987, 6.9500), rmse (train, test): (0.915625, 0.958031)\n",
      "epoch = 14 accuracy (train, test): (5.8987, 6.9500), rmse (train, test): (0.915284, 0.957829)\n",
      "epoch = 15 accuracy (train, test): (5.8987, 6.9500), rmse (train, test): (0.914972, 0.957658)\n",
      "epoch = 16 accuracy (train, test): (5.8987, 6.9500), rmse (train, test): (0.914672, 0.957508)\n",
      "epoch = 17 accuracy (train, test): (5.8987, 6.9500), rmse (train, test): (0.914365, 0.957364)\n",
      "epoch = 18 accuracy (train, test): (5.8987, 6.9500), rmse (train, test): (0.914022, 0.957211)\n",
      "epoch = 19 accuracy (train, test): (5.8987, 6.9500), rmse (train, test): (0.913604, 0.957025)\n",
      "epoch = 20 accuracy (train, test): (5.8987, 6.9500), rmse (train, test): (0.913049, 0.956773)\n",
      "epoch = 21 accuracy (train, test): (5.8987, 6.9500), rmse (train, test): (0.912265, 0.956402)\n",
      "epoch = 22 accuracy (train, test): (5.8987, 6.9500), rmse (train, test): (0.911116, 0.955836)\n",
      "epoch = 23 accuracy (train, test): (5.8987, 6.9500), rmse (train, test): (0.909430, 0.954971)\n",
      "epoch = 24 accuracy (train, test): (5.8987, 6.9500), rmse (train, test): (0.907025, 0.953691)\n",
      "epoch = 25 accuracy (train, test): (5.8987, 6.9500), rmse (train, test): (0.903790, 0.951903)\n",
      "epoch = 26 accuracy (train, test): (5.8987, 6.9500), rmse (train, test): (0.899790, 0.949614)\n",
      "epoch = 27 accuracy (train, test): (5.8987, 6.9500), rmse (train, test): (0.895295, 0.946974)\n",
      "epoch = 28 accuracy (train, test): (5.8987, 6.9500), rmse (train, test): (0.890659, 0.944241)\n",
      "epoch = 29 accuracy (train, test): (5.8987, 6.9500), rmse (train, test): (0.886123, 0.941647)\n",
      "epoch = 30 accuracy (train, test): (5.8987, 6.9500), rmse (train, test): (0.881740, 0.939308)\n",
      "epoch = 31 accuracy (train, test): (5.8987, 6.9500), rmse (train, test): (0.877421, 0.937223)\n",
      "epoch = 32 accuracy (train, test): (5.8987, 6.9500), rmse (train, test): (0.873025, 0.935334)\n",
      "epoch = 33 accuracy (train, test): (5.8987, 6.9500), rmse (train, test): (0.868418, 0.933577)\n",
      "epoch = 34 accuracy (train, test): (5.8987, 6.9500), rmse (train, test): (0.863505, 0.931911)\n",
      "epoch = 35 accuracy (train, test): (5.8987, 6.9500), rmse (train, test): (0.858232, 0.930316)\n",
      "epoch = 36 accuracy (train, test): (5.8987, 6.9500), rmse (train, test): (0.852578, 0.928795)\n",
      "epoch = 37 accuracy (train, test): (5.8987, 6.9500), rmse (train, test): (0.846550, 0.927358)\n",
      "epoch = 38 accuracy (train, test): (5.8987, 6.9500), rmse (train, test): (0.840168, 0.926018)\n",
      "epoch = 39 accuracy (train, test): (5.8987, 6.9500), rmse (train, test): (0.833465, 0.924786)\n",
      "epoch = 40 accuracy (train, test): (5.8987, 6.9500), rmse (train, test): (0.826491, 0.923672)\n",
      "epoch = 41 accuracy (train, test): (5.8987, 6.9500), rmse (train, test): (0.819301, 0.922685)\n",
      "epoch = 42 accuracy (train, test): (5.8987, 6.9500), rmse (train, test): (0.811959, 0.921831)\n",
      "epoch = 43 accuracy (train, test): (5.8987, 6.9500), rmse (train, test): (0.804522, 0.921116)\n",
      "epoch = 44 accuracy (train, test): (5.8987, 6.9500), rmse (train, test): (0.797041, 0.920542)\n",
      "epoch = 45 accuracy (train, test): (5.8987, 6.9500), rmse (train, test): (0.789553, 0.920109)\n",
      "epoch = 46 accuracy (train, test): (5.8987, 6.9500), rmse (train, test): (0.782087, 0.919815)\n",
      "epoch = 47 accuracy (train, test): (5.8987, 6.9500), rmse (train, test): (0.774663, 0.919657)\n",
      "epoch = 48 accuracy (train, test): (5.8987, 6.9500), rmse (train, test): (0.767296, 0.919629)\n",
      "epoch = 49 accuracy (train, test): (5.8987, 6.9500), rmse (train, test): (0.760003, 0.919727)\n",
      "epoch = 50 accuracy (train, test): (5.8987, 6.9500), rmse (train, test): (0.752797, 0.919944)\n"
     ]
    }
   ],
   "source": [
    "import sys\n",
    "from cf_helper_2 import getStats\n",
    "# gamma: Learning rate\n",
    "output \\\n",
    "= Matrix_Factorization_baselines_SGD_RBM(R_train , R_test, RBM_Estimations_train , R_rated_indexes_train, R_rated_indexes_test, mu, k=18 \n",
    "                                     ,sigma = 0.002,\n",
    "                           gamma= 0.01, lmbda = 0.05, alpha = 0., \n",
    "                           n_epochs = 50, error_calc_frec = 1,\n",
    "                           accuracy_thres = 0, like = 1, dislike = -1)"
   ]
  },
  {
   "cell_type": "code",
   "execution_count": 130,
   "metadata": {},
   "outputs": [
    {
     "data": {
      "image/png": "[encoded data removed]",
      "text/plain": [
       "<matplotlib.figure.Figure at 0x133934a58>"
      ]
     },
     "metadata": {},
     "output_type": "display_data"
    }
   ],
   "source": [
    "plt.plot(output[4])\n",
    "plt.plot(output[5])\n",
    "plt.show()"
   ]
  }
 ],
 "metadata": {
  "kernelspec": {
   "display_name": "Python 3",
   "language": "python",
   "name": "python3"
  },
  "language_info": {
   "codemirror_mode": {
    "name": "ipython",
    "version": 3
   },
   "file_extension": ".py",
   "mimetype": "text/x-python",
   "name": "python",
   "nbconvert_exporter": "python",
   "pygments_lexer": "ipython3",
   "version": "3.6.2"
  },
  "toc": {
   "nav_menu": {},
   "number_sections": true,
   "sideBar": true,
   "skip_h1_title": true,
   "toc_cell": false,
   "toc_position": {},
   "toc_section_display": "block",
   "toc_window_display": false
  }
 },
 "nbformat": 4,
 "nbformat_minor": 2
}
