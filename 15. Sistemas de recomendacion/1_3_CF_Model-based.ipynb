{
 "cells": [
  {
   "cell_type": "code",
   "execution_count": 1,
   "metadata": {},
   "outputs": [],
   "source": [
    "%load_ext autoreload\n",
    "%autoreload 2"
   ]
  },
  {
   "cell_type": "code",
   "execution_count": 2,
   "metadata": {
    "collapsed": true
   },
   "outputs": [],
   "source": [
    "import numpy as np\n",
    "import pandas as pd"
   ]
  },
  {
   "cell_type": "markdown",
   "metadata": {},
   "source": [
    "# Colaborative Filtering (CF)"
   ]
  },
  {
   "cell_type": "markdown",
   "metadata": {},
   "source": [
    "## Model-Based\n",
    "No tenemos features (Feature learning) tenemos que aprender tanto los  $\\Theta$ como los $X$\n",
    "\n",
    "\n",
    "$\\huge  J = \\frac{1}{2} \\sum_{j=1}^{n_u} \\sum_{i:r(i,j)=1} (\\theta^{(j)^T}x^{(i)}-y^{(i,j)})^2 + \\\\\n",
    "\\huge \\frac{\\lambda}{2}\\sum_{j=1}^{n_u} \\sum_{k=1}^{n_f}\\theta_k^{(j)^2} +\n",
    "\\frac{\\lambda}{2}\\sum_{i=1}^{n_m} \\sum_{k=1}^{n_f}X_k^{(i)^2}$\n",
    "\n",
    "\n",
    "$\\huge J = \\sum\\limits_{(u,i)\\in K}{(r_{ui} - \\hat{r_{ui}})^2} + \\lambda (||P_u||^2 + ||Q_i||^2) $  \n",
    "\n",
    "\n",
    "**Algoritmos**:\n",
    "- ALS (Alternated-Least-Squares)\n",
    "- SGD (Stochastic Gradient Descent)\n",
    "- SGD es más eficiente computacionalmente y suele tener mejor resultados salvo en casos de 'sparse data'\n",
    "- http://cs229.stanford.edu/proj2014/Christopher%20Aberger,%20Recommender.pdf\n",
    "- SVD (Singular Value Decomposition)"
   ]
  },
  {
   "cell_type": "markdown",
   "metadata": {},
   "source": [
    "**Low Rank Matrix Factorization**:\n",
    "Otra forma de pensar Model-Based CF y permite medir simitud entre peliculas o personas"
   ]
  },
  {
   "cell_type": "markdown",
   "metadata": {},
   "source": [
    "## Baselines\n",
    "- Media, Bu, Bi"
   ]
  },
  {
   "cell_type": "markdown",
   "metadata": {},
   "source": [
    "#### Opcion 1\n",
    "![baselines.png](baselines.png)"
   ]
  },
  {
   "cell_type": "markdown",
   "metadata": {},
   "source": [
    "#### Opcion 2\n",
    "![baselines_calc.png](baselines_calc.png)"
   ]
  },
  {
   "cell_type": "markdown",
   "metadata": {},
   "source": [
    "#### Opcion 3\n",
    "\n",
    "Dejarlos como features a calcular por el modelo\n",
    "\n",
    "$\\huge J = \\sum\\limits_{(u,i)\\in K}{(r_{ui} - \\mu - b_u - b_i - \\hat{r_{ui}})^2} + \\lambda (||P_u||^2 + ||Q_i||^2 + b_u^2 + b_i^2) $  "
   ]
  },
  {
   "cell_type": "markdown",
   "metadata": {},
   "source": [
    "http://alex.smola.org/teaching/berkeley2012/slides/8_Recommender.pdf"
   ]
  },
  {
   "cell_type": "markdown",
   "metadata": {},
   "source": [
    "# Ejemplo de bias"
   ]
  },
  {
   "cell_type": "code",
   "execution_count": 3,
   "metadata": {},
   "outputs": [],
   "source": [
    "import numpy as np"
   ]
  },
  {
   "cell_type": "code",
   "execution_count": 4,
   "metadata": {},
   "outputs": [
    {
     "name": "stdout",
     "output_type": "stream",
     "text": [
      "[[2 0 1 3 0]\n",
      " [4 0 0 5 4]\n",
      " [0 1 3 1 4]\n",
      " [1 5 0 2 4]\n",
      " [0 4 2 0 4]]\n"
     ]
    }
   ],
   "source": [
    "R = np.array([[2, 0, 1, 3, 0], \n",
    "              [4, 0, 0, 5, 4],\n",
    "              [0, 1, 3, 1, 4],\n",
    "              [1, 5, 0, 2, 4],\n",
    "              [0, 4, 2, 0, 4],\n",
    "             ])\n",
    "print(R)"
   ]
  },
  {
   "cell_type": "code",
   "execution_count": 5,
   "metadata": {},
   "outputs": [
    {
     "data": {
      "text/plain": [
       "2.9411764705882355"
      ]
     },
     "execution_count": 5,
     "metadata": {},
     "output_type": "execute_result"
    }
   ],
   "source": [
    "mu = R[R.nonzero()].mean()\n",
    "mu"
   ]
  },
  {
   "cell_type": "code",
   "execution_count": 6,
   "metadata": {},
   "outputs": [
    {
     "name": "stdout",
     "output_type": "stream",
     "text": [
      "[2.3333333333333335, 3.3333333333333335, 2.0, 2.75, 4.0]\n",
      "[2.0, 4.333333333333333, 2.25, 3.0, 3.3333333333333335]\n"
     ]
    }
   ],
   "source": [
    "# Calculo de promedio de usuarios y promedio de pelis\n",
    "print([R[:,i][R[:, i].nonzero()].mean() for i in range(5)])\n",
    "print([R[i, :][R[i, :].nonzero()].mean() for i in range(5)])"
   ]
  },
  {
   "cell_type": "code",
   "execution_count": 7,
   "metadata": {},
   "outputs": [
    {
     "data": {
      "text/plain": [
       "array([[-0.94117647, -0.        , -1.94117647,  0.05882353, -0.        ],\n",
       "       [ 1.05882353, -0.        , -0.        ,  2.05882353,  1.05882353],\n",
       "       [-0.        , -1.94117647,  0.05882353, -1.94117647,  1.05882353],\n",
       "       [-1.94117647,  2.05882353, -0.        , -0.94117647,  1.05882353],\n",
       "       [-0.        ,  1.05882353, -0.94117647, -0.        ,  1.05882353]])"
      ]
     },
     "execution_count": 7,
     "metadata": {},
     "output_type": "execute_result"
    }
   ],
   "source": [
    "# Ratings restando la media\n",
    "R_mu = (R - mu)*(R>0) \n",
    "R_mu"
   ]
  },
  {
   "cell_type": "code",
   "execution_count": 8,
   "metadata": {},
   "outputs": [
    {
     "data": {
      "text/plain": [
       "array([[-0.94,  0.  , -1.94,  0.05,  0.  ],\n",
       "       [ 1.05,  0.  ,  0.  ,  2.05,  1.05],\n",
       "       [ 0.  , -1.94,  0.05, -1.94,  1.05],\n",
       "       [-1.94,  2.05,  0.  , -0.94,  1.05],\n",
       "       [ 0.  ,  1.05, -0.94,  0.  ,  1.05]])"
      ]
     },
     "execution_count": 8,
     "metadata": {},
     "output_type": "execute_result"
    }
   ],
   "source": [
    "# Redondeo para PPT\n",
    "np.array(R_mu*100, dtype=int)/100"
   ]
  },
  {
   "cell_type": "code",
   "execution_count": null,
   "metadata": {},
   "outputs": [],
   "source": []
  },
  {
   "cell_type": "code",
   "execution_count": 25,
   "metadata": {},
   "outputs": [
    {
     "name": "stdout",
     "output_type": "stream",
     "text": [
      "[[-0.36111111]\n",
      " [ 1.30555556]\n",
      " [-0.77083333]\n",
      " [-0.10416667]\n",
      " [ 0.22222222]]\n",
      "[[-0.60784314]\n",
      " [ 0.39215686]\n",
      " [-0.94117647]\n",
      " [-0.19117647]\n",
      " [ 1.05882353]]\n"
     ]
    }
   ],
   "source": [
    "# Cálculo con librería\n",
    "from cf_helper_2 import getBaselineEstimates\n",
    "bui, bii = getBaselineEstimates(R, mu, items_first=True)\n",
    "print(bui)\n",
    "print(bii)"
   ]
  },
  {
   "cell_type": "code",
   "execution_count": 26,
   "metadata": {},
   "outputs": [],
   "source": [
    "# Cálculo a mano"
   ]
  },
  {
   "cell_type": "code",
   "execution_count": 27,
   "metadata": {},
   "outputs": [
    {
     "name": "stdout",
     "output_type": "stream",
     "text": [
      "[-0.6078431372549021, 0.3921568627450978, -0.9411764705882355, -0.1911764705882355, 1.0588235294117645]\n"
     ]
    }
   ],
   "source": [
    "# Calculo bi que en el ppt es bu por que las matrices estan al reves\n",
    "bi = [R_mu[:,i][R_mu[:, i].nonzero()].mean() for i in range(5)]\n",
    "print(bi)"
   ]
  },
  {
   "cell_type": "code",
   "execution_count": 28,
   "metadata": {},
   "outputs": [],
   "source": [
    "R_mu_bi = R_mu - bi"
   ]
  },
  {
   "cell_type": "code",
   "execution_count": 32,
   "metadata": {},
   "outputs": [
    {
     "data": {
      "text/plain": [
       "array([[-0.33, -0.39, -1.  ,  0.25, -1.05],\n",
       "       [ 1.66, -0.39,  0.94,  2.25,  0.  ],\n",
       "       [ 0.6 , -2.33,  1.  , -1.75,  0.  ],\n",
       "       [-1.33,  1.66,  0.94, -0.75,  0.  ],\n",
       "       [ 0.6 ,  0.66,  0.  ,  0.19,  0.  ]])"
      ]
     },
     "execution_count": 32,
     "metadata": {},
     "output_type": "execute_result"
    }
   ],
   "source": [
    "np.array(R_mu_bi*100, dtype=int)/100"
   ]
  },
  {
   "cell_type": "code",
   "execution_count": 46,
   "metadata": {},
   "outputs": [
    {
     "data": {
      "text/plain": [
       "array([[-0.36111111],\n",
       "       [ 1.30555556],\n",
       "       [-0.77083333],\n",
       "       [-0.10416667],\n",
       "       [ 0.22222222]])"
      ]
     },
     "execution_count": 46,
     "metadata": {},
     "output_type": "execute_result"
    }
   ],
   "source": [
    "bu_ = np.array([R_mu_bi[i, :][R[i, :].nonzero()].mean() for i in range(5)]).reshape(-1,1)\n",
    "bu_"
   ]
  },
  {
   "cell_type": "code",
   "execution_count": 47,
   "metadata": {},
   "outputs": [
    {
     "data": {
      "text/plain": [
       "array([0.66666667, 0.        , 0.        ])"
      ]
     },
     "execution_count": 47,
     "metadata": {},
     "output_type": "execute_result"
    }
   ],
   "source": [
    "i = 4\n",
    "R_mu_bi[i, :][R[i, :].nonzero()]"
   ]
  },
  {
   "cell_type": "code",
   "execution_count": 49,
   "metadata": {},
   "outputs": [
    {
     "data": {
      "text/plain": [
       "array([[ 0.02, -0.03, -0.63,  0.61, -0.69],\n",
       "       [ 0.36, -1.69, -0.36,  0.94, -1.3 ],\n",
       "       [ 1.37, -1.56,  1.77, -0.97,  0.77],\n",
       "       [-1.22,  1.77,  1.04, -0.64,  0.1 ],\n",
       "       [ 0.38,  0.44, -0.22, -0.03, -0.22]])"
      ]
     },
     "execution_count": 49,
     "metadata": {},
     "output_type": "execute_result"
    }
   ],
   "source": [
    "np.array((R_mu_bi - bu_)*100, dtype=int)/100"
   ]
  },
  {
   "cell_type": "markdown",
   "metadata": {},
   "source": [
    "# PMF (Probabilistic Matrix Factorization)\n",
    "Es equivalente a Matrix Factorization desde otro punto de vista\n",
    "\n",
    "\n",
    "$\\huge R = P_{mk}Q^T_{kn}$\n",
    "\n",
    "Modelo generativo\n",
    "\n",
    "- Rij -> Distribución gaussiana con media PiQj\n",
    "- Pi -> Distribución gaussian con media cero. Probabilidad de que un usuario seleccione un topico\n",
    "- Qj -> Distribución gaussian con media cero. Probabilidad de que dentro de un tópico se seleccione un item (No depende del usuario)\n",
    "- El producto de P y Q equivale a la probabilidad de que un usuario elija un item ya que se suma en todos los tópicos K\n",
    "- Tópico = Latent Feature\n",
    "\n",
    "https://www.quora.com/What-is-the-difference-between-Probabilistic-Matrix-Factorization-PMF-and-SVD"
   ]
  },
  {
   "cell_type": "markdown",
   "metadata": {},
   "source": [
    "# ¿Que diferencias tiene con NMF (Non-negative matrix factorization)?"
   ]
  }
 ],
 "metadata": {
  "kernelspec": {
   "display_name": "Python 3",
   "language": "python",
   "name": "python3"
  },
  "language_info": {
   "codemirror_mode": {
    "name": "ipython",
    "version": 3
   },
   "file_extension": ".py",
   "mimetype": "text/x-python",
   "name": "python",
   "nbconvert_exporter": "python",
   "pygments_lexer": "ipython3",
   "version": "3.6.8"
  },
  "toc": {
   "nav_menu": {},
   "number_sections": true,
   "sideBar": true,
   "skip_h1_title": true,
   "toc_cell": false,
   "toc_position": {},
   "toc_section_display": "block",
   "toc_window_display": false
  }
 },
 "nbformat": 4,
 "nbformat_minor": 2
}
