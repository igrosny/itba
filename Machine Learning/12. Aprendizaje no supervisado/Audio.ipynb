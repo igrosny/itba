{
 "cells": [
  {
   "cell_type": "code",
   "execution_count": 1,
   "metadata": {
    "colab": {
     "base_uri": "https://localhost:8080/",
     "height": 391
    },
    "colab_type": "code",
    "id": "A9kIl0zaWHhd",
    "outputId": "7e148f2a-479e-4568-8f95-fe0e0573aab7"
   },
   "outputs": [
    {
     "name": "stdout",
     "output_type": "stream",
     "text": [
      "Collecting librosa\n",
      "\u001b[?25l  Downloading https://files.pythonhosted.org/packages/ad/6e/0eb0de1c9c4e02df0b40e56f258eb79bd957be79b918511a184268e01720/librosa-0.7.0.tar.gz (1.6MB)\n",
      "\u001b[K    100% |████████████████████████████████| 1.6MB 6.0MB/s \n",
      "\u001b[?25hCollecting audioread>=2.0.0 (from librosa)\n",
      "  Downloading https://files.pythonhosted.org/packages/2e/0b/940ea7861e0e9049f09dcfd72a90c9ae55f697c17c299a323f0148f913d2/audioread-2.1.8.tar.gz\n",
      "Requirement already satisfied: numpy>=1.15.0 in /Users/ivan/anaconda3/lib/python3.7/site-packages (from librosa) (1.15.4)\n",
      "Requirement already satisfied: scipy>=1.0.0 in /Users/ivan/anaconda3/lib/python3.7/site-packages (from librosa) (1.1.0)\n",
      "Requirement already satisfied: scikit-learn!=0.19.0,>=0.14.0 in /Users/ivan/anaconda3/lib/python3.7/site-packages (from librosa) (0.20.1)\n",
      "Collecting joblib>=0.12 (from librosa)\n",
      "\u001b[?25l  Downloading https://files.pythonhosted.org/packages/cd/c1/50a758e8247561e58cb87305b1e90b171b8c767b15b12a1734001f41d356/joblib-0.13.2-py2.py3-none-any.whl (278kB)\n",
      "\u001b[K    100% |████████████████████████████████| 286kB 18.8MB/s \n",
      "\u001b[?25hRequirement already satisfied: decorator>=3.0.0 in /Users/ivan/anaconda3/lib/python3.7/site-packages (from librosa) (4.3.0)\n",
      "Requirement already satisfied: six>=1.3 in /Users/ivan/anaconda3/lib/python3.7/site-packages (from librosa) (1.12.0)\n",
      "Collecting resampy>=0.2.0 (from librosa)\n",
      "\u001b[?25l  Downloading https://files.pythonhosted.org/packages/14/b6/66a06d85474190b50aee1a6c09cdc95bb405ac47338b27e9b21409da1760/resampy-0.2.1.tar.gz (322kB)\n",
      "\u001b[K    100% |████████████████████████████████| 327kB 17.0MB/s \n",
      "\u001b[?25hRequirement already satisfied: numba>=0.38.0 in /Users/ivan/anaconda3/lib/python3.7/site-packages (from librosa) (0.41.0)\n",
      "Collecting soundfile>=0.9.0 (from librosa)\n",
      "\u001b[?25l  Downloading https://files.pythonhosted.org/packages/d2/06/58d71f2041bc89919f56a69f8f2b9535a55d513bb005fbe4f8ee5d367170/SoundFile-0.10.2-py2.py3.cp26.cp27.cp32.cp33.cp34.cp35.cp36.pp27.pp32.pp33-none-macosx_10_5_x86_64.macosx_10_6_intel.macosx_10_9_intel.macosx_10_9_x86_64.whl (616kB)\n",
      "\u001b[K    100% |████████████████████████████████| 624kB 5.6MB/s \n",
      "\u001b[?25hRequirement already satisfied: llvmlite>=0.26.0dev0 in /Users/ivan/anaconda3/lib/python3.7/site-packages (from numba>=0.38.0->librosa) (0.26.0)\n",
      "Requirement already satisfied: cffi>=1.0 in /Users/ivan/anaconda3/lib/python3.7/site-packages (from soundfile>=0.9.0->librosa) (1.11.5)\n",
      "Requirement already satisfied: pycparser in /Users/ivan/anaconda3/lib/python3.7/site-packages (from cffi>=1.0->soundfile>=0.9.0->librosa) (2.19)\n",
      "Building wheels for collected packages: librosa, audioread, resampy\n",
      "  Running setup.py bdist_wheel for librosa ... \u001b[?25ldone\n",
      "\u001b[?25h  Stored in directory: /Users/ivan/Library/Caches/pip/wheels/49/1d/38/c8ad12fcad67569d8e730c3275be5e581bd589558484a0f881\n",
      "  Running setup.py bdist_wheel for audioread ... \u001b[?25ldone\n",
      "\u001b[?25h  Stored in directory: /Users/ivan/Library/Caches/pip/wheels/b9/64/09/0b6417df9d8ba8bc61a7d2553c5cebd714ec169644c88fc012\n",
      "  Running setup.py bdist_wheel for resampy ... \u001b[?25ldone\n",
      "\u001b[?25h  Stored in directory: /Users/ivan/Library/Caches/pip/wheels/ff/4f/ed/2e6c676c23efe5394bb40ade50662e90eb46e29b48324c5f9b\n",
      "Successfully built librosa audioread resampy\n",
      "Installing collected packages: audioread, joblib, resampy, soundfile, librosa\n",
      "Successfully installed audioread-2.1.8 joblib-0.13.2 librosa-0.7.0 resampy-0.2.1 soundfile-0.10.2\n"
     ]
    }
   ],
   "source": [
    "!pip install librosa"
   ]
  },
  {
   "cell_type": "code",
   "execution_count": null,
   "metadata": {
    "colab": {},
    "colab_type": "code",
    "id": "4YhhDIfxWOE9"
   },
   "outputs": [],
   "source": [
    "import librosa\n",
    "from IPython.display import Audio\n",
    "from matplotlib import pyplot as plt\n",
    "import seaborn as sns"
   ]
  },
  {
   "cell_type": "code",
   "execution_count": null,
   "metadata": {
    "colab": {},
    "colab_type": "code",
    "id": "mBTZ4aRf4dZ0"
   },
   "outputs": [],
   "source": [
    "# all imports\n",
    "from IPython.display import Javascript\n",
    "from google.colab import output\n",
    "from base64 import b64decode\n",
    "from io import BytesIO\n",
    "!pip -q install pydub\n",
    "from pydub import AudioSegment\n",
    "import numpy as np\n",
    "import time\n",
    "  \n",
    "RECORD = \"\"\"\n",
    "const sleep  = time => new Promise(resolve => setTimeout(resolve, time))\n",
    "const b2text = blob => new Promise(resolve => {\n",
    "  const reader = new FileReader()\n",
    "  reader.onloadend = e => resolve(e.srcElement.result)\n",
    "  reader.readAsDataURL(blob)\n",
    "})\n",
    "var record = time => new Promise(async resolve => {\n",
    "  stream = await navigator.mediaDevices.getUserMedia({ audio: true })\n",
    "  recorder = new MediaRecorder(stream)\n",
    "  chunks = []\n",
    "  recorder.ondataavailable = e => chunks.push(e.data)\n",
    "  recorder.start()\n",
    "  await sleep(time)\n",
    "  recorder.onstop = async ()=>{\n",
    "    blob = new Blob(chunks)\n",
    "    text = await b2text(blob)\n",
    "    resolve(text)\n",
    "  }\n",
    "  recorder.stop()\n",
    "})\n",
    "\"\"\"\n",
    "\n",
    "def record(sec=3):\n",
    "  display(Javascript(RECORD))\n",
    "  s = output.eval_js('record(%d)' % (sec*1000))\n",
    "  b = b64decode(s.split(',')[1])\n",
    "  audio = AudioSegment.from_file(BytesIO(b))\n",
    "  return audio\n",
    "\n",
    "def capture_sounds(nbr_records=5,sounds=[\"cero\",\"uno\",\"dos\",\"tres\",\"cuatro\",\"cinco\",\"seis\",\"siete\",\"ocho\",\"nueve\"]):\n",
    "  file_list=list()\n",
    "  for sound in sounds:\n",
    "    text=\"Por favor diga una vez la palabra '{}' después de cada indicación\".format(sound)\n",
    "    print(text)\n",
    "    time.sleep(1)\n",
    "    for nbr in range(nbr_records):\n",
    "      print(\"Diga {}\".format(sound))\n",
    "      audio=record(1)\n",
    "      audio.export(\"{}_{}.mp3\".format(sound,nbr),format=\"mp3\")\n",
    "      file_list.append(\"{}_{}.mp3\".format(sound,nbr))\n",
    "  return file_list\n",
    "  \n",
    "  "
   ]
  },
  {
   "cell_type": "code",
   "execution_count": null,
   "metadata": {
    "colab": {
     "base_uri": "https://localhost:8080/",
     "height": 1000
    },
    "colab_type": "code",
    "id": "nwQNpSj1WT5w",
    "outputId": "668e017d-8f70-4949-a9a7-b69c06942976"
   },
   "outputs": [
    {
     "name": "stdout",
     "output_type": "stream",
     "text": [
      "Por favor diga una vez la palabra 'cero' después de cada indicación\n",
      "Diga cero\n"
     ]
    },
    {
     "data": {
      "application/javascript": [
       "\n",
       "const sleep  = time => new Promise(resolve => setTimeout(resolve, time))\n",
       "const b2text = blob => new Promise(resolve => {\n",
       "  const reader = new FileReader()\n",
       "  reader.onloadend = e => resolve(e.srcElement.result)\n",
       "  reader.readAsDataURL(blob)\n",
       "})\n",
       "var record = time => new Promise(async resolve => {\n",
       "  stream = await navigator.mediaDevices.getUserMedia({ audio: true })\n",
       "  recorder = new MediaRecorder(stream)\n",
       "  chunks = []\n",
       "  recorder.ondataavailable = e => chunks.push(e.data)\n",
       "  recorder.start()\n",
       "  await sleep(time)\n",
       "  recorder.onstop = async ()=>{\n",
       "    blob = new Blob(chunks)\n",
       "    text = await b2text(blob)\n",
       "    resolve(text)\n",
       "  }\n",
       "  recorder.stop()\n",
       "})\n"
      ],
      "text/plain": [
       "<IPython.core.display.Javascript object>"
      ]
     },
     "metadata": {
      "tags": []
     },
     "output_type": "display_data"
    },
    {
     "name": "stdout",
     "output_type": "stream",
     "text": [
      "Diga cero\n"
     ]
    },
    {
     "data": {
      "application/javascript": [
       "\n",
       "const sleep  = time => new Promise(resolve => setTimeout(resolve, time))\n",
       "const b2text = blob => new Promise(resolve => {\n",
       "  const reader = new FileReader()\n",
       "  reader.onloadend = e => resolve(e.srcElement.result)\n",
       "  reader.readAsDataURL(blob)\n",
       "})\n",
       "var record = time => new Promise(async resolve => {\n",
       "  stream = await navigator.mediaDevices.getUserMedia({ audio: true })\n",
       "  recorder = new MediaRecorder(stream)\n",
       "  chunks = []\n",
       "  recorder.ondataavailable = e => chunks.push(e.data)\n",
       "  recorder.start()\n",
       "  await sleep(time)\n",
       "  recorder.onstop = async ()=>{\n",
       "    blob = new Blob(chunks)\n",
       "    text = await b2text(blob)\n",
       "    resolve(text)\n",
       "  }\n",
       "  recorder.stop()\n",
       "})\n"
      ],
      "text/plain": [
       "<IPython.core.display.Javascript object>"
      ]
     },
     "metadata": {
      "tags": []
     },
     "output_type": "display_data"
    },
    {
     "name": "stdout",
     "output_type": "stream",
     "text": [
      "Diga cero\n"
     ]
    },
    {
     "data": {
      "application/javascript": [
       "\n",
       "const sleep  = time => new Promise(resolve => setTimeout(resolve, time))\n",
       "const b2text = blob => new Promise(resolve => {\n",
       "  const reader = new FileReader()\n",
       "  reader.onloadend = e => resolve(e.srcElement.result)\n",
       "  reader.readAsDataURL(blob)\n",
       "})\n",
       "var record = time => new Promise(async resolve => {\n",
       "  stream = await navigator.mediaDevices.getUserMedia({ audio: true })\n",
       "  recorder = new MediaRecorder(stream)\n",
       "  chunks = []\n",
       "  recorder.ondataavailable = e => chunks.push(e.data)\n",
       "  recorder.start()\n",
       "  await sleep(time)\n",
       "  recorder.onstop = async ()=>{\n",
       "    blob = new Blob(chunks)\n",
       "    text = await b2text(blob)\n",
       "    resolve(text)\n",
       "  }\n",
       "  recorder.stop()\n",
       "})\n"
      ],
      "text/plain": [
       "<IPython.core.display.Javascript object>"
      ]
     },
     "metadata": {
      "tags": []
     },
     "output_type": "display_data"
    },
    {
     "name": "stdout",
     "output_type": "stream",
     "text": [
      "Diga cero\n"
     ]
    },
    {
     "data": {
      "application/javascript": [
       "\n",
       "const sleep  = time => new Promise(resolve => setTimeout(resolve, time))\n",
       "const b2text = blob => new Promise(resolve => {\n",
       "  const reader = new FileReader()\n",
       "  reader.onloadend = e => resolve(e.srcElement.result)\n",
       "  reader.readAsDataURL(blob)\n",
       "})\n",
       "var record = time => new Promise(async resolve => {\n",
       "  stream = await navigator.mediaDevices.getUserMedia({ audio: true })\n",
       "  recorder = new MediaRecorder(stream)\n",
       "  chunks = []\n",
       "  recorder.ondataavailable = e => chunks.push(e.data)\n",
       "  recorder.start()\n",
       "  await sleep(time)\n",
       "  recorder.onstop = async ()=>{\n",
       "    blob = new Blob(chunks)\n",
       "    text = await b2text(blob)\n",
       "    resolve(text)\n",
       "  }\n",
       "  recorder.stop()\n",
       "})\n"
      ],
      "text/plain": [
       "<IPython.core.display.Javascript object>"
      ]
     },
     "metadata": {
      "tags": []
     },
     "output_type": "display_data"
    },
    {
     "name": "stdout",
     "output_type": "stream",
     "text": [
      "Diga cero\n"
     ]
    },
    {
     "data": {
      "application/javascript": [
       "\n",
       "const sleep  = time => new Promise(resolve => setTimeout(resolve, time))\n",
       "const b2text = blob => new Promise(resolve => {\n",
       "  const reader = new FileReader()\n",
       "  reader.onloadend = e => resolve(e.srcElement.result)\n",
       "  reader.readAsDataURL(blob)\n",
       "})\n",
       "var record = time => new Promise(async resolve => {\n",
       "  stream = await navigator.mediaDevices.getUserMedia({ audio: true })\n",
       "  recorder = new MediaRecorder(stream)\n",
       "  chunks = []\n",
       "  recorder.ondataavailable = e => chunks.push(e.data)\n",
       "  recorder.start()\n",
       "  await sleep(time)\n",
       "  recorder.onstop = async ()=>{\n",
       "    blob = new Blob(chunks)\n",
       "    text = await b2text(blob)\n",
       "    resolve(text)\n",
       "  }\n",
       "  recorder.stop()\n",
       "})\n"
      ],
      "text/plain": [
       "<IPython.core.display.Javascript object>"
      ]
     },
     "metadata": {
      "tags": []
     },
     "output_type": "display_data"
    },
    {
     "name": "stdout",
     "output_type": "stream",
     "text": [
      "Por favor diga una vez la palabra 'uno' después de cada indicación\n",
      "Diga uno\n"
     ]
    },
    {
     "data": {
      "application/javascript": [
       "\n",
       "const sleep  = time => new Promise(resolve => setTimeout(resolve, time))\n",
       "const b2text = blob => new Promise(resolve => {\n",
       "  const reader = new FileReader()\n",
       "  reader.onloadend = e => resolve(e.srcElement.result)\n",
       "  reader.readAsDataURL(blob)\n",
       "})\n",
       "var record = time => new Promise(async resolve => {\n",
       "  stream = await navigator.mediaDevices.getUserMedia({ audio: true })\n",
       "  recorder = new MediaRecorder(stream)\n",
       "  chunks = []\n",
       "  recorder.ondataavailable = e => chunks.push(e.data)\n",
       "  recorder.start()\n",
       "  await sleep(time)\n",
       "  recorder.onstop = async ()=>{\n",
       "    blob = new Blob(chunks)\n",
       "    text = await b2text(blob)\n",
       "    resolve(text)\n",
       "  }\n",
       "  recorder.stop()\n",
       "})\n"
      ],
      "text/plain": [
       "<IPython.core.display.Javascript object>"
      ]
     },
     "metadata": {
      "tags": []
     },
     "output_type": "display_data"
    },
    {
     "name": "stdout",
     "output_type": "stream",
     "text": [
      "Diga uno\n"
     ]
    },
    {
     "data": {
      "application/javascript": [
       "\n",
       "const sleep  = time => new Promise(resolve => setTimeout(resolve, time))\n",
       "const b2text = blob => new Promise(resolve => {\n",
       "  const reader = new FileReader()\n",
       "  reader.onloadend = e => resolve(e.srcElement.result)\n",
       "  reader.readAsDataURL(blob)\n",
       "})\n",
       "var record = time => new Promise(async resolve => {\n",
       "  stream = await navigator.mediaDevices.getUserMedia({ audio: true })\n",
       "  recorder = new MediaRecorder(stream)\n",
       "  chunks = []\n",
       "  recorder.ondataavailable = e => chunks.push(e.data)\n",
       "  recorder.start()\n",
       "  await sleep(time)\n",
       "  recorder.onstop = async ()=>{\n",
       "    blob = new Blob(chunks)\n",
       "    text = await b2text(blob)\n",
       "    resolve(text)\n",
       "  }\n",
       "  recorder.stop()\n",
       "})\n"
      ],
      "text/plain": [
       "<IPython.core.display.Javascript object>"
      ]
     },
     "metadata": {
      "tags": []
     },
     "output_type": "display_data"
    },
    {
     "name": "stdout",
     "output_type": "stream",
     "text": [
      "Diga uno\n"
     ]
    },
    {
     "data": {
      "application/javascript": [
       "\n",
       "const sleep  = time => new Promise(resolve => setTimeout(resolve, time))\n",
       "const b2text = blob => new Promise(resolve => {\n",
       "  const reader = new FileReader()\n",
       "  reader.onloadend = e => resolve(e.srcElement.result)\n",
       "  reader.readAsDataURL(blob)\n",
       "})\n",
       "var record = time => new Promise(async resolve => {\n",
       "  stream = await navigator.mediaDevices.getUserMedia({ audio: true })\n",
       "  recorder = new MediaRecorder(stream)\n",
       "  chunks = []\n",
       "  recorder.ondataavailable = e => chunks.push(e.data)\n",
       "  recorder.start()\n",
       "  await sleep(time)\n",
       "  recorder.onstop = async ()=>{\n",
       "    blob = new Blob(chunks)\n",
       "    text = await b2text(blob)\n",
       "    resolve(text)\n",
       "  }\n",
       "  recorder.stop()\n",
       "})\n"
      ],
      "text/plain": [
       "<IPython.core.display.Javascript object>"
      ]
     },
     "metadata": {
      "tags": []
     },
     "output_type": "display_data"
    },
    {
     "name": "stdout",
     "output_type": "stream",
     "text": [
      "Diga uno\n"
     ]
    },
    {
     "data": {
      "application/javascript": [
       "\n",
       "const sleep  = time => new Promise(resolve => setTimeout(resolve, time))\n",
       "const b2text = blob => new Promise(resolve => {\n",
       "  const reader = new FileReader()\n",
       "  reader.onloadend = e => resolve(e.srcElement.result)\n",
       "  reader.readAsDataURL(blob)\n",
       "})\n",
       "var record = time => new Promise(async resolve => {\n",
       "  stream = await navigator.mediaDevices.getUserMedia({ audio: true })\n",
       "  recorder = new MediaRecorder(stream)\n",
       "  chunks = []\n",
       "  recorder.ondataavailable = e => chunks.push(e.data)\n",
       "  recorder.start()\n",
       "  await sleep(time)\n",
       "  recorder.onstop = async ()=>{\n",
       "    blob = new Blob(chunks)\n",
       "    text = await b2text(blob)\n",
       "    resolve(text)\n",
       "  }\n",
       "  recorder.stop()\n",
       "})\n"
      ],
      "text/plain": [
       "<IPython.core.display.Javascript object>"
      ]
     },
     "metadata": {
      "tags": []
     },
     "output_type": "display_data"
    },
    {
     "name": "stdout",
     "output_type": "stream",
     "text": [
      "Diga uno\n"
     ]
    },
    {
     "data": {
      "application/javascript": [
       "\n",
       "const sleep  = time => new Promise(resolve => setTimeout(resolve, time))\n",
       "const b2text = blob => new Promise(resolve => {\n",
       "  const reader = new FileReader()\n",
       "  reader.onloadend = e => resolve(e.srcElement.result)\n",
       "  reader.readAsDataURL(blob)\n",
       "})\n",
       "var record = time => new Promise(async resolve => {\n",
       "  stream = await navigator.mediaDevices.getUserMedia({ audio: true })\n",
       "  recorder = new MediaRecorder(stream)\n",
       "  chunks = []\n",
       "  recorder.ondataavailable = e => chunks.push(e.data)\n",
       "  recorder.start()\n",
       "  await sleep(time)\n",
       "  recorder.onstop = async ()=>{\n",
       "    blob = new Blob(chunks)\n",
       "    text = await b2text(blob)\n",
       "    resolve(text)\n",
       "  }\n",
       "  recorder.stop()\n",
       "})\n"
      ],
      "text/plain": [
       "<IPython.core.display.Javascript object>"
      ]
     },
     "metadata": {
      "tags": []
     },
     "output_type": "display_data"
    },
    {
     "name": "stdout",
     "output_type": "stream",
     "text": [
      "Por favor diga una vez la palabra 'dos' después de cada indicación\n",
      "Diga dos\n"
     ]
    },
    {
     "data": {
      "application/javascript": [
       "\n",
       "const sleep  = time => new Promise(resolve => setTimeout(resolve, time))\n",
       "const b2text = blob => new Promise(resolve => {\n",
       "  const reader = new FileReader()\n",
       "  reader.onloadend = e => resolve(e.srcElement.result)\n",
       "  reader.readAsDataURL(blob)\n",
       "})\n",
       "var record = time => new Promise(async resolve => {\n",
       "  stream = await navigator.mediaDevices.getUserMedia({ audio: true })\n",
       "  recorder = new MediaRecorder(stream)\n",
       "  chunks = []\n",
       "  recorder.ondataavailable = e => chunks.push(e.data)\n",
       "  recorder.start()\n",
       "  await sleep(time)\n",
       "  recorder.onstop = async ()=>{\n",
       "    blob = new Blob(chunks)\n",
       "    text = await b2text(blob)\n",
       "    resolve(text)\n",
       "  }\n",
       "  recorder.stop()\n",
       "})\n"
      ],
      "text/plain": [
       "<IPython.core.display.Javascript object>"
      ]
     },
     "metadata": {
      "tags": []
     },
     "output_type": "display_data"
    },
    {
     "name": "stdout",
     "output_type": "stream",
     "text": [
      "Diga dos\n"
     ]
    },
    {
     "data": {
      "application/javascript": [
       "\n",
       "const sleep  = time => new Promise(resolve => setTimeout(resolve, time))\n",
       "const b2text = blob => new Promise(resolve => {\n",
       "  const reader = new FileReader()\n",
       "  reader.onloadend = e => resolve(e.srcElement.result)\n",
       "  reader.readAsDataURL(blob)\n",
       "})\n",
       "var record = time => new Promise(async resolve => {\n",
       "  stream = await navigator.mediaDevices.getUserMedia({ audio: true })\n",
       "  recorder = new MediaRecorder(stream)\n",
       "  chunks = []\n",
       "  recorder.ondataavailable = e => chunks.push(e.data)\n",
       "  recorder.start()\n",
       "  await sleep(time)\n",
       "  recorder.onstop = async ()=>{\n",
       "    blob = new Blob(chunks)\n",
       "    text = await b2text(blob)\n",
       "    resolve(text)\n",
       "  }\n",
       "  recorder.stop()\n",
       "})\n"
      ],
      "text/plain": [
       "<IPython.core.display.Javascript object>"
      ]
     },
     "metadata": {
      "tags": []
     },
     "output_type": "display_data"
    },
    {
     "name": "stdout",
     "output_type": "stream",
     "text": [
      "Diga dos\n"
     ]
    },
    {
     "data": {
      "application/javascript": [
       "\n",
       "const sleep  = time => new Promise(resolve => setTimeout(resolve, time))\n",
       "const b2text = blob => new Promise(resolve => {\n",
       "  const reader = new FileReader()\n",
       "  reader.onloadend = e => resolve(e.srcElement.result)\n",
       "  reader.readAsDataURL(blob)\n",
       "})\n",
       "var record = time => new Promise(async resolve => {\n",
       "  stream = await navigator.mediaDevices.getUserMedia({ audio: true })\n",
       "  recorder = new MediaRecorder(stream)\n",
       "  chunks = []\n",
       "  recorder.ondataavailable = e => chunks.push(e.data)\n",
       "  recorder.start()\n",
       "  await sleep(time)\n",
       "  recorder.onstop = async ()=>{\n",
       "    blob = new Blob(chunks)\n",
       "    text = await b2text(blob)\n",
       "    resolve(text)\n",
       "  }\n",
       "  recorder.stop()\n",
       "})\n"
      ],
      "text/plain": [
       "<IPython.core.display.Javascript object>"
      ]
     },
     "metadata": {
      "tags": []
     },
     "output_type": "display_data"
    },
    {
     "name": "stdout",
     "output_type": "stream",
     "text": [
      "Diga dos\n"
     ]
    },
    {
     "data": {
      "application/javascript": [
       "\n",
       "const sleep  = time => new Promise(resolve => setTimeout(resolve, time))\n",
       "const b2text = blob => new Promise(resolve => {\n",
       "  const reader = new FileReader()\n",
       "  reader.onloadend = e => resolve(e.srcElement.result)\n",
       "  reader.readAsDataURL(blob)\n",
       "})\n",
       "var record = time => new Promise(async resolve => {\n",
       "  stream = await navigator.mediaDevices.getUserMedia({ audio: true })\n",
       "  recorder = new MediaRecorder(stream)\n",
       "  chunks = []\n",
       "  recorder.ondataavailable = e => chunks.push(e.data)\n",
       "  recorder.start()\n",
       "  await sleep(time)\n",
       "  recorder.onstop = async ()=>{\n",
       "    blob = new Blob(chunks)\n",
       "    text = await b2text(blob)\n",
       "    resolve(text)\n",
       "  }\n",
       "  recorder.stop()\n",
       "})\n"
      ],
      "text/plain": [
       "<IPython.core.display.Javascript object>"
      ]
     },
     "metadata": {
      "tags": []
     },
     "output_type": "display_data"
    },
    {
     "name": "stdout",
     "output_type": "stream",
     "text": [
      "Diga dos\n"
     ]
    },
    {
     "data": {
      "application/javascript": [
       "\n",
       "const sleep  = time => new Promise(resolve => setTimeout(resolve, time))\n",
       "const b2text = blob => new Promise(resolve => {\n",
       "  const reader = new FileReader()\n",
       "  reader.onloadend = e => resolve(e.srcElement.result)\n",
       "  reader.readAsDataURL(blob)\n",
       "})\n",
       "var record = time => new Promise(async resolve => {\n",
       "  stream = await navigator.mediaDevices.getUserMedia({ audio: true })\n",
       "  recorder = new MediaRecorder(stream)\n",
       "  chunks = []\n",
       "  recorder.ondataavailable = e => chunks.push(e.data)\n",
       "  recorder.start()\n",
       "  await sleep(time)\n",
       "  recorder.onstop = async ()=>{\n",
       "    blob = new Blob(chunks)\n",
       "    text = await b2text(blob)\n",
       "    resolve(text)\n",
       "  }\n",
       "  recorder.stop()\n",
       "})\n"
      ],
      "text/plain": [
       "<IPython.core.display.Javascript object>"
      ]
     },
     "metadata": {
      "tags": []
     },
     "output_type": "display_data"
    },
    {
     "name": "stdout",
     "output_type": "stream",
     "text": [
      "Por favor diga una vez la palabra 'tres' después de cada indicación\n",
      "Diga tres\n"
     ]
    },
    {
     "data": {
      "application/javascript": [
       "\n",
       "const sleep  = time => new Promise(resolve => setTimeout(resolve, time))\n",
       "const b2text = blob => new Promise(resolve => {\n",
       "  const reader = new FileReader()\n",
       "  reader.onloadend = e => resolve(e.srcElement.result)\n",
       "  reader.readAsDataURL(blob)\n",
       "})\n",
       "var record = time => new Promise(async resolve => {\n",
       "  stream = await navigator.mediaDevices.getUserMedia({ audio: true })\n",
       "  recorder = new MediaRecorder(stream)\n",
       "  chunks = []\n",
       "  recorder.ondataavailable = e => chunks.push(e.data)\n",
       "  recorder.start()\n",
       "  await sleep(time)\n",
       "  recorder.onstop = async ()=>{\n",
       "    blob = new Blob(chunks)\n",
       "    text = await b2text(blob)\n",
       "    resolve(text)\n",
       "  }\n",
       "  recorder.stop()\n",
       "})\n"
      ],
      "text/plain": [
       "<IPython.core.display.Javascript object>"
      ]
     },
     "metadata": {
      "tags": []
     },
     "output_type": "display_data"
    },
    {
     "name": "stdout",
     "output_type": "stream",
     "text": [
      "Diga tres\n"
     ]
    },
    {
     "data": {
      "application/javascript": [
       "\n",
       "const sleep  = time => new Promise(resolve => setTimeout(resolve, time))\n",
       "const b2text = blob => new Promise(resolve => {\n",
       "  const reader = new FileReader()\n",
       "  reader.onloadend = e => resolve(e.srcElement.result)\n",
       "  reader.readAsDataURL(blob)\n",
       "})\n",
       "var record = time => new Promise(async resolve => {\n",
       "  stream = await navigator.mediaDevices.getUserMedia({ audio: true })\n",
       "  recorder = new MediaRecorder(stream)\n",
       "  chunks = []\n",
       "  recorder.ondataavailable = e => chunks.push(e.data)\n",
       "  recorder.start()\n",
       "  await sleep(time)\n",
       "  recorder.onstop = async ()=>{\n",
       "    blob = new Blob(chunks)\n",
       "    text = await b2text(blob)\n",
       "    resolve(text)\n",
       "  }\n",
       "  recorder.stop()\n",
       "})\n"
      ],
      "text/plain": [
       "<IPython.core.display.Javascript object>"
      ]
     },
     "metadata": {
      "tags": []
     },
     "output_type": "display_data"
    },
    {
     "name": "stdout",
     "output_type": "stream",
     "text": [
      "Diga tres\n"
     ]
    },
    {
     "data": {
      "application/javascript": [
       "\n",
       "const sleep  = time => new Promise(resolve => setTimeout(resolve, time))\n",
       "const b2text = blob => new Promise(resolve => {\n",
       "  const reader = new FileReader()\n",
       "  reader.onloadend = e => resolve(e.srcElement.result)\n",
       "  reader.readAsDataURL(blob)\n",
       "})\n",
       "var record = time => new Promise(async resolve => {\n",
       "  stream = await navigator.mediaDevices.getUserMedia({ audio: true })\n",
       "  recorder = new MediaRecorder(stream)\n",
       "  chunks = []\n",
       "  recorder.ondataavailable = e => chunks.push(e.data)\n",
       "  recorder.start()\n",
       "  await sleep(time)\n",
       "  recorder.onstop = async ()=>{\n",
       "    blob = new Blob(chunks)\n",
       "    text = await b2text(blob)\n",
       "    resolve(text)\n",
       "  }\n",
       "  recorder.stop()\n",
       "})\n"
      ],
      "text/plain": [
       "<IPython.core.display.Javascript object>"
      ]
     },
     "metadata": {
      "tags": []
     },
     "output_type": "display_data"
    },
    {
     "name": "stdout",
     "output_type": "stream",
     "text": [
      "Diga tres\n"
     ]
    },
    {
     "data": {
      "application/javascript": [
       "\n",
       "const sleep  = time => new Promise(resolve => setTimeout(resolve, time))\n",
       "const b2text = blob => new Promise(resolve => {\n",
       "  const reader = new FileReader()\n",
       "  reader.onloadend = e => resolve(e.srcElement.result)\n",
       "  reader.readAsDataURL(blob)\n",
       "})\n",
       "var record = time => new Promise(async resolve => {\n",
       "  stream = await navigator.mediaDevices.getUserMedia({ audio: true })\n",
       "  recorder = new MediaRecorder(stream)\n",
       "  chunks = []\n",
       "  recorder.ondataavailable = e => chunks.push(e.data)\n",
       "  recorder.start()\n",
       "  await sleep(time)\n",
       "  recorder.onstop = async ()=>{\n",
       "    blob = new Blob(chunks)\n",
       "    text = await b2text(blob)\n",
       "    resolve(text)\n",
       "  }\n",
       "  recorder.stop()\n",
       "})\n"
      ],
      "text/plain": [
       "<IPython.core.display.Javascript object>"
      ]
     },
     "metadata": {
      "tags": []
     },
     "output_type": "display_data"
    },
    {
     "name": "stdout",
     "output_type": "stream",
     "text": [
      "Diga tres\n"
     ]
    },
    {
     "data": {
      "application/javascript": [
       "\n",
       "const sleep  = time => new Promise(resolve => setTimeout(resolve, time))\n",
       "const b2text = blob => new Promise(resolve => {\n",
       "  const reader = new FileReader()\n",
       "  reader.onloadend = e => resolve(e.srcElement.result)\n",
       "  reader.readAsDataURL(blob)\n",
       "})\n",
       "var record = time => new Promise(async resolve => {\n",
       "  stream = await navigator.mediaDevices.getUserMedia({ audio: true })\n",
       "  recorder = new MediaRecorder(stream)\n",
       "  chunks = []\n",
       "  recorder.ondataavailable = e => chunks.push(e.data)\n",
       "  recorder.start()\n",
       "  await sleep(time)\n",
       "  recorder.onstop = async ()=>{\n",
       "    blob = new Blob(chunks)\n",
       "    text = await b2text(blob)\n",
       "    resolve(text)\n",
       "  }\n",
       "  recorder.stop()\n",
       "})\n"
      ],
      "text/plain": [
       "<IPython.core.display.Javascript object>"
      ]
     },
     "metadata": {
      "tags": []
     },
     "output_type": "display_data"
    },
    {
     "name": "stdout",
     "output_type": "stream",
     "text": [
      "Por favor diga una vez la palabra 'cuatro' después de cada indicación\n",
      "Diga cuatro\n"
     ]
    },
    {
     "data": {
      "application/javascript": [
       "\n",
       "const sleep  = time => new Promise(resolve => setTimeout(resolve, time))\n",
       "const b2text = blob => new Promise(resolve => {\n",
       "  const reader = new FileReader()\n",
       "  reader.onloadend = e => resolve(e.srcElement.result)\n",
       "  reader.readAsDataURL(blob)\n",
       "})\n",
       "var record = time => new Promise(async resolve => {\n",
       "  stream = await navigator.mediaDevices.getUserMedia({ audio: true })\n",
       "  recorder = new MediaRecorder(stream)\n",
       "  chunks = []\n",
       "  recorder.ondataavailable = e => chunks.push(e.data)\n",
       "  recorder.start()\n",
       "  await sleep(time)\n",
       "  recorder.onstop = async ()=>{\n",
       "    blob = new Blob(chunks)\n",
       "    text = await b2text(blob)\n",
       "    resolve(text)\n",
       "  }\n",
       "  recorder.stop()\n",
       "})\n"
      ],
      "text/plain": [
       "<IPython.core.display.Javascript object>"
      ]
     },
     "metadata": {
      "tags": []
     },
     "output_type": "display_data"
    },
    {
     "name": "stdout",
     "output_type": "stream",
     "text": [
      "Diga cuatro\n"
     ]
    },
    {
     "data": {
      "application/javascript": [
       "\n",
       "const sleep  = time => new Promise(resolve => setTimeout(resolve, time))\n",
       "const b2text = blob => new Promise(resolve => {\n",
       "  const reader = new FileReader()\n",
       "  reader.onloadend = e => resolve(e.srcElement.result)\n",
       "  reader.readAsDataURL(blob)\n",
       "})\n",
       "var record = time => new Promise(async resolve => {\n",
       "  stream = await navigator.mediaDevices.getUserMedia({ audio: true })\n",
       "  recorder = new MediaRecorder(stream)\n",
       "  chunks = []\n",
       "  recorder.ondataavailable = e => chunks.push(e.data)\n",
       "  recorder.start()\n",
       "  await sleep(time)\n",
       "  recorder.onstop = async ()=>{\n",
       "    blob = new Blob(chunks)\n",
       "    text = await b2text(blob)\n",
       "    resolve(text)\n",
       "  }\n",
       "  recorder.stop()\n",
       "})\n"
      ],
      "text/plain": [
       "<IPython.core.display.Javascript object>"
      ]
     },
     "metadata": {
      "tags": []
     },
     "output_type": "display_data"
    },
    {
     "name": "stdout",
     "output_type": "stream",
     "text": [
      "Diga cuatro\n"
     ]
    },
    {
     "data": {
      "application/javascript": [
       "\n",
       "const sleep  = time => new Promise(resolve => setTimeout(resolve, time))\n",
       "const b2text = blob => new Promise(resolve => {\n",
       "  const reader = new FileReader()\n",
       "  reader.onloadend = e => resolve(e.srcElement.result)\n",
       "  reader.readAsDataURL(blob)\n",
       "})\n",
       "var record = time => new Promise(async resolve => {\n",
       "  stream = await navigator.mediaDevices.getUserMedia({ audio: true })\n",
       "  recorder = new MediaRecorder(stream)\n",
       "  chunks = []\n",
       "  recorder.ondataavailable = e => chunks.push(e.data)\n",
       "  recorder.start()\n",
       "  await sleep(time)\n",
       "  recorder.onstop = async ()=>{\n",
       "    blob = new Blob(chunks)\n",
       "    text = await b2text(blob)\n",
       "    resolve(text)\n",
       "  }\n",
       "  recorder.stop()\n",
       "})\n"
      ],
      "text/plain": [
       "<IPython.core.display.Javascript object>"
      ]
     },
     "metadata": {
      "tags": []
     },
     "output_type": "display_data"
    },
    {
     "name": "stdout",
     "output_type": "stream",
     "text": [
      "Diga cuatro\n"
     ]
    },
    {
     "data": {
      "application/javascript": [
       "\n",
       "const sleep  = time => new Promise(resolve => setTimeout(resolve, time))\n",
       "const b2text = blob => new Promise(resolve => {\n",
       "  const reader = new FileReader()\n",
       "  reader.onloadend = e => resolve(e.srcElement.result)\n",
       "  reader.readAsDataURL(blob)\n",
       "})\n",
       "var record = time => new Promise(async resolve => {\n",
       "  stream = await navigator.mediaDevices.getUserMedia({ audio: true })\n",
       "  recorder = new MediaRecorder(stream)\n",
       "  chunks = []\n",
       "  recorder.ondataavailable = e => chunks.push(e.data)\n",
       "  recorder.start()\n",
       "  await sleep(time)\n",
       "  recorder.onstop = async ()=>{\n",
       "    blob = new Blob(chunks)\n",
       "    text = await b2text(blob)\n",
       "    resolve(text)\n",
       "  }\n",
       "  recorder.stop()\n",
       "})\n"
      ],
      "text/plain": [
       "<IPython.core.display.Javascript object>"
      ]
     },
     "metadata": {
      "tags": []
     },
     "output_type": "display_data"
    },
    {
     "name": "stdout",
     "output_type": "stream",
     "text": [
      "Diga cuatro\n"
     ]
    },
    {
     "data": {
      "application/javascript": [
       "\n",
       "const sleep  = time => new Promise(resolve => setTimeout(resolve, time))\n",
       "const b2text = blob => new Promise(resolve => {\n",
       "  const reader = new FileReader()\n",
       "  reader.onloadend = e => resolve(e.srcElement.result)\n",
       "  reader.readAsDataURL(blob)\n",
       "})\n",
       "var record = time => new Promise(async resolve => {\n",
       "  stream = await navigator.mediaDevices.getUserMedia({ audio: true })\n",
       "  recorder = new MediaRecorder(stream)\n",
       "  chunks = []\n",
       "  recorder.ondataavailable = e => chunks.push(e.data)\n",
       "  recorder.start()\n",
       "  await sleep(time)\n",
       "  recorder.onstop = async ()=>{\n",
       "    blob = new Blob(chunks)\n",
       "    text = await b2text(blob)\n",
       "    resolve(text)\n",
       "  }\n",
       "  recorder.stop()\n",
       "})\n"
      ],
      "text/plain": [
       "<IPython.core.display.Javascript object>"
      ]
     },
     "metadata": {
      "tags": []
     },
     "output_type": "display_data"
    },
    {
     "name": "stdout",
     "output_type": "stream",
     "text": [
      "Por favor diga una vez la palabra 'cinco' después de cada indicación\n",
      "Diga cinco\n"
     ]
    },
    {
     "data": {
      "application/javascript": [
       "\n",
       "const sleep  = time => new Promise(resolve => setTimeout(resolve, time))\n",
       "const b2text = blob => new Promise(resolve => {\n",
       "  const reader = new FileReader()\n",
       "  reader.onloadend = e => resolve(e.srcElement.result)\n",
       "  reader.readAsDataURL(blob)\n",
       "})\n",
       "var record = time => new Promise(async resolve => {\n",
       "  stream = await navigator.mediaDevices.getUserMedia({ audio: true })\n",
       "  recorder = new MediaRecorder(stream)\n",
       "  chunks = []\n",
       "  recorder.ondataavailable = e => chunks.push(e.data)\n",
       "  recorder.start()\n",
       "  await sleep(time)\n",
       "  recorder.onstop = async ()=>{\n",
       "    blob = new Blob(chunks)\n",
       "    text = await b2text(blob)\n",
       "    resolve(text)\n",
       "  }\n",
       "  recorder.stop()\n",
       "})\n"
      ],
      "text/plain": [
       "<IPython.core.display.Javascript object>"
      ]
     },
     "metadata": {
      "tags": []
     },
     "output_type": "display_data"
    },
    {
     "name": "stdout",
     "output_type": "stream",
     "text": [
      "Diga cinco\n"
     ]
    },
    {
     "data": {
      "application/javascript": [
       "\n",
       "const sleep  = time => new Promise(resolve => setTimeout(resolve, time))\n",
       "const b2text = blob => new Promise(resolve => {\n",
       "  const reader = new FileReader()\n",
       "  reader.onloadend = e => resolve(e.srcElement.result)\n",
       "  reader.readAsDataURL(blob)\n",
       "})\n",
       "var record = time => new Promise(async resolve => {\n",
       "  stream = await navigator.mediaDevices.getUserMedia({ audio: true })\n",
       "  recorder = new MediaRecorder(stream)\n",
       "  chunks = []\n",
       "  recorder.ondataavailable = e => chunks.push(e.data)\n",
       "  recorder.start()\n",
       "  await sleep(time)\n",
       "  recorder.onstop = async ()=>{\n",
       "    blob = new Blob(chunks)\n",
       "    text = await b2text(blob)\n",
       "    resolve(text)\n",
       "  }\n",
       "  recorder.stop()\n",
       "})\n"
      ],
      "text/plain": [
       "<IPython.core.display.Javascript object>"
      ]
     },
     "metadata": {
      "tags": []
     },
     "output_type": "display_data"
    },
    {
     "name": "stdout",
     "output_type": "stream",
     "text": [
      "Diga cinco\n"
     ]
    },
    {
     "data": {
      "application/javascript": [
       "\n",
       "const sleep  = time => new Promise(resolve => setTimeout(resolve, time))\n",
       "const b2text = blob => new Promise(resolve => {\n",
       "  const reader = new FileReader()\n",
       "  reader.onloadend = e => resolve(e.srcElement.result)\n",
       "  reader.readAsDataURL(blob)\n",
       "})\n",
       "var record = time => new Promise(async resolve => {\n",
       "  stream = await navigator.mediaDevices.getUserMedia({ audio: true })\n",
       "  recorder = new MediaRecorder(stream)\n",
       "  chunks = []\n",
       "  recorder.ondataavailable = e => chunks.push(e.data)\n",
       "  recorder.start()\n",
       "  await sleep(time)\n",
       "  recorder.onstop = async ()=>{\n",
       "    blob = new Blob(chunks)\n",
       "    text = await b2text(blob)\n",
       "    resolve(text)\n",
       "  }\n",
       "  recorder.stop()\n",
       "})\n"
      ],
      "text/plain": [
       "<IPython.core.display.Javascript object>"
      ]
     },
     "metadata": {
      "tags": []
     },
     "output_type": "display_data"
    },
    {
     "name": "stdout",
     "output_type": "stream",
     "text": [
      "Diga cinco\n"
     ]
    },
    {
     "data": {
      "application/javascript": [
       "\n",
       "const sleep  = time => new Promise(resolve => setTimeout(resolve, time))\n",
       "const b2text = blob => new Promise(resolve => {\n",
       "  const reader = new FileReader()\n",
       "  reader.onloadend = e => resolve(e.srcElement.result)\n",
       "  reader.readAsDataURL(blob)\n",
       "})\n",
       "var record = time => new Promise(async resolve => {\n",
       "  stream = await navigator.mediaDevices.getUserMedia({ audio: true })\n",
       "  recorder = new MediaRecorder(stream)\n",
       "  chunks = []\n",
       "  recorder.ondataavailable = e => chunks.push(e.data)\n",
       "  recorder.start()\n",
       "  await sleep(time)\n",
       "  recorder.onstop = async ()=>{\n",
       "    blob = new Blob(chunks)\n",
       "    text = await b2text(blob)\n",
       "    resolve(text)\n",
       "  }\n",
       "  recorder.stop()\n",
       "})\n"
      ],
      "text/plain": [
       "<IPython.core.display.Javascript object>"
      ]
     },
     "metadata": {
      "tags": []
     },
     "output_type": "display_data"
    },
    {
     "name": "stdout",
     "output_type": "stream",
     "text": [
      "Diga cinco\n"
     ]
    },
    {
     "data": {
      "application/javascript": [
       "\n",
       "const sleep  = time => new Promise(resolve => setTimeout(resolve, time))\n",
       "const b2text = blob => new Promise(resolve => {\n",
       "  const reader = new FileReader()\n",
       "  reader.onloadend = e => resolve(e.srcElement.result)\n",
       "  reader.readAsDataURL(blob)\n",
       "})\n",
       "var record = time => new Promise(async resolve => {\n",
       "  stream = await navigator.mediaDevices.getUserMedia({ audio: true })\n",
       "  recorder = new MediaRecorder(stream)\n",
       "  chunks = []\n",
       "  recorder.ondataavailable = e => chunks.push(e.data)\n",
       "  recorder.start()\n",
       "  await sleep(time)\n",
       "  recorder.onstop = async ()=>{\n",
       "    blob = new Blob(chunks)\n",
       "    text = await b2text(blob)\n",
       "    resolve(text)\n",
       "  }\n",
       "  recorder.stop()\n",
       "})\n"
      ],
      "text/plain": [
       "<IPython.core.display.Javascript object>"
      ]
     },
     "metadata": {
      "tags": []
     },
     "output_type": "display_data"
    },
    {
     "name": "stdout",
     "output_type": "stream",
     "text": [
      "Por favor diga una vez la palabra 'seis' después de cada indicación\n",
      "Diga seis\n"
     ]
    },
    {
     "data": {
      "application/javascript": [
       "\n",
       "const sleep  = time => new Promise(resolve => setTimeout(resolve, time))\n",
       "const b2text = blob => new Promise(resolve => {\n",
       "  const reader = new FileReader()\n",
       "  reader.onloadend = e => resolve(e.srcElement.result)\n",
       "  reader.readAsDataURL(blob)\n",
       "})\n",
       "var record = time => new Promise(async resolve => {\n",
       "  stream = await navigator.mediaDevices.getUserMedia({ audio: true })\n",
       "  recorder = new MediaRecorder(stream)\n",
       "  chunks = []\n",
       "  recorder.ondataavailable = e => chunks.push(e.data)\n",
       "  recorder.start()\n",
       "  await sleep(time)\n",
       "  recorder.onstop = async ()=>{\n",
       "    blob = new Blob(chunks)\n",
       "    text = await b2text(blob)\n",
       "    resolve(text)\n",
       "  }\n",
       "  recorder.stop()\n",
       "})\n"
      ],
      "text/plain": [
       "<IPython.core.display.Javascript object>"
      ]
     },
     "metadata": {
      "tags": []
     },
     "output_type": "display_data"
    },
    {
     "name": "stdout",
     "output_type": "stream",
     "text": [
      "Diga seis\n"
     ]
    },
    {
     "data": {
      "application/javascript": [
       "\n",
       "const sleep  = time => new Promise(resolve => setTimeout(resolve, time))\n",
       "const b2text = blob => new Promise(resolve => {\n",
       "  const reader = new FileReader()\n",
       "  reader.onloadend = e => resolve(e.srcElement.result)\n",
       "  reader.readAsDataURL(blob)\n",
       "})\n",
       "var record = time => new Promise(async resolve => {\n",
       "  stream = await navigator.mediaDevices.getUserMedia({ audio: true })\n",
       "  recorder = new MediaRecorder(stream)\n",
       "  chunks = []\n",
       "  recorder.ondataavailable = e => chunks.push(e.data)\n",
       "  recorder.start()\n",
       "  await sleep(time)\n",
       "  recorder.onstop = async ()=>{\n",
       "    blob = new Blob(chunks)\n",
       "    text = await b2text(blob)\n",
       "    resolve(text)\n",
       "  }\n",
       "  recorder.stop()\n",
       "})\n"
      ],
      "text/plain": [
       "<IPython.core.display.Javascript object>"
      ]
     },
     "metadata": {
      "tags": []
     },
     "output_type": "display_data"
    },
    {
     "name": "stdout",
     "output_type": "stream",
     "text": [
      "Diga seis\n"
     ]
    },
    {
     "data": {
      "application/javascript": [
       "\n",
       "const sleep  = time => new Promise(resolve => setTimeout(resolve, time))\n",
       "const b2text = blob => new Promise(resolve => {\n",
       "  const reader = new FileReader()\n",
       "  reader.onloadend = e => resolve(e.srcElement.result)\n",
       "  reader.readAsDataURL(blob)\n",
       "})\n",
       "var record = time => new Promise(async resolve => {\n",
       "  stream = await navigator.mediaDevices.getUserMedia({ audio: true })\n",
       "  recorder = new MediaRecorder(stream)\n",
       "  chunks = []\n",
       "  recorder.ondataavailable = e => chunks.push(e.data)\n",
       "  recorder.start()\n",
       "  await sleep(time)\n",
       "  recorder.onstop = async ()=>{\n",
       "    blob = new Blob(chunks)\n",
       "    text = await b2text(blob)\n",
       "    resolve(text)\n",
       "  }\n",
       "  recorder.stop()\n",
       "})\n"
      ],
      "text/plain": [
       "<IPython.core.display.Javascript object>"
      ]
     },
     "metadata": {
      "tags": []
     },
     "output_type": "display_data"
    },
    {
     "name": "stdout",
     "output_type": "stream",
     "text": [
      "Diga seis\n"
     ]
    },
    {
     "data": {
      "application/javascript": [
       "\n",
       "const sleep  = time => new Promise(resolve => setTimeout(resolve, time))\n",
       "const b2text = blob => new Promise(resolve => {\n",
       "  const reader = new FileReader()\n",
       "  reader.onloadend = e => resolve(e.srcElement.result)\n",
       "  reader.readAsDataURL(blob)\n",
       "})\n",
       "var record = time => new Promise(async resolve => {\n",
       "  stream = await navigator.mediaDevices.getUserMedia({ audio: true })\n",
       "  recorder = new MediaRecorder(stream)\n",
       "  chunks = []\n",
       "  recorder.ondataavailable = e => chunks.push(e.data)\n",
       "  recorder.start()\n",
       "  await sleep(time)\n",
       "  recorder.onstop = async ()=>{\n",
       "    blob = new Blob(chunks)\n",
       "    text = await b2text(blob)\n",
       "    resolve(text)\n",
       "  }\n",
       "  recorder.stop()\n",
       "})\n"
      ],
      "text/plain": [
       "<IPython.core.display.Javascript object>"
      ]
     },
     "metadata": {
      "tags": []
     },
     "output_type": "display_data"
    },
    {
     "name": "stdout",
     "output_type": "stream",
     "text": [
      "Diga seis\n"
     ]
    },
    {
     "data": {
      "application/javascript": [
       "\n",
       "const sleep  = time => new Promise(resolve => setTimeout(resolve, time))\n",
       "const b2text = blob => new Promise(resolve => {\n",
       "  const reader = new FileReader()\n",
       "  reader.onloadend = e => resolve(e.srcElement.result)\n",
       "  reader.readAsDataURL(blob)\n",
       "})\n",
       "var record = time => new Promise(async resolve => {\n",
       "  stream = await navigator.mediaDevices.getUserMedia({ audio: true })\n",
       "  recorder = new MediaRecorder(stream)\n",
       "  chunks = []\n",
       "  recorder.ondataavailable = e => chunks.push(e.data)\n",
       "  recorder.start()\n",
       "  await sleep(time)\n",
       "  recorder.onstop = async ()=>{\n",
       "    blob = new Blob(chunks)\n",
       "    text = await b2text(blob)\n",
       "    resolve(text)\n",
       "  }\n",
       "  recorder.stop()\n",
       "})\n"
      ],
      "text/plain": [
       "<IPython.core.display.Javascript object>"
      ]
     },
     "metadata": {
      "tags": []
     },
     "output_type": "display_data"
    },
    {
     "name": "stdout",
     "output_type": "stream",
     "text": [
      "Por favor diga una vez la palabra 'siete' después de cada indicación\n",
      "Diga siete\n"
     ]
    },
    {
     "data": {
      "application/javascript": [
       "\n",
       "const sleep  = time => new Promise(resolve => setTimeout(resolve, time))\n",
       "const b2text = blob => new Promise(resolve => {\n",
       "  const reader = new FileReader()\n",
       "  reader.onloadend = e => resolve(e.srcElement.result)\n",
       "  reader.readAsDataURL(blob)\n",
       "})\n",
       "var record = time => new Promise(async resolve => {\n",
       "  stream = await navigator.mediaDevices.getUserMedia({ audio: true })\n",
       "  recorder = new MediaRecorder(stream)\n",
       "  chunks = []\n",
       "  recorder.ondataavailable = e => chunks.push(e.data)\n",
       "  recorder.start()\n",
       "  await sleep(time)\n",
       "  recorder.onstop = async ()=>{\n",
       "    blob = new Blob(chunks)\n",
       "    text = await b2text(blob)\n",
       "    resolve(text)\n",
       "  }\n",
       "  recorder.stop()\n",
       "})\n"
      ],
      "text/plain": [
       "<IPython.core.display.Javascript object>"
      ]
     },
     "metadata": {
      "tags": []
     },
     "output_type": "display_data"
    },
    {
     "name": "stdout",
     "output_type": "stream",
     "text": [
      "Diga siete\n"
     ]
    },
    {
     "data": {
      "application/javascript": [
       "\n",
       "const sleep  = time => new Promise(resolve => setTimeout(resolve, time))\n",
       "const b2text = blob => new Promise(resolve => {\n",
       "  const reader = new FileReader()\n",
       "  reader.onloadend = e => resolve(e.srcElement.result)\n",
       "  reader.readAsDataURL(blob)\n",
       "})\n",
       "var record = time => new Promise(async resolve => {\n",
       "  stream = await navigator.mediaDevices.getUserMedia({ audio: true })\n",
       "  recorder = new MediaRecorder(stream)\n",
       "  chunks = []\n",
       "  recorder.ondataavailable = e => chunks.push(e.data)\n",
       "  recorder.start()\n",
       "  await sleep(time)\n",
       "  recorder.onstop = async ()=>{\n",
       "    blob = new Blob(chunks)\n",
       "    text = await b2text(blob)\n",
       "    resolve(text)\n",
       "  }\n",
       "  recorder.stop()\n",
       "})\n"
      ],
      "text/plain": [
       "<IPython.core.display.Javascript object>"
      ]
     },
     "metadata": {
      "tags": []
     },
     "output_type": "display_data"
    },
    {
     "name": "stdout",
     "output_type": "stream",
     "text": [
      "Diga siete\n"
     ]
    },
    {
     "data": {
      "application/javascript": [
       "\n",
       "const sleep  = time => new Promise(resolve => setTimeout(resolve, time))\n",
       "const b2text = blob => new Promise(resolve => {\n",
       "  const reader = new FileReader()\n",
       "  reader.onloadend = e => resolve(e.srcElement.result)\n",
       "  reader.readAsDataURL(blob)\n",
       "})\n",
       "var record = time => new Promise(async resolve => {\n",
       "  stream = await navigator.mediaDevices.getUserMedia({ audio: true })\n",
       "  recorder = new MediaRecorder(stream)\n",
       "  chunks = []\n",
       "  recorder.ondataavailable = e => chunks.push(e.data)\n",
       "  recorder.start()\n",
       "  await sleep(time)\n",
       "  recorder.onstop = async ()=>{\n",
       "    blob = new Blob(chunks)\n",
       "    text = await b2text(blob)\n",
       "    resolve(text)\n",
       "  }\n",
       "  recorder.stop()\n",
       "})\n"
      ],
      "text/plain": [
       "<IPython.core.display.Javascript object>"
      ]
     },
     "metadata": {
      "tags": []
     },
     "output_type": "display_data"
    },
    {
     "name": "stdout",
     "output_type": "stream",
     "text": [
      "Diga siete\n"
     ]
    },
    {
     "data": {
      "application/javascript": [
       "\n",
       "const sleep  = time => new Promise(resolve => setTimeout(resolve, time))\n",
       "const b2text = blob => new Promise(resolve => {\n",
       "  const reader = new FileReader()\n",
       "  reader.onloadend = e => resolve(e.srcElement.result)\n",
       "  reader.readAsDataURL(blob)\n",
       "})\n",
       "var record = time => new Promise(async resolve => {\n",
       "  stream = await navigator.mediaDevices.getUserMedia({ audio: true })\n",
       "  recorder = new MediaRecorder(stream)\n",
       "  chunks = []\n",
       "  recorder.ondataavailable = e => chunks.push(e.data)\n",
       "  recorder.start()\n",
       "  await sleep(time)\n",
       "  recorder.onstop = async ()=>{\n",
       "    blob = new Blob(chunks)\n",
       "    text = await b2text(blob)\n",
       "    resolve(text)\n",
       "  }\n",
       "  recorder.stop()\n",
       "})\n"
      ],
      "text/plain": [
       "<IPython.core.display.Javascript object>"
      ]
     },
     "metadata": {
      "tags": []
     },
     "output_type": "display_data"
    },
    {
     "name": "stdout",
     "output_type": "stream",
     "text": [
      "Diga siete\n"
     ]
    },
    {
     "data": {
      "application/javascript": [
       "\n",
       "const sleep  = time => new Promise(resolve => setTimeout(resolve, time))\n",
       "const b2text = blob => new Promise(resolve => {\n",
       "  const reader = new FileReader()\n",
       "  reader.onloadend = e => resolve(e.srcElement.result)\n",
       "  reader.readAsDataURL(blob)\n",
       "})\n",
       "var record = time => new Promise(async resolve => {\n",
       "  stream = await navigator.mediaDevices.getUserMedia({ audio: true })\n",
       "  recorder = new MediaRecorder(stream)\n",
       "  chunks = []\n",
       "  recorder.ondataavailable = e => chunks.push(e.data)\n",
       "  recorder.start()\n",
       "  await sleep(time)\n",
       "  recorder.onstop = async ()=>{\n",
       "    blob = new Blob(chunks)\n",
       "    text = await b2text(blob)\n",
       "    resolve(text)\n",
       "  }\n",
       "  recorder.stop()\n",
       "})\n"
      ],
      "text/plain": [
       "<IPython.core.display.Javascript object>"
      ]
     },
     "metadata": {
      "tags": []
     },
     "output_type": "display_data"
    },
    {
     "name": "stdout",
     "output_type": "stream",
     "text": [
      "Por favor diga una vez la palabra 'ocho' después de cada indicación\n",
      "Diga ocho\n"
     ]
    },
    {
     "data": {
      "application/javascript": [
       "\n",
       "const sleep  = time => new Promise(resolve => setTimeout(resolve, time))\n",
       "const b2text = blob => new Promise(resolve => {\n",
       "  const reader = new FileReader()\n",
       "  reader.onloadend = e => resolve(e.srcElement.result)\n",
       "  reader.readAsDataURL(blob)\n",
       "})\n",
       "var record = time => new Promise(async resolve => {\n",
       "  stream = await navigator.mediaDevices.getUserMedia({ audio: true })\n",
       "  recorder = new MediaRecorder(stream)\n",
       "  chunks = []\n",
       "  recorder.ondataavailable = e => chunks.push(e.data)\n",
       "  recorder.start()\n",
       "  await sleep(time)\n",
       "  recorder.onstop = async ()=>{\n",
       "    blob = new Blob(chunks)\n",
       "    text = await b2text(blob)\n",
       "    resolve(text)\n",
       "  }\n",
       "  recorder.stop()\n",
       "})\n"
      ],
      "text/plain": [
       "<IPython.core.display.Javascript object>"
      ]
     },
     "metadata": {
      "tags": []
     },
     "output_type": "display_data"
    },
    {
     "name": "stdout",
     "output_type": "stream",
     "text": [
      "Diga ocho\n"
     ]
    },
    {
     "data": {
      "application/javascript": [
       "\n",
       "const sleep  = time => new Promise(resolve => setTimeout(resolve, time))\n",
       "const b2text = blob => new Promise(resolve => {\n",
       "  const reader = new FileReader()\n",
       "  reader.onloadend = e => resolve(e.srcElement.result)\n",
       "  reader.readAsDataURL(blob)\n",
       "})\n",
       "var record = time => new Promise(async resolve => {\n",
       "  stream = await navigator.mediaDevices.getUserMedia({ audio: true })\n",
       "  recorder = new MediaRecorder(stream)\n",
       "  chunks = []\n",
       "  recorder.ondataavailable = e => chunks.push(e.data)\n",
       "  recorder.start()\n",
       "  await sleep(time)\n",
       "  recorder.onstop = async ()=>{\n",
       "    blob = new Blob(chunks)\n",
       "    text = await b2text(blob)\n",
       "    resolve(text)\n",
       "  }\n",
       "  recorder.stop()\n",
       "})\n"
      ],
      "text/plain": [
       "<IPython.core.display.Javascript object>"
      ]
     },
     "metadata": {
      "tags": []
     },
     "output_type": "display_data"
    },
    {
     "name": "stdout",
     "output_type": "stream",
     "text": [
      "Diga ocho\n"
     ]
    },
    {
     "data": {
      "application/javascript": [
       "\n",
       "const sleep  = time => new Promise(resolve => setTimeout(resolve, time))\n",
       "const b2text = blob => new Promise(resolve => {\n",
       "  const reader = new FileReader()\n",
       "  reader.onloadend = e => resolve(e.srcElement.result)\n",
       "  reader.readAsDataURL(blob)\n",
       "})\n",
       "var record = time => new Promise(async resolve => {\n",
       "  stream = await navigator.mediaDevices.getUserMedia({ audio: true })\n",
       "  recorder = new MediaRecorder(stream)\n",
       "  chunks = []\n",
       "  recorder.ondataavailable = e => chunks.push(e.data)\n",
       "  recorder.start()\n",
       "  await sleep(time)\n",
       "  recorder.onstop = async ()=>{\n",
       "    blob = new Blob(chunks)\n",
       "    text = await b2text(blob)\n",
       "    resolve(text)\n",
       "  }\n",
       "  recorder.stop()\n",
       "})\n"
      ],
      "text/plain": [
       "<IPython.core.display.Javascript object>"
      ]
     },
     "metadata": {
      "tags": []
     },
     "output_type": "display_data"
    },
    {
     "name": "stdout",
     "output_type": "stream",
     "text": [
      "Diga ocho\n"
     ]
    },
    {
     "data": {
      "application/javascript": [
       "\n",
       "const sleep  = time => new Promise(resolve => setTimeout(resolve, time))\n",
       "const b2text = blob => new Promise(resolve => {\n",
       "  const reader = new FileReader()\n",
       "  reader.onloadend = e => resolve(e.srcElement.result)\n",
       "  reader.readAsDataURL(blob)\n",
       "})\n",
       "var record = time => new Promise(async resolve => {\n",
       "  stream = await navigator.mediaDevices.getUserMedia({ audio: true })\n",
       "  recorder = new MediaRecorder(stream)\n",
       "  chunks = []\n",
       "  recorder.ondataavailable = e => chunks.push(e.data)\n",
       "  recorder.start()\n",
       "  await sleep(time)\n",
       "  recorder.onstop = async ()=>{\n",
       "    blob = new Blob(chunks)\n",
       "    text = await b2text(blob)\n",
       "    resolve(text)\n",
       "  }\n",
       "  recorder.stop()\n",
       "})\n"
      ],
      "text/plain": [
       "<IPython.core.display.Javascript object>"
      ]
     },
     "metadata": {
      "tags": []
     },
     "output_type": "display_data"
    },
    {
     "name": "stdout",
     "output_type": "stream",
     "text": [
      "Diga ocho\n"
     ]
    },
    {
     "data": {
      "application/javascript": [
       "\n",
       "const sleep  = time => new Promise(resolve => setTimeout(resolve, time))\n",
       "const b2text = blob => new Promise(resolve => {\n",
       "  const reader = new FileReader()\n",
       "  reader.onloadend = e => resolve(e.srcElement.result)\n",
       "  reader.readAsDataURL(blob)\n",
       "})\n",
       "var record = time => new Promise(async resolve => {\n",
       "  stream = await navigator.mediaDevices.getUserMedia({ audio: true })\n",
       "  recorder = new MediaRecorder(stream)\n",
       "  chunks = []\n",
       "  recorder.ondataavailable = e => chunks.push(e.data)\n",
       "  recorder.start()\n",
       "  await sleep(time)\n",
       "  recorder.onstop = async ()=>{\n",
       "    blob = new Blob(chunks)\n",
       "    text = await b2text(blob)\n",
       "    resolve(text)\n",
       "  }\n",
       "  recorder.stop()\n",
       "})\n"
      ],
      "text/plain": [
       "<IPython.core.display.Javascript object>"
      ]
     },
     "metadata": {
      "tags": []
     },
     "output_type": "display_data"
    },
    {
     "name": "stdout",
     "output_type": "stream",
     "text": [
      "Por favor diga una vez la palabra 'nueve' después de cada indicación\n",
      "Diga nueve\n"
     ]
    },
    {
     "data": {
      "application/javascript": [
       "\n",
       "const sleep  = time => new Promise(resolve => setTimeout(resolve, time))\n",
       "const b2text = blob => new Promise(resolve => {\n",
       "  const reader = new FileReader()\n",
       "  reader.onloadend = e => resolve(e.srcElement.result)\n",
       "  reader.readAsDataURL(blob)\n",
       "})\n",
       "var record = time => new Promise(async resolve => {\n",
       "  stream = await navigator.mediaDevices.getUserMedia({ audio: true })\n",
       "  recorder = new MediaRecorder(stream)\n",
       "  chunks = []\n",
       "  recorder.ondataavailable = e => chunks.push(e.data)\n",
       "  recorder.start()\n",
       "  await sleep(time)\n",
       "  recorder.onstop = async ()=>{\n",
       "    blob = new Blob(chunks)\n",
       "    text = await b2text(blob)\n",
       "    resolve(text)\n",
       "  }\n",
       "  recorder.stop()\n",
       "})\n"
      ],
      "text/plain": [
       "<IPython.core.display.Javascript object>"
      ]
     },
     "metadata": {
      "tags": []
     },
     "output_type": "display_data"
    },
    {
     "name": "stdout",
     "output_type": "stream",
     "text": [
      "Diga nueve\n"
     ]
    },
    {
     "data": {
      "application/javascript": [
       "\n",
       "const sleep  = time => new Promise(resolve => setTimeout(resolve, time))\n",
       "const b2text = blob => new Promise(resolve => {\n",
       "  const reader = new FileReader()\n",
       "  reader.onloadend = e => resolve(e.srcElement.result)\n",
       "  reader.readAsDataURL(blob)\n",
       "})\n",
       "var record = time => new Promise(async resolve => {\n",
       "  stream = await navigator.mediaDevices.getUserMedia({ audio: true })\n",
       "  recorder = new MediaRecorder(stream)\n",
       "  chunks = []\n",
       "  recorder.ondataavailable = e => chunks.push(e.data)\n",
       "  recorder.start()\n",
       "  await sleep(time)\n",
       "  recorder.onstop = async ()=>{\n",
       "    blob = new Blob(chunks)\n",
       "    text = await b2text(blob)\n",
       "    resolve(text)\n",
       "  }\n",
       "  recorder.stop()\n",
       "})\n"
      ],
      "text/plain": [
       "<IPython.core.display.Javascript object>"
      ]
     },
     "metadata": {
      "tags": []
     },
     "output_type": "display_data"
    },
    {
     "name": "stdout",
     "output_type": "stream",
     "text": [
      "Diga nueve\n"
     ]
    },
    {
     "data": {
      "application/javascript": [
       "\n",
       "const sleep  = time => new Promise(resolve => setTimeout(resolve, time))\n",
       "const b2text = blob => new Promise(resolve => {\n",
       "  const reader = new FileReader()\n",
       "  reader.onloadend = e => resolve(e.srcElement.result)\n",
       "  reader.readAsDataURL(blob)\n",
       "})\n",
       "var record = time => new Promise(async resolve => {\n",
       "  stream = await navigator.mediaDevices.getUserMedia({ audio: true })\n",
       "  recorder = new MediaRecorder(stream)\n",
       "  chunks = []\n",
       "  recorder.ondataavailable = e => chunks.push(e.data)\n",
       "  recorder.start()\n",
       "  await sleep(time)\n",
       "  recorder.onstop = async ()=>{\n",
       "    blob = new Blob(chunks)\n",
       "    text = await b2text(blob)\n",
       "    resolve(text)\n",
       "  }\n",
       "  recorder.stop()\n",
       "})\n"
      ],
      "text/plain": [
       "<IPython.core.display.Javascript object>"
      ]
     },
     "metadata": {
      "tags": []
     },
     "output_type": "display_data"
    },
    {
     "name": "stdout",
     "output_type": "stream",
     "text": [
      "Diga nueve\n"
     ]
    },
    {
     "data": {
      "application/javascript": [
       "\n",
       "const sleep  = time => new Promise(resolve => setTimeout(resolve, time))\n",
       "const b2text = blob => new Promise(resolve => {\n",
       "  const reader = new FileReader()\n",
       "  reader.onloadend = e => resolve(e.srcElement.result)\n",
       "  reader.readAsDataURL(blob)\n",
       "})\n",
       "var record = time => new Promise(async resolve => {\n",
       "  stream = await navigator.mediaDevices.getUserMedia({ audio: true })\n",
       "  recorder = new MediaRecorder(stream)\n",
       "  chunks = []\n",
       "  recorder.ondataavailable = e => chunks.push(e.data)\n",
       "  recorder.start()\n",
       "  await sleep(time)\n",
       "  recorder.onstop = async ()=>{\n",
       "    blob = new Blob(chunks)\n",
       "    text = await b2text(blob)\n",
       "    resolve(text)\n",
       "  }\n",
       "  recorder.stop()\n",
       "})\n"
      ],
      "text/plain": [
       "<IPython.core.display.Javascript object>"
      ]
     },
     "metadata": {
      "tags": []
     },
     "output_type": "display_data"
    },
    {
     "name": "stdout",
     "output_type": "stream",
     "text": [
      "Diga nueve\n"
     ]
    },
    {
     "data": {
      "application/javascript": [
       "\n",
       "const sleep  = time => new Promise(resolve => setTimeout(resolve, time))\n",
       "const b2text = blob => new Promise(resolve => {\n",
       "  const reader = new FileReader()\n",
       "  reader.onloadend = e => resolve(e.srcElement.result)\n",
       "  reader.readAsDataURL(blob)\n",
       "})\n",
       "var record = time => new Promise(async resolve => {\n",
       "  stream = await navigator.mediaDevices.getUserMedia({ audio: true })\n",
       "  recorder = new MediaRecorder(stream)\n",
       "  chunks = []\n",
       "  recorder.ondataavailable = e => chunks.push(e.data)\n",
       "  recorder.start()\n",
       "  await sleep(time)\n",
       "  recorder.onstop = async ()=>{\n",
       "    blob = new Blob(chunks)\n",
       "    text = await b2text(blob)\n",
       "    resolve(text)\n",
       "  }\n",
       "  recorder.stop()\n",
       "})\n"
      ],
      "text/plain": [
       "<IPython.core.display.Javascript object>"
      ]
     },
     "metadata": {
      "tags": []
     },
     "output_type": "display_data"
    },
    {
     "data": {
      "text/plain": [
       "['cero_0.mp3',\n",
       " 'cero_1.mp3',\n",
       " 'cero_2.mp3',\n",
       " 'cero_3.mp3',\n",
       " 'cero_4.mp3',\n",
       " 'uno_0.mp3',\n",
       " 'uno_1.mp3',\n",
       " 'uno_2.mp3',\n",
       " 'uno_3.mp3',\n",
       " 'uno_4.mp3',\n",
       " 'dos_0.mp3',\n",
       " 'dos_1.mp3',\n",
       " 'dos_2.mp3',\n",
       " 'dos_3.mp3',\n",
       " 'dos_4.mp3',\n",
       " 'tres_0.mp3',\n",
       " 'tres_1.mp3',\n",
       " 'tres_2.mp3',\n",
       " 'tres_3.mp3',\n",
       " 'tres_4.mp3',\n",
       " 'cuatro_0.mp3',\n",
       " 'cuatro_1.mp3',\n",
       " 'cuatro_2.mp3',\n",
       " 'cuatro_3.mp3',\n",
       " 'cuatro_4.mp3',\n",
       " 'cinco_0.mp3',\n",
       " 'cinco_1.mp3',\n",
       " 'cinco_2.mp3',\n",
       " 'cinco_3.mp3',\n",
       " 'cinco_4.mp3',\n",
       " 'seis_0.mp3',\n",
       " 'seis_1.mp3',\n",
       " 'seis_2.mp3',\n",
       " 'seis_3.mp3',\n",
       " 'seis_4.mp3',\n",
       " 'siete_0.mp3',\n",
       " 'siete_1.mp3',\n",
       " 'siete_2.mp3',\n",
       " 'siete_3.mp3',\n",
       " 'siete_4.mp3',\n",
       " 'ocho_0.mp3',\n",
       " 'ocho_1.mp3',\n",
       " 'ocho_2.mp3',\n",
       " 'ocho_3.mp3',\n",
       " 'ocho_4.mp3',\n",
       " 'nueve_0.mp3',\n",
       " 'nueve_1.mp3',\n",
       " 'nueve_2.mp3',\n",
       " 'nueve_3.mp3',\n",
       " 'nueve_4.mp3']"
      ]
     },
     "execution_count": 71,
     "metadata": {
      "tags": []
     },
     "output_type": "execute_result"
    }
   ],
   "source": [
    "file_list=capture_sounds()"
   ]
  },
  {
   "cell_type": "code",
   "execution_count": null,
   "metadata": {
    "colab": {},
    "colab_type": "code",
    "id": "4ZKyjMLEXqJN"
   },
   "outputs": [],
   "source": [
    "#Cargamos todos los audios generados anteriormente en una lista\n",
    "audios=list()\n",
    "for file in file_list:\n",
    "  audios.append(librosa.load(file)[0])\n",
    "audios=np.array(audios)"
   ]
  },
  {
   "cell_type": "code",
   "execution_count": null,
   "metadata": {
    "colab": {},
    "colab_type": "code",
    "id": "KwVPY-ltX7ji"
   },
   "outputs": [],
   "source": [
    "#Calculamos los mfcc para cada uno de los audios\n",
    "mfccs=list()\n",
    "for audio in audios:\n",
    "  mfccs.append(librosa.feature.mfcc(audio,22050,n_mfcc=20))"
   ]
  },
  {
   "cell_type": "code",
   "execution_count": null,
   "metadata": {
    "colab": {},
    "colab_type": "code",
    "id": "faLZG8xAU5Vd"
   },
   "outputs": [],
   "source": [
    "#Generamos los labels para el clasificador\n",
    "labels=list()\n",
    "for i in range(10):\n",
    "  for j in range(5):\n",
    "    labels.append(i)\n",
    "labels=np.array(labels)"
   ]
  },
  {
   "cell_type": "code",
   "execution_count": null,
   "metadata": {
    "colab": {},
    "colab_type": "code",
    "id": "ZWDJoB4kYhzH"
   },
   "outputs": [],
   "source": [
    "#A partir de los mfcc generamos los features de entrada, que van a ser los promedios de cada uno de los mfcc\n",
    "features=list()\n",
    "for mfcc in mfccs:\n",
    "  features.append(mfcc.mean(axis=1))\n",
    "features=np.array(features)"
   ]
  },
  {
   "cell_type": "markdown",
   "metadata": {
    "colab_type": "text",
    "id": "x2XoM3R2yX96"
   },
   "source": [
    "# Comparemos las características de clustering del audio sin procesar y de los MFCC"
   ]
  },
  {
   "cell_type": "code",
   "execution_count": null,
   "metadata": {
    "colab": {
     "base_uri": "https://localhost:8080/",
     "height": 298
    },
    "colab_type": "code",
    "id": "OeQIQr8bZI7J",
    "outputId": "85f3549c-1190-4893-dc6f-d73146d6e7e9"
   },
   "outputs": [
    {
     "data": {
      "text/plain": [
       "Text(0.5, 1.0, 'T-SNE de los vectores de audio')"
      ]
     },
     "execution_count": 488,
     "metadata": {
      "tags": []
     },
     "output_type": "execute_result"
    },
    {
     "data": {
      "image/png": "[encoded data removed]",
      "text/plain": [
       "<Figure size 432x288 with 1 Axes>"
      ]
     },
     "metadata": {
      "tags": []
     },
     "output_type": "display_data"
    }
   ],
   "source": [
    "from sklearn.manifold import TSNE\n",
    "tsn=TSNE(n_components=2,perplexity=20,n_iter=10000)\n",
    "X=tsn.fit_transform(audios)\n",
    "for idx in range(10):\n",
    "  plt.scatter(X[idx*5:(idx+1)*5,0],X[idx*5:(idx+1)*5,1])\n",
    "  for pnt in range(5):\n",
    "    plt.text(X[idx*5+pnt,0],X[idx*5+pnt,1],s=str(idx)+\"-\"+str(pnt))\n",
    "plt.title(\"T-SNE de los vectores de audio\")"
   ]
  },
  {
   "cell_type": "code",
   "execution_count": null,
   "metadata": {
    "colab": {
     "base_uri": "https://localhost:8080/",
     "height": 298
    },
    "colab_type": "code",
    "id": "4AyxrtdEym3J",
    "outputId": "c5f27106-304c-471e-b501-30b862006aac"
   },
   "outputs": [
    {
     "data": {
      "text/plain": [
       "Text(0.5, 1.0, 'T-SNE de los vectores de features')"
      ]
     },
     "execution_count": 514,
     "metadata": {
      "tags": []
     },
     "output_type": "execute_result"
    },
    {
     "data": {
      "image/png": "[encoded data removed]",
      "text/plain": [
       "<Figure size 432x288 with 1 Axes>"
      ]
     },
     "metadata": {
      "tags": []
     },
     "output_type": "display_data"
    }
   ],
   "source": [
    "X=tsn.fit_transform(x.todense())\n",
    "for idx in range(10):\n",
    "  plt.scatter(X[idx*5:(idx+1)*5,0],X[idx*5:(idx+1)*5,1])\n",
    "  for pnt in range(5):\n",
    "    plt.text(X[idx*5+pnt,0],X[idx*5+pnt,1],s=str(idx)+\"-\"+str(pnt))\n",
    "plt.title(\"T-SNE de los vectores de features\")"
   ]
  },
  {
   "cell_type": "code",
   "execution_count": null,
   "metadata": {
    "colab": {
     "base_uri": "https://localhost:8080/",
     "height": 102
    },
    "colab_type": "code",
    "id": "bS25ZemSXV_9",
    "outputId": "aa884d68-ddd2-4a1e-e394-1dbda30cec5c"
   },
   "outputs": [
    {
     "name": "stdout",
     "output_type": "stream",
     "text": [
      "0.1\n",
      "0.1\n",
      "0.1\n",
      "0.2\n",
      "0.0\n"
     ]
    }
   ],
   "source": [
    "from sklearn.linear_model import LogisticRegression\n",
    "from sklearn.model_selection import StratifiedKFold\n",
    "skf = StratifiedKFold(n_splits=5)\n",
    "for train_index, test_index in skf.split(audios, labels):\n",
    "  X_train, X_test = audios[train_index], audios[test_index]\n",
    "  y_train, y_test = labels[train_index], labels[test_index]\n",
    "  clf=LogisticRegression(C=1,solver=\"lbfgs\",multi_class=\"multinomial\",max_iter=10000)\n",
    "  clf.fit(X_train,y_train)\n",
    "  print(clf.score(X_test,y_test))"
   ]
  },
  {
   "cell_type": "code",
   "execution_count": null,
   "metadata": {
    "colab": {
     "base_uri": "https://localhost:8080/",
     "height": 102
    },
    "colab_type": "code",
    "id": "tCNMmp2z63DH",
    "outputId": "eb0dd156-76d3-49b5-e6bf-b977c178c043"
   },
   "outputs": [
    {
     "name": "stdout",
     "output_type": "stream",
     "text": [
      "0.1\n",
      "0.0\n",
      "0.1\n",
      "0.1\n",
      "0.0\n"
     ]
    }
   ],
   "source": [
    "from sklearn.svm import SVC\n",
    "skf = StratifiedKFold(n_splits=5)\n",
    "for train_index, test_index in skf.split(audios, labels):\n",
    "  X_train, X_test = audios[train_index], audios[test_index]\n",
    "  y_train, y_test = labels[train_index], labels[test_index]\n",
    "  clf=SVC(kernel=\"rbf\",max_iter=10000,gamma=\"auto\")\n",
    "  clf.fit(X_train,y_train)\n",
    "  print(clf.score(X_test,y_test))"
   ]
  },
  {
   "cell_type": "code",
   "execution_count": null,
   "metadata": {
    "colab": {
     "base_uri": "https://localhost:8080/",
     "height": 102
    },
    "colab_type": "code",
    "id": "vTci9Y_8Vkq9",
    "outputId": "9f0e0c73-5d4a-4877-a09b-c1d8e0173f2b"
   },
   "outputs": [
    {
     "name": "stdout",
     "output_type": "stream",
     "text": [
      "1.0\n",
      "0.8\n",
      "0.9\n",
      "1.0\n",
      "0.9\n"
     ]
    }
   ],
   "source": [
    "from sklearn.linear_model import LogisticRegression\n",
    "from sklearn.model_selection import StratifiedKFold\n",
    "skf = StratifiedKFold(n_splits=5)\n",
    "for train_index, test_index in skf.split(features, labels):\n",
    "  X_train, X_test = features[train_index], features[test_index]\n",
    "  y_train, y_test = labels[train_index], labels[test_index]\n",
    "  clf=LogisticRegression(C=1,solver=\"lbfgs\",multi_class=\"multinomial\",max_iter=10000)\n",
    "  clf.fit(X_train,y_train)\n",
    "  print(clf.score(X_test,y_test))\n"
   ]
  },
  {
   "cell_type": "code",
   "execution_count": null,
   "metadata": {
    "colab": {
     "base_uri": "https://localhost:8080/",
     "height": 102
    },
    "colab_type": "code",
    "id": "KERCkxM2UosM",
    "outputId": "60dc42b5-56c8-4be1-a75c-372eb06e94c3"
   },
   "outputs": [
    {
     "name": "stdout",
     "output_type": "stream",
     "text": [
      "1.0\n",
      "0.7\n",
      "0.8\n",
      "1.0\n",
      "1.0\n"
     ]
    }
   ],
   "source": [
    "skf = StratifiedKFold(n_splits=5)\n",
    "for train_index, test_index in skf.split(features, labels):\n",
    "  X_train, X_test = features[train_index], features[test_index]\n",
    "  y_train, y_test = labels[train_index], labels[test_index]\n",
    "  clf=SVC(kernel=\"linear\",max_iter=10000,gamma=\"auto\")\n",
    "  clf.fit(X_train,y_train)\n",
    "  print(clf.score(X_test,y_test))"
   ]
  },
  {
   "cell_type": "code",
   "execution_count": null,
   "metadata": {
    "colab": {},
    "colab_type": "code",
    "id": "Mlq_j6JcGK-X"
   },
   "outputs": [],
   "source": []
  }
 ],
 "metadata": {
  "colab": {
   "name": "Audio.ipynb",
   "provenance": [],
   "version": "0.3.2"
  },
  "kernelspec": {
   "display_name": "Python 3",
   "language": "python",
   "name": "python3"
  },
  "language_info": {
   "codemirror_mode": {
    "name": "ipython",
    "version": 3
   },
   "file_extension": ".py",
   "mimetype": "text/x-python",
   "name": "python",
   "nbconvert_exporter": "python",
   "pygments_lexer": "ipython3",
   "version": "3.7.1"
  }
 },
 "nbformat": 4,
 "nbformat_minor": 2
}
