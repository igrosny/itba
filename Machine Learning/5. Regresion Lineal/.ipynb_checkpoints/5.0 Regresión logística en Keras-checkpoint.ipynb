{
 "cells": [
  {
   "cell_type": "markdown",
   "metadata": {},
   "source": [
    "# 5.0 Regresion Logisiticas en Keras"
   ]
  },
  {
   "cell_type": "code",
   "execution_count": 2,
   "metadata": {},
   "outputs": [],
   "source": [
    "#import os\n",
    "#os.environ[\"DISPLAY\"]=\"localhost:10.0\"\n",
    "%reload_ext autoreload\n",
    "%autoreload 2\n",
    "#%matplotlib qt\n",
    "import pandas as pd\n",
    "import helper\n",
    "from matplotlib import pyplot as plt"
   ]
  },
  {
   "cell_type": "code",
   "execution_count": 3,
   "metadata": {},
   "outputs": [
    {
     "data": {
      "text/html": [
       "<div>\n",
       "<style scoped>\n",
       "    .dataframe tbody tr th:only-of-type {\n",
       "        vertical-align: middle;\n",
       "    }\n",
       "\n",
       "    .dataframe tbody tr th {\n",
       "        vertical-align: top;\n",
       "    }\n",
       "\n",
       "    .dataframe thead th {\n",
       "        text-align: right;\n",
       "    }\n",
       "</style>\n",
       "<table border=\"1\" class=\"dataframe\">\n",
       "  <thead>\n",
       "    <tr style=\"text-align: right;\">\n",
       "      <th></th>\n",
       "      <th>Unnamed: 0</th>\n",
       "      <th>Genero</th>\n",
       "      <th>Peso</th>\n",
       "      <th>Altura</th>\n",
       "    </tr>\n",
       "  </thead>\n",
       "  <tbody>\n",
       "    <tr>\n",
       "      <th>0</th>\n",
       "      <td>7620</td>\n",
       "      <td>1</td>\n",
       "      <td>61.235</td>\n",
       "      <td>162.402</td>\n",
       "    </tr>\n",
       "    <tr>\n",
       "      <th>1</th>\n",
       "      <td>1837</td>\n",
       "      <td>0</td>\n",
       "      <td>97.432</td>\n",
       "      <td>181.908</td>\n",
       "    </tr>\n",
       "    <tr>\n",
       "      <th>2</th>\n",
       "      <td>3311</td>\n",
       "      <td>0</td>\n",
       "      <td>73.324</td>\n",
       "      <td>172.459</td>\n",
       "    </tr>\n",
       "    <tr>\n",
       "      <th>3</th>\n",
       "      <td>9478</td>\n",
       "      <td>1</td>\n",
       "      <td>55.193</td>\n",
       "      <td>157.748</td>\n",
       "    </tr>\n",
       "    <tr>\n",
       "      <th>4</th>\n",
       "      <td>7805</td>\n",
       "      <td>1</td>\n",
       "      <td>56.886</td>\n",
       "      <td>151.798</td>\n",
       "    </tr>\n",
       "  </tbody>\n",
       "</table>\n",
       "</div>"
      ],
      "text/plain": [
       "   Unnamed: 0  Genero    Peso   Altura\n",
       "0        7620       1  61.235  162.402\n",
       "1        1837       0  97.432  181.908\n",
       "2        3311       0  73.324  172.459\n",
       "3        9478       1  55.193  157.748\n",
       "4        7805       1  56.886  151.798"
      ]
     },
     "execution_count": 3,
     "metadata": {},
     "output_type": "execute_result"
    }
   ],
   "source": [
    "df = pd.read_csv('https://raw.githubusercontent.com/rn-2019-itba/Clase-4---LDA---QDA---RL---DT---RF/master/data/alturas-pesos-mils-train.csv')\n",
    "df[\"Genero\"] = (df[\"Genero\"] != \"Hombre\").astype(int)\n",
    "df.head() #Para visualizar las primeras 5 observaciones"
   ]
  },
  {
   "cell_type": "code",
   "execution_count": 4,
   "metadata": {},
   "outputs": [
    {
     "name": "stdout",
     "output_type": "stream",
     "text": [
      "[1 1]\n",
      "[1 1]\n",
      "[[0. 1.]\n",
      " [0. 1.]]\n",
      "0.8820895522388059\n",
      "0.8803030303030303\n"
     ]
    },
    {
     "name": "stderr",
     "output_type": "stream",
     "text": [
      "/Users/ivan/anaconda3/lib/python3.7/site-packages/sklearn/linear_model/stochastic_gradient.py:183: FutureWarning: max_iter and tol parameters have been added in SGDClassifier in 0.19. If max_iter is set but tol is left unset, the default value for tol in 0.19 and 0.20 will be None (which is equivalent to -infinity, so it has no effect) but will change in 0.21 to 1e-3. Specify tol to silence this warning.\n",
      "  FutureWarning)\n"
     ]
    },
    {
     "data": {
      "text/plain": [
       "array([[-7253.04291601,  2977.39348105]])"
      ]
     },
     "execution_count": 4,
     "metadata": {},
     "output_type": "execute_result"
    }
   ],
   "source": [
    "from sklearn.linear_model import SGDClassifier\n",
    "from sklearn.model_selection import train_test_split\n",
    "\n",
    "X = df[['Peso', 'Altura']].values\n",
    "y = df['Genero'].values\n",
    "\n",
    "X_train, X_test, y_train, y_test = train_test_split(X, y, test_size=0.33, random_state=42, shuffle=True)\n",
    "clf = SGDClassifier(loss='log', penalty=None, max_iter=10)\n",
    "clf.fit(X_train, y_train)\n",
    "\n",
    "print(clf.predict(X_train[:2, :]))\n",
    "print(y_train[:2])\n",
    "print(clf.predict_proba(X_train[:2, :]))\n",
    "print(clf.score(X_train, y_train))\n",
    "print(clf.score(X_test, y_test))\n",
    "clf.coef_"
   ]
  },
  {
   "cell_type": "markdown",
   "metadata": {},
   "source": [
    "# Regresión logística en Keras"
   ]
  },
  {
   "cell_type": "code",
   "execution_count": 6,
   "metadata": {},
   "outputs": [],
   "source": [
    "import numpy as np\n",
    "from keras.models import Sequential #Para poder definir un modelo secuencial\n",
    "from keras.layers import Dense, BatchNormalization #Para poder usar capas densas\n",
    "from keras.optimizers import SGD, Adam, rmsprop\n",
    "import matplotlib.animation as animation"
   ]
  },
  {
   "cell_type": "code",
   "execution_count": 7,
   "metadata": {},
   "outputs": [
    {
     "name": "stdout",
     "output_type": "stream",
     "text": [
      "WARNING:tensorflow:From /Users/ivan/anaconda3/lib/python3.7/site-packages/tensorflow/python/framework/op_def_library.py:263: colocate_with (from tensorflow.python.framework.ops) is deprecated and will be removed in a future version.\n",
      "Instructions for updating:\n",
      "Colocations handled automatically by placer.\n",
      "WARNING:tensorflow:From /Users/ivan/anaconda3/lib/python3.7/site-packages/tensorflow/python/ops/math_ops.py:3066: to_int32 (from tensorflow.python.ops.math_ops) is deprecated and will be removed in a future version.\n",
      "Instructions for updating:\n",
      "Use tf.cast instead.\n",
      "Train on 5360 samples, validate on 2640 samples\n",
      "Epoch 1/10\n",
      "5360/5360 [==============================] - 2s 286us/step - loss: 0.5863 - acc: 0.7746 - val_loss: 0.4950 - val_acc: 0.8792\n",
      "Epoch 2/10\n",
      "5360/5360 [==============================] - 1s 103us/step - loss: 0.4415 - acc: 0.8989 - val_loss: 0.3979 - val_acc: 0.8981\n",
      "Epoch 3/10\n",
      "5360/5360 [==============================] - 0s 86us/step - loss: 0.3676 - acc: 0.9082 - val_loss: 0.3416 - val_acc: 0.9072\n",
      "Epoch 4/10\n",
      "5360/5360 [==============================] - 0s 88us/step - loss: 0.3237 - acc: 0.9119 - val_loss: 0.3076 - val_acc: 0.9121\n",
      "Epoch 5/10\n",
      "5360/5360 [==============================] - 0s 79us/step - loss: 0.2960 - acc: 0.9166 - val_loss: 0.2859 - val_acc: 0.9114\n",
      "Epoch 6/10\n",
      "5360/5360 [==============================] - 0s 81us/step - loss: 0.2769 - acc: 0.9149 - val_loss: 0.2746 - val_acc: 0.9061\n",
      "Epoch 7/10\n",
      "5360/5360 [==============================] - 0s 80us/step - loss: 0.2651 - acc: 0.9119 - val_loss: 0.2670 - val_acc: 0.9045\n",
      "Epoch 8/10\n",
      "5360/5360 [==============================] - 0s 84us/step - loss: 0.2547 - acc: 0.9147 - val_loss: 0.2513 - val_acc: 0.9110\n",
      "Epoch 9/10\n",
      "5360/5360 [==============================] - 1s 94us/step - loss: 0.2459 - acc: 0.9155 - val_loss: 0.2450 - val_acc: 0.9121\n",
      "Epoch 10/10\n",
      "5360/5360 [==============================] - 0s 82us/step - loss: 0.2404 - acc: 0.9153 - val_loss: 0.2400 - val_acc: 0.9110\n"
     ]
    }
   ],
   "source": [
    "optimizer = 'adam'\n",
    "batch_size = 32\n",
    "epochs = 10\n",
    "\n",
    "model = Sequential() #Queda definido el modelo sequencial\n",
    "model.add(Dense(1, input_shape=(2,), activation='sigmoid', use_bias=True, kernel_initializer='zeros', bias_initializer='zeros'))\n",
    "model.compile(optimizer=optimizer, loss='binary_crossentropy', metrics=['accuracy'])\n",
    "\n",
    "history = model.fit(X_train, y_train, validation_data=[X_test, y_test],\n",
    "                  epochs=epochs, verbose=1, batch_size=batch_size, shuffle = True)    "
   ]
  },
  {
   "cell_type": "code",
   "execution_count": 8,
   "metadata": {},
   "outputs": [
    {
     "name": "stdout",
     "output_type": "stream",
     "text": [
      "5360/5360 [==============================] - 0s 21us/step\n"
     ]
    },
    {
     "data": {
      "text/plain": [
       "[0.23578662454192317, 0.9186567164179105]"
      ]
     },
     "execution_count": 8,
     "metadata": {},
     "output_type": "execute_result"
    }
   ],
   "source": [
    "model.evaluate(X_train, y_train)"
   ]
  },
  {
   "cell_type": "code",
   "execution_count": 9,
   "metadata": {},
   "outputs": [
    {
     "name": "stdout",
     "output_type": "stream",
     "text": [
      "2640/2640 [==============================] - 0s 23us/step\n"
     ]
    },
    {
     "data": {
      "text/plain": [
       "[0.24003874551166188, 0.9109848484848485]"
      ]
     },
     "execution_count": 9,
     "metadata": {},
     "output_type": "execute_result"
    }
   ],
   "source": [
    "model.evaluate(X_test, y_test)"
   ]
  },
  {
   "cell_type": "markdown",
   "metadata": {},
   "source": [
    "# Qué pasa si cambiamos la función de costo por el mse?"
   ]
  },
  {
   "cell_type": "code",
   "execution_count": 10,
   "metadata": {},
   "outputs": [
    {
     "name": "stdout",
     "output_type": "stream",
     "text": [
      "Train on 5360 samples, validate on 2640 samples\n",
      "Epoch 1/10\n",
      "5360/5360 [==============================] - 1s 146us/step - loss: 0.1993 - acc: 0.7694 - val_loss: 0.1572 - val_acc: 0.9015\n",
      "Epoch 2/10\n",
      "5360/5360 [==============================] - 0s 53us/step - loss: 0.1370 - acc: 0.9060 - val_loss: 0.1231 - val_acc: 0.8905\n",
      "Epoch 3/10\n",
      "5360/5360 [==============================] - 0s 58us/step - loss: 0.1109 - acc: 0.9110 - val_loss: 0.1026 - val_acc: 0.9114\n",
      "Epoch 4/10\n",
      "5360/5360 [==============================] - 0s 61us/step - loss: 0.0977 - acc: 0.9153 - val_loss: 0.0950 - val_acc: 0.9034\n",
      "Epoch 5/10\n",
      "5360/5360 [==============================] - 0s 60us/step - loss: 0.0899 - acc: 0.9149 - val_loss: 0.0864 - val_acc: 0.9106\n",
      "Epoch 6/10\n",
      "5360/5360 [==============================] - 0s 53us/step - loss: 0.0843 - acc: 0.9155 - val_loss: 0.0828 - val_acc: 0.9110\n",
      "Epoch 7/10\n",
      "5360/5360 [==============================] - 0s 54us/step - loss: 0.0813 - acc: 0.9164 - val_loss: 0.0797 - val_acc: 0.9080\n",
      "Epoch 8/10\n",
      "5360/5360 [==============================] - 0s 53us/step - loss: 0.0780 - acc: 0.9164 - val_loss: 0.0769 - val_acc: 0.9121\n",
      "Epoch 9/10\n",
      "5360/5360 [==============================] - 0s 63us/step - loss: 0.0760 - acc: 0.9140 - val_loss: 0.0766 - val_acc: 0.9072\n",
      "Epoch 10/10\n",
      "5360/5360 [==============================] - 0s 63us/step - loss: 0.0738 - acc: 0.9147 - val_loss: 0.0745 - val_acc: 0.9080\n"
     ]
    }
   ],
   "source": [
    "model = Sequential() #Queda definido el modelo sequencial\n",
    "model.add(Dense(1, input_shape=(2,), activation='sigmoid', use_bias=True, \n",
    "                kernel_initializer='zeros', bias_initializer='zeros'))\n",
    "model.compile(optimizer=optimizer, loss='mse', metrics=['accuracy'])\n",
    "\n",
    "history = model.fit(X_train, y_train, validation_data=[X_test,y_test],\n",
    "                  epochs=epochs, verbose=1, batch_size=batch_size,shuffle = True)    "
   ]
  }
 ],
 "metadata": {
  "kernelspec": {
   "display_name": "Python 3",
   "language": "python",
   "name": "python3"
  },
  "language_info": {
   "codemirror_mode": {
    "name": "ipython",
    "version": 3
   },
   "file_extension": ".py",
   "mimetype": "text/x-python",
   "name": "python",
   "nbconvert_exporter": "python",
   "pygments_lexer": "ipython3",
   "version": "3.7.1"
  }
 },
 "nbformat": 4,
 "nbformat_minor": 2
}
