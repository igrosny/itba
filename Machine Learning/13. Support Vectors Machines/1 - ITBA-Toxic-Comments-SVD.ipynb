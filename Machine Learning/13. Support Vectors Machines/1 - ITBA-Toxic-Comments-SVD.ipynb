{
 "cells": [
  {
   "cell_type": "code",
   "execution_count": 1,
   "metadata": {
    "_cell_guid": "b1076dfc-b9ad-4769-8c92-a6c4dae69d19",
    "_uuid": "8f2839f25d086af736a60e9eeb907d3b93b6e0e5"
   },
   "outputs": [
    {
     "name": "stdout",
     "output_type": "stream",
     "text": [
      "['.DS_Store', 'test_post_competition.csv', 'test_labels.csv', 'test.csv', 'train.csv', 'train_post_competition.csv', 'sample_submission.csv']\n"
     ]
    }
   ],
   "source": [
    "# This Python 3 environment comes with many helpful analytics libraries installed\n",
    "# It is defined by the kaggle/python docker image: https://github.com/kaggle/docker-python\n",
    "# For example, here's several helpful packages to load in \n",
    "\n",
    "import numpy as np # linear algebra\n",
    "import pandas as pd # data processing, CSV file I/O (e.g. pd.read_csv)\n",
    "from sklearn.model_selection import train_test_split\n",
    "\n",
    "# Input data files are available in the \"../input/\" directory.\n",
    "# For example, running this (by clicking run or pressing Shift+Enter) will list the files in the input directory\n",
    "\n",
    "import os\n",
    "print(os.listdir(\"./data/\"))\n",
    "\n",
    "# Any results you write to the current directory are saved as output."
   ]
  },
  {
   "cell_type": "markdown",
   "metadata": {},
   "source": [
    "# Análisis de un problema multilabel\n",
    "\n",
    "Competencia original:\n",
    "\n",
    "https://www.kaggle.com/c/jigsaw-toxic-comment-classification-challenge"
   ]
  },
  {
   "cell_type": "markdown",
   "metadata": {},
   "source": [
    "# EDA (Exploratory Data Analysis)"
   ]
  },
  {
   "cell_type": "code",
   "execution_count": 4,
   "metadata": {
    "_cell_guid": "79c7e3d0-c299-4dcb-8224-4455121ee9b0",
    "_uuid": "d629ff2d2480ee46fbb7e2d37f6b5fab8052498a"
   },
   "outputs": [],
   "source": [
    "folder = './data/'"
   ]
  },
  {
   "cell_type": "code",
   "execution_count": 5,
   "metadata": {},
   "outputs": [],
   "source": [
    "train = pd.read_csv(folder + \"train.csv\")\n",
    "test = pd.read_csv(folder + \"test.csv\")\n",
    "test_labels = pd.read_csv(folder + \"test_labels.csv\")\n",
    "submission = pd.read_csv(folder + \"sample_submission.csv\")"
   ]
  },
  {
   "cell_type": "code",
   "execution_count": 4,
   "metadata": {},
   "outputs": [
    {
     "data": {
      "text/html": [
       "<div>\n",
       "<style scoped>\n",
       "    .dataframe tbody tr th:only-of-type {\n",
       "        vertical-align: middle;\n",
       "    }\n",
       "\n",
       "    .dataframe tbody tr th {\n",
       "        vertical-align: top;\n",
       "    }\n",
       "\n",
       "    .dataframe thead th {\n",
       "        text-align: right;\n",
       "    }\n",
       "</style>\n",
       "<table border=\"1\" class=\"dataframe\">\n",
       "  <thead>\n",
       "    <tr style=\"text-align: right;\">\n",
       "      <th></th>\n",
       "      <th>id</th>\n",
       "      <th>comment_text</th>\n",
       "      <th>toxic</th>\n",
       "      <th>severe_toxic</th>\n",
       "      <th>obscene</th>\n",
       "      <th>threat</th>\n",
       "      <th>insult</th>\n",
       "      <th>identity_hate</th>\n",
       "    </tr>\n",
       "  </thead>\n",
       "  <tbody>\n",
       "    <tr>\n",
       "      <th>0</th>\n",
       "      <td>0000997932d777bf</td>\n",
       "      <td>Explanation\\nWhy the edits made under my usern...</td>\n",
       "      <td>0</td>\n",
       "      <td>0</td>\n",
       "      <td>0</td>\n",
       "      <td>0</td>\n",
       "      <td>0</td>\n",
       "      <td>0</td>\n",
       "    </tr>\n",
       "    <tr>\n",
       "      <th>1</th>\n",
       "      <td>000103f0d9cfb60f</td>\n",
       "      <td>D'aww! He matches this background colour I'm s...</td>\n",
       "      <td>0</td>\n",
       "      <td>0</td>\n",
       "      <td>0</td>\n",
       "      <td>0</td>\n",
       "      <td>0</td>\n",
       "      <td>0</td>\n",
       "    </tr>\n",
       "    <tr>\n",
       "      <th>2</th>\n",
       "      <td>000113f07ec002fd</td>\n",
       "      <td>Hey man, I'm really not trying to edit war. It...</td>\n",
       "      <td>0</td>\n",
       "      <td>0</td>\n",
       "      <td>0</td>\n",
       "      <td>0</td>\n",
       "      <td>0</td>\n",
       "      <td>0</td>\n",
       "    </tr>\n",
       "    <tr>\n",
       "      <th>3</th>\n",
       "      <td>0001b41b1c6bb37e</td>\n",
       "      <td>\"\\nMore\\nI can't make any real suggestions on ...</td>\n",
       "      <td>0</td>\n",
       "      <td>0</td>\n",
       "      <td>0</td>\n",
       "      <td>0</td>\n",
       "      <td>0</td>\n",
       "      <td>0</td>\n",
       "    </tr>\n",
       "    <tr>\n",
       "      <th>4</th>\n",
       "      <td>0001d958c54c6e35</td>\n",
       "      <td>You, sir, are my hero. Any chance you remember...</td>\n",
       "      <td>0</td>\n",
       "      <td>0</td>\n",
       "      <td>0</td>\n",
       "      <td>0</td>\n",
       "      <td>0</td>\n",
       "      <td>0</td>\n",
       "    </tr>\n",
       "    <tr>\n",
       "      <th>5</th>\n",
       "      <td>00025465d4725e87</td>\n",
       "      <td>\"\\n\\nCongratulations from me as well, use the ...</td>\n",
       "      <td>0</td>\n",
       "      <td>0</td>\n",
       "      <td>0</td>\n",
       "      <td>0</td>\n",
       "      <td>0</td>\n",
       "      <td>0</td>\n",
       "    </tr>\n",
       "    <tr>\n",
       "      <th>6</th>\n",
       "      <td>0002bcb3da6cb337</td>\n",
       "      <td>COCKSUCKER BEFORE YOU PISS AROUND ON MY WORK</td>\n",
       "      <td>1</td>\n",
       "      <td>1</td>\n",
       "      <td>1</td>\n",
       "      <td>0</td>\n",
       "      <td>1</td>\n",
       "      <td>0</td>\n",
       "    </tr>\n",
       "    <tr>\n",
       "      <th>7</th>\n",
       "      <td>00031b1e95af7921</td>\n",
       "      <td>Your vandalism to the Matt Shirvington article...</td>\n",
       "      <td>0</td>\n",
       "      <td>0</td>\n",
       "      <td>0</td>\n",
       "      <td>0</td>\n",
       "      <td>0</td>\n",
       "      <td>0</td>\n",
       "    </tr>\n",
       "    <tr>\n",
       "      <th>8</th>\n",
       "      <td>00037261f536c51d</td>\n",
       "      <td>Sorry if the word 'nonsense' was offensive to ...</td>\n",
       "      <td>0</td>\n",
       "      <td>0</td>\n",
       "      <td>0</td>\n",
       "      <td>0</td>\n",
       "      <td>0</td>\n",
       "      <td>0</td>\n",
       "    </tr>\n",
       "    <tr>\n",
       "      <th>9</th>\n",
       "      <td>00040093b2687caa</td>\n",
       "      <td>alignment on this subject and which are contra...</td>\n",
       "      <td>0</td>\n",
       "      <td>0</td>\n",
       "      <td>0</td>\n",
       "      <td>0</td>\n",
       "      <td>0</td>\n",
       "      <td>0</td>\n",
       "    </tr>\n",
       "  </tbody>\n",
       "</table>\n",
       "</div>"
      ],
      "text/plain": [
       "                 id                                       comment_text  toxic  \\\n",
       "0  0000997932d777bf  Explanation\\nWhy the edits made under my usern...      0   \n",
       "1  000103f0d9cfb60f  D'aww! He matches this background colour I'm s...      0   \n",
       "2  000113f07ec002fd  Hey man, I'm really not trying to edit war. It...      0   \n",
       "3  0001b41b1c6bb37e  \"\\nMore\\nI can't make any real suggestions on ...      0   \n",
       "4  0001d958c54c6e35  You, sir, are my hero. Any chance you remember...      0   \n",
       "5  00025465d4725e87  \"\\n\\nCongratulations from me as well, use the ...      0   \n",
       "6  0002bcb3da6cb337       COCKSUCKER BEFORE YOU PISS AROUND ON MY WORK      1   \n",
       "7  00031b1e95af7921  Your vandalism to the Matt Shirvington article...      0   \n",
       "8  00037261f536c51d  Sorry if the word 'nonsense' was offensive to ...      0   \n",
       "9  00040093b2687caa  alignment on this subject and which are contra...      0   \n",
       "\n",
       "   severe_toxic  obscene  threat  insult  identity_hate  \n",
       "0             0        0       0       0              0  \n",
       "1             0        0       0       0              0  \n",
       "2             0        0       0       0              0  \n",
       "3             0        0       0       0              0  \n",
       "4             0        0       0       0              0  \n",
       "5             0        0       0       0              0  \n",
       "6             1        1       0       1              0  \n",
       "7             0        0       0       0              0  \n",
       "8             0        0       0       0              0  \n",
       "9             0        0       0       0              0  "
      ]
     },
     "execution_count": 4,
     "metadata": {},
     "output_type": "execute_result"
    }
   ],
   "source": [
    "train.head(10)"
   ]
  },
  {
   "cell_type": "code",
   "execution_count": 6,
   "metadata": {},
   "outputs": [
    {
     "data": {
      "text/plain": [
       "(159571, 8)"
      ]
     },
     "execution_count": 6,
     "metadata": {},
     "output_type": "execute_result"
    }
   ],
   "source": [
    "# Cantidad de observaciones\n",
    "train.shape"
   ]
  },
  {
   "cell_type": "markdown",
   "metadata": {},
   "source": [
    "## Defino salida del modelo $y$"
   ]
  },
  {
   "cell_type": "code",
   "execution_count": 7,
   "metadata": {},
   "outputs": [
    {
     "name": "stdout",
     "output_type": "stream",
     "text": [
      "(159571, 6)\n",
      "[[0 0 0 0 0 0]\n",
      " [0 0 0 0 0 0]\n",
      " [0 0 0 0 0 0]\n",
      " [0 0 0 0 0 0]\n",
      " [0 0 0 0 0 0]\n",
      " [0 0 0 0 0 0]\n",
      " [1 1 1 0 1 0]\n",
      " [0 0 0 0 0 0]\n",
      " [0 0 0 0 0 0]\n",
      " [0 0 0 0 0 0]]\n"
     ]
    }
   ],
   "source": [
    "# Defino y (Salida del modelo)\n",
    "list_classes = [\"toxic\", \"severe_toxic\", \"obscene\", \"threat\", \"insult\", \"identity_hate\"]\n",
    "y = train[list_classes].values\n",
    "\n",
    "print(y.shape)\n",
    "print(y[:10])"
   ]
  },
  {
   "cell_type": "code",
   "execution_count": 8,
   "metadata": {},
   "outputs": [
    {
     "name": "stdout",
     "output_type": "stream",
     "text": [
      "Porcentaje de comentarios toxicos: 0.10167887648758234\n"
     ]
    }
   ],
   "source": [
    "# Dataset muy desbalanceado\n",
    "toxic_ratio = (y.sum(axis = 1) > 0).sum() / y.shape[0]\n",
    "print('Porcentaje de comentarios toxicos:', toxic_ratio)"
   ]
  },
  {
   "cell_type": "code",
   "execution_count": 9,
   "metadata": {},
   "outputs": [
    {
     "name": "stdout",
     "output_type": "stream",
     "text": [
      "toxic            15294\n",
      "severe_toxic      1595\n",
      "obscene           8449\n",
      "threat             478\n",
      "insult            7877\n",
      "identity_hate     1405\n",
      "dtype: int64\n"
     ]
    }
   ],
   "source": [
    "# La mayoría son toxic\n",
    "print(train[list_classes].sum())"
   ]
  },
  {
   "cell_type": "code",
   "execution_count": 10,
   "metadata": {},
   "outputs": [
    {
     "name": "stdout",
     "output_type": "stream",
     "text": [
      "toxic            0.095844\n",
      "severe_toxic     0.009996\n",
      "obscene          0.052948\n",
      "threat           0.002996\n",
      "insult           0.049364\n",
      "identity_hate    0.008805\n",
      "dtype: float64\n"
     ]
    }
   ],
   "source": [
    "# Normalizo\n",
    "print(train[list_classes].sum() / y.shape[0])"
   ]
  },
  {
   "cell_type": "code",
   "execution_count": 11,
   "metadata": {},
   "outputs": [
    {
     "name": "stdout",
     "output_type": "stream",
     "text": [
      "Es severe_toxic pero no es toxic: 0\n",
      "Es obscene pero no es toxic: 523\n",
      "Es threat pero no es toxic: 29\n",
      "Es insult pero no es toxic: 533\n",
      "Es identity_hate pero no es toxic: 103\n"
     ]
    }
   ],
   "source": [
    "# Superposición entre las clases (Multilabel)\n",
    "for cl in list_classes[1:]:\n",
    "    N = ((train['toxic'] == 0) & (train[cl] == 1)).sum()\n",
    "    print(f'Es {cl} pero no es toxic:', N)"
   ]
  },
  {
   "cell_type": "markdown",
   "metadata": {},
   "source": [
    "Se puede ver aca por ejemplo que si es severe_toxic es si o si toxic, pero que insulto puede no ser tóxico por ejemplo"
   ]
  },
  {
   "cell_type": "code",
   "execution_count": 12,
   "metadata": {},
   "outputs": [
    {
     "data": {
      "text/plain": [
       "0.9633412921729722"
      ]
     },
     "execution_count": 12,
     "metadata": {},
     "output_type": "execute_result"
    }
   ],
   "source": [
    "# Baseline (Suponer que siempre elijo zeros (No toxico))\n",
    "1 - (train[list_classes].sum().values / len(train)).mean()"
   ]
  },
  {
   "cell_type": "code",
   "execution_count": 13,
   "metadata": {},
   "outputs": [
    {
     "data": {
      "text/plain": [
       "0.9633412921729722"
      ]
     },
     "execution_count": 13,
     "metadata": {},
     "output_type": "execute_result"
    }
   ],
   "source": [
    "((y == np.zeros_like(y)).sum(axis=0) / len(y)).mean()"
   ]
  },
  {
   "cell_type": "code",
   "execution_count": 14,
   "metadata": {},
   "outputs": [
    {
     "data": {
      "text/plain": [
       "array([0.09584448, 0.00999555, 0.05294822, 0.00299553, 0.04936361,\n",
       "       0.00880486])"
      ]
     },
     "execution_count": 14,
     "metadata": {},
     "output_type": "execute_result"
    }
   ],
   "source": [
    "train[list_classes].sum().values / len(train)"
   ]
  },
  {
   "cell_type": "markdown",
   "metadata": {},
   "source": [
    "# Divido entre train y valid"
   ]
  },
  {
   "cell_type": "code",
   "execution_count": 15,
   "metadata": {},
   "outputs": [
    {
     "name": "stdout",
     "output_type": "stream",
     "text": [
      "(143613,) (15958,)\n",
      "(143613, 6) (15958, 6)\n"
     ]
    }
   ],
   "source": [
    "X_train, X_valid, Y_train, Y_valid = train_test_split(train['comment_text'], y, test_size = 0.1)\n",
    "\n",
    "print(X_train.shape, X_valid.shape)\n",
    "print(Y_train.shape, Y_valid.shape)"
   ]
  },
  {
   "cell_type": "markdown",
   "metadata": {},
   "source": [
    "# Armo TFIDF\n",
    "\n",
    "Term Frequency Inverse Document Frequency"
   ]
  },
  {
   "cell_type": "code",
   "execution_count": 16,
   "metadata": {},
   "outputs": [
    {
     "data": {
      "text/plain": [
       "148723    If you want to file a report go ahead, just be...\n",
       "12965     All new Wiki members have a right to edit==\\n\\...\n",
       "92535     I don't recall claiming anyone was a bully? Th...\n",
       "66305               I hate you. U are a homosapian. Breasts\n",
       "6609      WCS \\n\\nThose things are painful. They take a ...\n",
       "45733     ObRoy, I believe you don't understand english....\n",
       "148033    Adamslinger, firstly I suggest you go back and...\n",
       "111909    \"\\n\\nHello! Please leave me new messages at th...\n",
       "70479     \"I would certainly suggest that the wording be...\n",
       "112574    Image \\n\\nAdded image of map, it would be real...\n",
       "Name: comment_text, dtype: object"
      ]
     },
     "execution_count": 16,
     "metadata": {},
     "output_type": "execute_result"
    }
   ],
   "source": [
    "X_train[:10]"
   ]
  },
  {
   "cell_type": "code",
   "execution_count": 17,
   "metadata": {},
   "outputs": [],
   "source": [
    "raw_text_train = X_train.apply(str.lower)\n",
    "raw_text_valid = X_valid.apply(str.lower)\n",
    "raw_text_test = test[\"comment_text\"].apply(str.lower)"
   ]
  },
  {
   "cell_type": "code",
   "execution_count": 18,
   "metadata": {},
   "outputs": [
    {
     "name": "stdout",
     "output_type": "stream",
     "text": [
      "148723    if you want to file a report go ahead, just be...\n",
      "12965     all new wiki members have a right to edit==\\n\\...\n",
      "92535     i don't recall claiming anyone was a bully? th...\n",
      "66305               i hate you. u are a homosapian. breasts\n",
      "6609      wcs \\n\\nthose things are painful. they take a ...\n",
      "45733     obroy, i believe you don't understand english....\n",
      "148033    adamslinger, firstly i suggest you go back and...\n",
      "111909    \"\\n\\nhello! please leave me new messages at th...\n",
      "70479     \"i would certainly suggest that the wording be...\n",
      "112574    image \\n\\nadded image of map, it would be real...\n",
      "Name: comment_text, dtype: object\n"
     ]
    }
   ],
   "source": [
    "print(raw_text_train[:10]) # Recordar que train_test_split hace shuffle "
   ]
  },
  {
   "cell_type": "code",
   "execution_count": 19,
   "metadata": {},
   "outputs": [
    {
     "name": "stdout",
     "output_type": "stream",
     "text": [
      "CPU times: user 8.09 s, sys: 176 ms, total: 8.26 s\n",
      "Wall time: 8.32 s\n"
     ]
    }
   ],
   "source": [
    "from sklearn.feature_extraction.text import TfidfVectorizer, CountVectorizer\n",
    "\n",
    "max_features = 100000\n",
    "\n",
    "tfidf_vectorizer = TfidfVectorizer(max_df=0.11, min_df=1,\n",
    "                                   max_features=max_features,\n",
    "                                   stop_words='english')\n",
    "\n",
    "%time tfidf_matrix_train = tfidf_vectorizer.fit_transform(raw_text_train)"
   ]
  },
  {
   "cell_type": "code",
   "execution_count": 20,
   "metadata": {},
   "outputs": [
    {
     "name": "stdout",
     "output_type": "stream",
     "text": [
      "CPU times: user 852 ms, sys: 11.9 ms, total: 864 ms\n",
      "Wall time: 864 ms\n"
     ]
    }
   ],
   "source": [
    "%time tfidf_matrix_valid = tfidf_vectorizer.transform(raw_text_valid)"
   ]
  },
  {
   "cell_type": "code",
   "execution_count": 21,
   "metadata": {},
   "outputs": [
    {
     "name": "stdout",
     "output_type": "stream",
     "text": [
      "CPU times: user 7.67 s, sys: 146 ms, total: 7.81 s\n",
      "Wall time: 7.83 s\n"
     ]
    }
   ],
   "source": [
    "count_vectorizer = CountVectorizer(max_df=0.11, min_df=1,\n",
    "                                   max_features=max_features,\n",
    "                                   stop_words='english')\n",
    "\n",
    "%time count_matrix_train = count_vectorizer.fit_transform(raw_text_train)"
   ]
  },
  {
   "cell_type": "code",
   "execution_count": 22,
   "metadata": {},
   "outputs": [
    {
     "data": {
      "text/plain": [
       "((143613, 100000), (143613, 100000))"
      ]
     },
     "execution_count": 22,
     "metadata": {},
     "output_type": "execute_result"
    }
   ],
   "source": [
    "tfidf_matrix_train.shape, count_matrix_train.shape"
   ]
  },
  {
   "cell_type": "markdown",
   "metadata": {},
   "source": [
    "# Sparsity"
   ]
  },
  {
   "cell_type": "code",
   "execution_count": 23,
   "metadata": {},
   "outputs": [
    {
     "name": "stdout",
     "output_type": "stream",
     "text": [
      "0.9997615839791663\n"
     ]
    }
   ],
   "source": [
    "sparsity = 1 - (tfidf_matrix_train > 0).sum() / (tfidf_matrix_train.shape[0] * tfidf_matrix_train.shape[1])\n",
    "print(sparsity)"
   ]
  },
  {
   "cell_type": "markdown",
   "metadata": {},
   "source": [
    "# Resultados TFIDF"
   ]
  },
  {
   "cell_type": "code",
   "execution_count": 25,
   "metadata": {},
   "outputs": [
    {
     "name": "stdout",
     "output_type": "stream",
     "text": [
      "['thanks' 'edit' 'think' 'know' 'did' 'user' 'people' 'articles' 'use'\n",
      " 'thank']\n"
     ]
    }
   ],
   "source": [
    "top_10 = np.argsort(tfidf_matrix_train.sum(axis=0))[0, ::-1][0, :10].tolist()[0]\n",
    "feature_names = np.array(tfidf_vectorizer.get_feature_names())\n",
    "\n",
    "print(feature_names[np.array(top_10)])"
   ]
  },
  {
   "cell_type": "code",
   "execution_count": 26,
   "metadata": {},
   "outputs": [
    {
     "name": "stdout",
     "output_type": "stream",
     "text": [
      "['think' 'know' 'people' 'edit' 'articles' 'use' 'time' 'did' 'user'\n",
      " 'thanks']\n"
     ]
    }
   ],
   "source": [
    "top_10_count = np.argsort(count_matrix_train.sum(axis=0))[0, ::-1][0, :10].tolist()[0]\n",
    "feature_names_count = np.array(count_vectorizer.get_feature_names())\n",
    "\n",
    "print(feature_names_count[np.array(top_10_count)])"
   ]
  },
  {
   "cell_type": "markdown",
   "metadata": {},
   "source": [
    "# PCA?..."
   ]
  },
  {
   "cell_type": "code",
   "execution_count": 30,
   "metadata": {},
   "outputs": [
    {
     "data": {
      "text/plain": [
       "TruncatedSVD(algorithm='randomized', n_components=100, n_iter=5,\n",
       "       random_state=None, tol=0.0)"
      ]
     },
     "execution_count": 30,
     "metadata": {},
     "output_type": "execute_result"
    }
   ],
   "source": [
    "from sklearn.decomposition import TruncatedSVD\n",
    "# tf_idf_train_PCA\n",
    "# tf_idf_valid_PCA\n",
    "# tener los datos centrado alrededor de cero es lo mas util\n",
    "\n",
    "trf = TruncatedSVD(100)\n",
    "trf.fit(tfidf_matrix_train)"
   ]
  },
  {
   "cell_type": "code",
   "execution_count": 33,
   "metadata": {},
   "outputs": [
    {
     "data": {
      "image/png": "[encoded data removed]",
      "text/plain": [
       "<Figure size 432x288 with 1 Axes>"
      ]
     },
     "metadata": {
      "needs_background": "light"
     },
     "output_type": "display_data"
    }
   ],
   "source": [
    "from matplotlib import pyplot as plt\n",
    "trf.singular_values_\n",
    "plt.plot(trf.singular_values_)\n",
    "plt.show()"
   ]
  },
  {
   "cell_type": "code",
   "execution_count": 32,
   "metadata": {},
   "outputs": [],
   "source": [
    "tf_idf_train_svd=trf.transform(tfidf_matrix_train)\n",
    "tf_idf_valid_svd=trf.transform(tfidf_matrix_valid)"
   ]
  },
  {
   "cell_type": "markdown",
   "metadata": {},
   "source": [
    "# Creación del modelo"
   ]
  },
  {
   "cell_type": "code",
   "execution_count": 27,
   "metadata": {},
   "outputs": [
    {
     "name": "stderr",
     "output_type": "stream",
     "text": [
      "Using TensorFlow backend.\n"
     ]
    }
   ],
   "source": [
    "from keras.models import Sequential\n",
    "from keras.layers import Dense\n",
    "from keras import initializers"
   ]
  },
  {
   "cell_type": "code",
   "execution_count": 34,
   "metadata": {},
   "outputs": [
    {
     "name": "stdout",
     "output_type": "stream",
     "text": [
      "WARNING:tensorflow:From /Users/ivan/anaconda3/lib/python3.7/site-packages/tensorflow/python/framework/op_def_library.py:263: colocate_with (from tensorflow.python.framework.ops) is deprecated and will be removed in a future version.\n",
      "Instructions for updating:\n",
      "Colocations handled automatically by placer.\n",
      "_________________________________________________________________\n",
      "Layer (type)                 Output Shape              Param #   \n",
      "=================================================================\n",
      "dense_1 (Dense)              (None, 6)                 606       \n",
      "=================================================================\n",
      "Total params: 606\n",
      "Trainable params: 606\n",
      "Non-trainable params: 0\n",
      "_________________________________________________________________\n"
     ]
    }
   ],
   "source": [
    "input_features = tf_idf_train_svd.shape[1]\n",
    "output_size = Y_train.shape[1]\n",
    "\n",
    "model_rl = Sequential()\n",
    "model_rl.add(Dense(output_size, input_dim=input_features, activation='sigmoid', \n",
    "                   kernel_initializer=initializers.normal(mean=0, stddev=0.001)))\n",
    "model_rl.summary()\n",
    "model_rl.compile('Adam', loss='binary_crossentropy', metrics=['accuracy'])"
   ]
  },
  {
   "cell_type": "code",
   "execution_count": null,
   "metadata": {},
   "outputs": [],
   "source": [
    "model_rl.evaluate(tf_idf_valid_svd, Y_valid)"
   ]
  },
  {
   "cell_type": "code",
   "execution_count": 29,
   "metadata": {},
   "outputs": [
    {
     "name": "stdout",
     "output_type": "stream",
     "text": [
      "Train on 143613 samples, validate on 15958 samples\n",
      "Epoch 1/20\n",
      "143613/143613 [==============================] - 4s 31us/step - loss: 0.4803 - acc: 0.9628 - val_loss: 0.3300 - val_acc: 0.9638\n",
      "Epoch 2/20\n",
      "143613/143613 [==============================] - 4s 30us/step - loss: 0.2586 - acc: 0.9634 - val_loss: 0.2043 - val_acc: 0.9640\n",
      "Epoch 3/20\n",
      "143613/143613 [==============================] - 4s 30us/step - loss: 0.1777 - acc: 0.9636 - val_loss: 0.1541 - val_acc: 0.9644\n",
      "Epoch 4/20\n",
      "143613/143613 [==============================] - 4s 30us/step - loss: 0.1430 - acc: 0.9641 - val_loss: 0.1304 - val_acc: 0.9649\n",
      "Epoch 5/20\n",
      "143613/143613 [==============================] - 4s 30us/step - loss: 0.1256 - acc: 0.9648 - val_loss: 0.1174 - val_acc: 0.9658\n",
      "Epoch 6/20\n",
      "143613/143613 [==============================] - 4s 30us/step - loss: 0.1155 - acc: 0.9656 - val_loss: 0.1093 - val_acc: 0.9667\n",
      "Epoch 7/20\n",
      "143613/143613 [==============================] - 4s 31us/step - loss: 0.1090 - acc: 0.9665 - val_loss: 0.1038 - val_acc: 0.9678\n",
      "Epoch 8/20\n",
      "143613/143613 [==============================] - 4s 30us/step - loss: 0.1043 - acc: 0.9674 - val_loss: 0.0998 - val_acc: 0.9688\n",
      "Epoch 9/20\n",
      "143613/143613 [==============================] - 4s 30us/step - loss: 0.1008 - acc: 0.9682 - val_loss: 0.0966 - val_acc: 0.9694\n",
      "Epoch 10/20\n",
      "143613/143613 [==============================] - 4s 30us/step - loss: 0.0980 - acc: 0.9689 - val_loss: 0.0941 - val_acc: 0.9704\n",
      "Epoch 11/20\n",
      "143613/143613 [==============================] - 4s 30us/step - loss: 0.0956 - acc: 0.9697 - val_loss: 0.0919 - val_acc: 0.9710\n",
      "Epoch 12/20\n",
      "143613/143613 [==============================] - 4s 30us/step - loss: 0.0935 - acc: 0.9703 - val_loss: 0.0900 - val_acc: 0.9714\n",
      "Epoch 13/20\n",
      "143613/143613 [==============================] - 4s 30us/step - loss: 0.0917 - acc: 0.9708 - val_loss: 0.0884 - val_acc: 0.9720\n",
      "Epoch 14/20\n",
      "143613/143613 [==============================] - 4s 30us/step - loss: 0.0902 - acc: 0.9713 - val_loss: 0.0869 - val_acc: 0.9723\n",
      "Epoch 15/20\n",
      "143613/143613 [==============================] - 4s 30us/step - loss: 0.0888 - acc: 0.9717 - val_loss: 0.0856 - val_acc: 0.9727\n",
      "Epoch 16/20\n",
      "143613/143613 [==============================] - 4s 30us/step - loss: 0.0875 - acc: 0.9722 - val_loss: 0.0845 - val_acc: 0.9732\n",
      "Epoch 17/20\n",
      "143613/143613 [==============================] - 5s 36us/step - loss: 0.0864 - acc: 0.9725 - val_loss: 0.0835 - val_acc: 0.9735\n",
      "Epoch 18/20\n",
      "143613/143613 [==============================] - 5s 32us/step - loss: 0.0854 - acc: 0.9728 - val_loss: 0.0826 - val_acc: 0.9739\n",
      "Epoch 19/20\n",
      "143613/143613 [==============================] - 5s 32us/step - loss: 0.0845 - acc: 0.9732 - val_loss: 0.0817 - val_acc: 0.9742\n",
      "Epoch 20/20\n",
      "143613/143613 [==============================] - 4s 31us/step - loss: 0.0837 - acc: 0.9735 - val_loss: 0.0810 - val_acc: 0.9743\n"
     ]
    },
    {
     "data": {
      "text/plain": [
       "<keras.callbacks.History at 0x7f87dae1a4e0>"
      ]
     },
     "execution_count": 29,
     "metadata": {},
     "output_type": "execute_result"
    }
   ],
   "source": [
    "batch_size = 128\n",
    "epochs = 20\n",
    "model_rl.fit(tf_idf_train_svd, \n",
    "          Y_train, \n",
    "          batch_size = batch_size,\n",
    "          epochs=epochs, \n",
    "          verbose=1, \n",
    "          validation_data=(tf_idf_valid_svd, Y_valid))"
   ]
  },
  {
   "cell_type": "markdown",
   "metadata": {},
   "source": [
    "# MLP"
   ]
  },
  {
   "cell_type": "code",
   "execution_count": 30,
   "metadata": {},
   "outputs": [],
   "source": [
    "from keras import regularizers\n",
    "from keras import initializers\n",
    "from keras.layers import Activation\n",
    "from keras import optimizers"
   ]
  },
  {
   "cell_type": "code",
   "execution_count": 31,
   "metadata": {},
   "outputs": [],
   "source": [
    "default_initializer = initializers.normal(mean=0, stddev=0.01)\n"
   ]
  },
  {
   "cell_type": "code",
   "execution_count": 32,
   "metadata": {},
   "outputs": [
    {
     "name": "stdout",
     "output_type": "stream",
     "text": [
      "_________________________________________________________________\n",
      "Layer (type)                 Output Shape              Param #   \n",
      "=================================================================\n",
      "Capa_Oculta_1 (Dense)        (None, 200)               20200     \n",
      "_________________________________________________________________\n",
      "activation_1 (Activation)    (None, 200)               0         \n",
      "_________________________________________________________________\n",
      "Capa_Oculta_2 (Dense)        (None, 200)               40200     \n",
      "_________________________________________________________________\n",
      "activation_2 (Activation)    (None, 200)               0         \n",
      "_________________________________________________________________\n",
      "Capa_Salida (Dense)          (None, 6)                 1206      \n",
      "_________________________________________________________________\n",
      "output (Activation)          (None, 6)                 0         \n",
      "=================================================================\n",
      "Total params: 61,606\n",
      "Trainable params: 61,606\n",
      "Non-trainable params: 0\n",
      "_________________________________________________________________\n"
     ]
    }
   ],
   "source": [
    "input_features = tf_idf_train_svd.shape[1]\n",
    "output_size = Y_train.shape[1]\n",
    "hidden_units = 100\n",
    "lambd = 0 #0.001\n",
    "model_sig_nn = Sequential()\n",
    "model_sig_nn.add(Dense(200,\n",
    "                       input_dim=input_features, \n",
    "                       kernel_regularizer=regularizers.l2(lambd), \n",
    "                       kernel_initializer=default_initializer,\n",
    "                       name=\"Capa_Oculta_1\"))\n",
    "model_sig_nn.add(Activation('sigmoid'))\n",
    "model_sig_nn.add(Dense(200,\n",
    "                       input_dim=input_features, \n",
    "                       kernel_regularizer=regularizers.l2(lambd), \n",
    "                       kernel_initializer=default_initializer,\n",
    "                       name=\"Capa_Oculta_2\"))\n",
    "model_sig_nn.add(Activation('sigmoid'))\n",
    "model_sig_nn.add(Dense(output_size,\n",
    "                       kernel_regularizer=regularizers.l2(lambd), \n",
    "                       kernel_initializer=default_initializer,\n",
    "                       name=\"Capa_Salida\"))\n",
    "model_sig_nn.add(Activation('sigmoid', name=\"output\")) \n",
    "model_sig_nn.summary()\n",
    "\n",
    "\n",
    "lr = 0.001 \n",
    "batch_size = 256\n",
    "epochs = 10\n",
    "\n",
    "#selectedOptimizer = optimizers.SGD(lr=lr)\n",
    "selectedOptimizer = optimizers.adam(lr=lr, decay=0.001)\n",
    "\n",
    "model_sig_nn.compile(loss = 'binary_crossentropy', optimizer=selectedOptimizer, \n",
    "                     metrics=['accuracy']) #auc"
   ]
  },
  {
   "cell_type": "code",
   "execution_count": 33,
   "metadata": {},
   "outputs": [
    {
     "name": "stdout",
     "output_type": "stream",
     "text": [
      "15958/15958 [==============================] - 1s 56us/step\n"
     ]
    },
    {
     "data": {
      "text/plain": [
       "[0.700642003019825, 0.36549066763680776]"
      ]
     },
     "execution_count": 33,
     "metadata": {},
     "output_type": "execute_result"
    }
   ],
   "source": [
    "model_sig_nn.evaluate(tf_idf_valid_svd, Y_valid)"
   ]
  },
  {
   "cell_type": "code",
   "execution_count": 36,
   "metadata": {},
   "outputs": [
    {
     "name": "stdout",
     "output_type": "stream",
     "text": [
      "Train on 143613 samples, validate on 15958 samples\n",
      "Epoch 1/10\n",
      "143613/143613 [==============================] - 3s 19us/step - loss: 0.0729 - acc: 0.9767 - val_loss: 0.0713 - val_acc: 0.9773\n",
      "Epoch 2/10\n",
      "143613/143613 [==============================] - 3s 19us/step - loss: 0.0728 - acc: 0.9768 - val_loss: 0.0711 - val_acc: 0.9773\n",
      "Epoch 3/10\n",
      "143613/143613 [==============================] - 3s 19us/step - loss: 0.0726 - acc: 0.9768 - val_loss: 0.0710 - val_acc: 0.9773\n",
      "Epoch 4/10\n",
      "143613/143613 [==============================] - 3s 19us/step - loss: 0.0725 - acc: 0.9769 - val_loss: 0.0711 - val_acc: 0.9775\n",
      "Epoch 5/10\n",
      "143613/143613 [==============================] - 3s 19us/step - loss: 0.0723 - acc: 0.9769 - val_loss: 0.0709 - val_acc: 0.9776\n",
      "Epoch 6/10\n",
      "143613/143613 [==============================] - 3s 19us/step - loss: 0.0723 - acc: 0.9769 - val_loss: 0.0706 - val_acc: 0.9775\n",
      "Epoch 7/10\n",
      "143613/143613 [==============================] - 3s 19us/step - loss: 0.0721 - acc: 0.9770 - val_loss: 0.0706 - val_acc: 0.9776\n",
      "Epoch 8/10\n",
      "143613/143613 [==============================] - 3s 19us/step - loss: 0.0720 - acc: 0.9770 - val_loss: 0.0705 - val_acc: 0.9776\n",
      "Epoch 9/10\n",
      "143613/143613 [==============================] - 3s 19us/step - loss: 0.0720 - acc: 0.9770 - val_loss: 0.0704 - val_acc: 0.9775\n",
      "Epoch 10/10\n",
      "143613/143613 [==============================] - 3s 19us/step - loss: 0.0719 - acc: 0.9770 - val_loss: 0.0703 - val_acc: 0.9775\n"
     ]
    }
   ],
   "source": [
    "history = model_sig_nn.fit(tf_idf_train_svd, \n",
    "          Y_train, \n",
    "          batch_size = batch_size,\n",
    "          epochs=epochs, \n",
    "          verbose=1, \n",
    "          validation_data=(tf_idf_valid_svd, Y_valid), \n",
    "         )"
   ]
  },
  {
   "cell_type": "markdown",
   "metadata": {},
   "source": [
    "# T-SNE\n",
    "Visualicemos los datos con T-SNE.\n",
    "## Qué hace el siguiente código?"
   ]
  },
  {
   "cell_type": "code",
   "execution_count": 234,
   "metadata": {},
   "outputs": [
    {
     "name": "stderr",
     "output_type": "stream",
     "text": [
      "/home/cselmo/.conda/envs/doctorado-gpu/lib/python3.6/site-packages/ipykernel_launcher.py:5: FutureWarning: Using a non-tuple sequence for multidimensional indexing is deprecated; use `arr[tuple(seq)]` instead of `arr[seq]`. In the future this will be interpreted as an array index, `arr[np.array(seq)]`, which will result either in an error or a different result.\n",
      "  \"\"\"\n"
     ]
    }
   ],
   "source": [
    "toxic_idx=np.any(Y_train==1,axis=-1)\n",
    "toxic_comments=tf_idf_train_svd[toxic_idx][:500]\n",
    "toxic_size=toxic_comments.shape[0]\n",
    "notoxic_idx=[toxic_idx==0][:toxic_size]\n",
    "notoxic_comments=tf_idf_train_svd[notoxic_idx][:500]\n",
    "notoxic_size=notoxic_comments.shape[0]\n",
    "data_tsne=np.vstack([toxic_comments,notoxic_comments])\n",
    "labels_tsne=[1]*toxic_size+[0]*notoxic_size"
   ]
  },
  {
   "cell_type": "code",
   "execution_count": 235,
   "metadata": {},
   "outputs": [
    {
     "name": "stdout",
     "output_type": "stream",
     "text": [
      "toxicos  500\n",
      "no toxicos  500\n"
     ]
    },
    {
     "data": {
      "text/plain": [
       "(1000, 100)"
      ]
     },
     "execution_count": 235,
     "metadata": {},
     "output_type": "execute_result"
    }
   ],
   "source": [
    "print(\"toxicos \",toxic_size)\n",
    "print(\"no toxicos \",notoxic_size)\n",
    "data_tsne.shape"
   ]
  },
  {
   "cell_type": "code",
   "execution_count": 239,
   "metadata": {},
   "outputs": [],
   "source": [
    "from sklearn.manifold import TSNE\n",
    "#programar acá"
   ]
  },
  {
   "cell_type": "code",
   "execution_count": 240,
   "metadata": {},
   "outputs": [
    {
     "data": {
      "text/plain": [
       "(1000, 2)"
      ]
     },
     "execution_count": 240,
     "metadata": {},
     "output_type": "execute_result"
    }
   ],
   "source": [
    "train_embedded.shape"
   ]
  },
  {
   "cell_type": "code",
   "execution_count": 241,
   "metadata": {},
   "outputs": [
    {
     "data": {
      "text/plain": [
       "<function matplotlib.pyplot.show(*args, **kw)>"
      ]
     },
     "execution_count": 241,
     "metadata": {},
     "output_type": "execute_result"
    },
    {
     "data": {
      "image/png": "[encoded data removed]",
      "text/plain": [
       "<Figure size 432x288 with 1 Axes>"
      ]
     },
     "metadata": {
      "needs_background": "light"
     },
     "output_type": "display_data"
    }
   ],
   "source": [
    "from matplotlib.colors import ListedColormap as ListedColormap\n",
    "from matplotlib import pyplot as plt\n",
    "colors = ['red','green','blue','purple']\n",
    "plt.scatter(train_embedded[:,0],train_embedded[:,1],c=labels_tsne,cmap=ListedColormap(colors))\n",
    "plt.show"
   ]
  },
  {
   "cell_type": "code",
   "execution_count": 46,
   "metadata": {},
   "outputs": [
    {
     "data": {
      "text/plain": [
       "(1000, 2)"
      ]
     },
     "execution_count": 46,
     "metadata": {},
     "output_type": "execute_result"
    }
   ],
   "source": [
    "train_embedded.shape"
   ]
  },
  {
   "cell_type": "markdown",
   "metadata": {},
   "source": [
    "## SVM\n",
    "\n",
    "Considerar SVC y Linear SVC. Cómo aplica \n",
    "\n",
    "SVC: The fit time complexity is more than quadratic with the number of samples which makes it hard to scale to dataset with more than a couple of 10000 samples.\n",
    "\n",
    "LinearSVC: Also note that for the linear case, the algorithm used in LinearSVC by the liblinear implementation is much more efficient than its libsvm-based SVC counterpart and can scale almost linearly to millions of samples and/or features."
   ]
  },
  {
   "cell_type": "code",
   "execution_count": 242,
   "metadata": {},
   "outputs": [],
   "source": [
    "from sklearn.svm import LinearSVC\n",
    "from sklearn.multiclass import OneVsRestClassifier # Qué es esto???\n"
   ]
  },
  {
   "cell_type": "code",
   "execution_count": 222,
   "metadata": {},
   "outputs": [],
   "source": [
    "pred=clf.predict(tfidf_matrix_train)"
   ]
  },
  {
   "cell_type": "code",
   "execution_count": 223,
   "metadata": {},
   "outputs": [
    {
     "data": {
      "text/plain": [
       "31624"
      ]
     },
     "execution_count": 223,
     "metadata": {},
     "output_type": "execute_result"
    }
   ],
   "source": [
    "Y_train.sum()"
   ]
  },
  {
   "cell_type": "code",
   "execution_count": 224,
   "metadata": {},
   "outputs": [
    {
     "data": {
      "text/plain": [
       "26991"
      ]
     },
     "execution_count": 224,
     "metadata": {},
     "output_type": "execute_result"
    }
   ],
   "source": [
    "pred.sum()"
   ]
  },
  {
   "cell_type": "code",
   "execution_count": 225,
   "metadata": {},
   "outputs": [
    {
     "data": {
      "text/plain": [
       "(143613, 6)"
      ]
     },
     "execution_count": 225,
     "metadata": {},
     "output_type": "execute_result"
    }
   ],
   "source": [
    "Y_train.shape"
   ]
  },
  {
   "cell_type": "code",
   "execution_count": 226,
   "metadata": {},
   "outputs": [
    {
     "data": {
      "text/plain": [
       "861678"
      ]
     },
     "execution_count": 226,
     "metadata": {},
     "output_type": "execute_result"
    }
   ],
   "source": [
    "6*143613"
   ]
  },
  {
   "cell_type": "code",
   "execution_count": 227,
   "metadata": {},
   "outputs": [
    {
     "data": {
      "text/plain": [
       "0.9909351288996586"
      ]
     },
     "execution_count": 227,
     "metadata": {},
     "output_type": "execute_result"
    }
   ],
   "source": [
    "np.equal(Y_train,pred).sum()/(6*143613)"
   ]
  },
  {
   "cell_type": "code",
   "execution_count": 228,
   "metadata": {},
   "outputs": [],
   "source": [
    "pred=clf.predict(tfidf_matrix_valid)"
   ]
  },
  {
   "cell_type": "code",
   "execution_count": 229,
   "metadata": {},
   "outputs": [
    {
     "data": {
      "text/plain": [
       "3474"
      ]
     },
     "execution_count": 229,
     "metadata": {},
     "output_type": "execute_result"
    }
   ],
   "source": [
    "Y_valid.sum()"
   ]
  },
  {
   "cell_type": "code",
   "execution_count": 230,
   "metadata": {},
   "outputs": [
    {
     "data": {
      "text/plain": [
       "2591"
      ]
     },
     "execution_count": 230,
     "metadata": {},
     "output_type": "execute_result"
    }
   ],
   "source": [
    "pred.sum()"
   ]
  },
  {
   "cell_type": "code",
   "execution_count": 231,
   "metadata": {},
   "outputs": [
    {
     "data": {
      "text/plain": [
       "(15958, 6)"
      ]
     },
     "execution_count": 231,
     "metadata": {},
     "output_type": "execute_result"
    }
   ],
   "source": [
    "Y_valid.shape"
   ]
  },
  {
   "cell_type": "code",
   "execution_count": 232,
   "metadata": {},
   "outputs": [
    {
     "data": {
      "text/plain": [
       "0.9821719513723525"
      ]
     },
     "execution_count": 232,
     "metadata": {},
     "output_type": "execute_result"
    }
   ],
   "source": [
    "np.equal(Y_valid,pred).sum()/(6*15958)"
   ]
  },
  {
   "cell_type": "markdown",
   "metadata": {},
   "source": [
    "# Curva ROC\n",
    "\n",
    "¿Qué pasa con esto? ¿Cómo se puede mejorar?"
   ]
  },
  {
   "cell_type": "code",
   "execution_count": null,
   "metadata": {},
   "outputs": [],
   "source": [
    "pred_train=model_sig_nn.predict(tf_idf_train_svd)\n",
    "pred_valid=model_sig_nn.predict(tf_idf_valid_svd)"
   ]
  },
  {
   "cell_type": "code",
   "execution_count": null,
   "metadata": {},
   "outputs": [],
   "source": [
    "from sklearn.metrics import roc_auc_score\n",
    "from sklearn.metrics import roc_curve, auc\n",
    "from scipy import interp\n",
    "from itertools import cycle\n",
    "\n",
    "print(roc_auc_score(Y_train, pred_train, average='macro'))\n",
    "print(roc_auc_score(Y_valid, pred_valid, average='macro'))"
   ]
  },
  {
   "cell_type": "code",
   "execution_count": null,
   "metadata": {},
   "outputs": [],
   "source": [
    "fpr = dict()\n",
    "tpr = dict()\n",
    "roc_auc = dict()\n",
    "n_classes = Y_valid.shape[1]\n",
    "for i in range(n_classes):\n",
    "    fpr[i], tpr[i], _ = roc_curve(Y_valid[:, i], pred_valid[:, i])\n",
    "    roc_auc[i] = auc(fpr[i], tpr[i])\n",
    "    \n",
    "fpr[\"micro\"], tpr[\"micro\"], _ = roc_curve(Y_valid.ravel(), pred_valid.ravel())\n",
    "roc_auc[\"micro\"] = auc(fpr[\"micro\"], tpr[\"micro\"])"
   ]
  },
  {
   "cell_type": "code",
   "execution_count": 40,
   "metadata": {},
   "outputs": [
    {
     "data": {
      "image/png": "[encoded data removed]",
      "text/plain": [
       "<Figure size 432x288 with 1 Axes>"
      ]
     },
     "metadata": {
      "needs_background": "light"
     },
     "output_type": "display_data"
    }
   ],
   "source": [
    "from matplotlib import pyplot as plt\n",
    "# Compute macro-average ROC curve and ROC area\n",
    "lw = 2\n",
    "# First aggregate all false positive rates\n",
    "all_fpr = np.unique(np.concatenate([fpr[i] for i in range(n_classes)]))\n",
    "\n",
    "# Then interpolate all ROC curves at this points\n",
    "mean_tpr = np.zeros_like(all_fpr)\n",
    "for i in range(n_classes):\n",
    "    mean_tpr += interp(all_fpr, fpr[i], tpr[i])\n",
    "\n",
    "# Finally average it and compute AUC\n",
    "mean_tpr /= n_classes\n",
    "\n",
    "fpr[\"macro\"] = all_fpr\n",
    "tpr[\"macro\"] = mean_tpr\n",
    "roc_auc[\"macro\"] = auc(fpr[\"macro\"], tpr[\"macro\"])\n",
    "\n",
    "# Plot all ROC curves\n",
    "plt.figure()\n",
    "plt.plot(fpr[\"micro\"], tpr[\"micro\"],\n",
    "         label='micro-average ROC curve (area = {0:0.2f})'\n",
    "               ''.format(roc_auc[\"micro\"]),\n",
    "         color='deeppink', linestyle=':', linewidth=4)\n",
    "\n",
    "plt.plot(fpr[\"macro\"], tpr[\"macro\"],\n",
    "         label='macro-average ROC curve (area = {0:0.2f})'\n",
    "               ''.format(roc_auc[\"macro\"]),\n",
    "         color='navy', linestyle=':', linewidth=4)\n",
    "\n",
    "colors = cycle(['aqua', 'darkorange', 'cornflowerblue'])\n",
    "for i, color in zip(range(n_classes), colors):\n",
    "    plt.plot(fpr[i], tpr[i], color=color, lw=lw,\n",
    "             label='ROC curve of class {0} (area = {1:0.2f})'\n",
    "             ''.format(i, roc_auc[i]))\n",
    "\n",
    "plt.plot([0, 1], [0, 1], 'k--', lw=lw)\n",
    "plt.xlim([0.0, 1.0])\n",
    "plt.ylim([0.0, 1.05])\n",
    "plt.xlabel('False Positive Rate')\n",
    "plt.ylabel('True Positive Rate')\n",
    "plt.title('Some extension of Receiver operating characteristic to multi-class')\n",
    "plt.legend(loc=\"lower right\")\n",
    "plt.show()"
   ]
  }
 ],
 "metadata": {
  "kernelspec": {
   "display_name": "Python 3",
   "language": "python",
   "name": "python3"
  },
  "language_info": {
   "codemirror_mode": {
    "name": "ipython",
    "version": 3
   },
   "file_extension": ".py",
   "mimetype": "text/x-python",
   "name": "python",
   "nbconvert_exporter": "python",
   "pygments_lexer": "ipython3",
   "version": "3.7.1"
  }
 },
 "nbformat": 4,
 "nbformat_minor": 2
}
