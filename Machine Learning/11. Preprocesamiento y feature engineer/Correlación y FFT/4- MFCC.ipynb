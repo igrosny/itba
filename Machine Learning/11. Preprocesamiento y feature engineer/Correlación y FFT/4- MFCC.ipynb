{
 "cells": [
  {
   "cell_type": "markdown",
   "metadata": {},
   "source": [
    "# Banco de filtros de Mel\n",
    "\n",
    "Forma parte de la modelización de la cóclea. La cóclea no genera impulsos neuronales en relación lineal a la frecuencia, sino que lo hace siguiendo el siguiente esquema:\n",
    "\n",
    "<img src=\"mel_bank.png\" alt=\"Mel Bank\">\n",
    "\n",
    "Es por eso que para modelizar la escucha del ser humano (la cual obviamente funciona muy bien en reconocimiento de voz) en vez de trabajar con las componentes en frecuencia de la señal, se trabaja con la agrupación de ellas según el banco de filtros descripto anteriormente."
   ]
  },
  {
   "cell_type": "markdown",
   "metadata": {},
   "source": [
    "# Coeficientes [MFCC](http://haythamfayek.com/2016/04/21/speech-processing-for-machine-learning.html)\n",
    "\n",
    "MFCCs se calculan comúnmente de la siguiente forma:\n",
    "\n",
    "* Aplicar un filtro de preenfasis\n",
    "\n",
    "* Separar la señal en pequeños tramos.\n",
    "\n",
    "* A cada tramo aplicarle la Transformada de Fourier discreta y obtener la potencia espectral de la señal.\n",
    "\n",
    "* Aplicar el banco de filtros correspondientes a la Escala Mel al espectro obtenido en el paso anterior y sumar las energías en cada uno de ellos.\n",
    "* Tomar el logaritmo de todas las energías de cada frecuencia mel\n",
    "* Aplicarle la transformada de coseno discreta a estos logaritmos.\n",
    "* Estos valores obtenidos son los coeficientes que buscamos. Aunque opcionalmente se le pueden añadir otros valores como los deltas y/o los delta-deltas.\n",
    "\n"
   ]
  },
  {
   "cell_type": "code",
   "execution_count": null,
   "metadata": {},
   "outputs": [],
   "source": []
  }
 ],
 "metadata": {
  "kernelspec": {
   "display_name": "Python 3.7.3 (NLP)",
   "language": "python",
   "name": "nlp"
  },
  "language_info": {
   "codemirror_mode": {
    "name": "ipython",
    "version": 3
   },
   "file_extension": ".py",
   "mimetype": "text/x-python",
   "name": "python",
   "nbconvert_exporter": "python",
   "pygments_lexer": "ipython3",
   "version": "3.7.3"
  }
 },
 "nbformat": 4,
 "nbformat_minor": 2
}
